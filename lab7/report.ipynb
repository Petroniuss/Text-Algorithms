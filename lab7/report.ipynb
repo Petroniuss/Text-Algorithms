{
 "cells": [
  {
   "cell_type": "markdown",
   "metadata": {},
   "source": [
    "# Regular Expression Engine\n",
    "\n",
    "My implementation follows Thompson's Construction of NFA [https://en.wikipedia.org/wiki/Thompson%27s_construction]:\n",
    "- First, I add implict characters representing concatenation (`•`) and convert square brackets into unions: `[abc]` => `(a|b|c)`\n",
    "- Then, I convert the expression to postfix notation to avoid problems with order\n",
    "- Next, I convert to NFA\n",
    "- And perform searching as described in the paper.\n",
    "\n",
    "\n",
    "Supported operations:\n",
    "- dot (`.`) - represents any character\n",
    "- letters, digts, whitesymbols - literals\n",
    "- operators:\n",
    "    - zero or more `*`\n",
    "    - one or more `+`\n",
    "    - zero or one `?`\n",
    "- parentheses `(foo)`:\n",
    "    - can be nested\n",
    "    - define precedense \n",
    "    - discarded if none of the above operator follows\n",
    "\n",
    "- square brackets `[foo]`:\n",
    "    - matches any symbol within\n",
    "    - may include characters, digits.. e.g `[ab12]`\n",
    "    - or character classes:\n",
    "        - `\\d` matches any digit\n",
    "        - `\\w` matches any word character (alphanumeric & underscode)\n",
    "        - `\\s` matches any whitespace character (spaces, tabs, linebreaks)\n",
    "\n",
    "This implementation could be extended to support other operations.\n",
    "\n",
    "\n",
    "## Examples"
   ]
  },
  {
   "cell_type": "code",
   "execution_count": 1,
   "metadata": {},
   "outputs": [],
   "source": [
    "from regex_engine import *\n",
    "\n",
    "def show_steps(regex, tests):\n",
    "    print('-' * 18 + ' Compiling ' + '-' * 18)\n",
    "    parsed = initial_parse(regex)\n",
    "    postfix = to_postfix(parsed)\n",
    "\n",
    "    print('Regex:   ', regex)\n",
    "    print('Parsed:  ', parsed)\n",
    "    print('Postfix: ', postfix)\n",
    "    print('-' * 18 + ' Matching ' + '-' * 19)\n",
    "    \n",
    "    nfa = compile(regex)\n",
    "    for test in tests:\n",
    "        print(f'Case: {test}, matched => {nfa.matches(test)}')\n",
    "    \n",
    "    print('-' * 47)"
   ]
  },
  {
   "cell_type": "code",
   "execution_count": 10,
   "metadata": {},
   "outputs": [
    {
     "output_type": "stream",
     "name": "stdout",
     "text": "------------------ Compiling ------------------\nRegex:    python[ ]*((sucks)|(rules)|(<3))?[!]?\nParsed:   p•y•t•h•o•n•( )*•((s•u•c•k•s)|(r•u•l•e•s)|(<•3))?•(!)?\nPostfix:  py•t•h•o•n• *•su•c•k•s•ru•l•e•s•|<3•|?•!?•\n------------------ Matching -------------------\nCase:  , matched => False\nCase: python, matched => True\nCase: python sucks!, matched => True\nCase: python rules!, matched => True\nCase: python    <3!, matched => True\n-----------------------------------------------\n"
    }
   ],
   "source": [
    "regex = 'python[ ]*((sucks)|(rules)|(<3))?[!]?'\n",
    "\n",
    "tests = [\n",
    "    ' ',\n",
    "    'python',\n",
    "    'python sucks!', \n",
    "    'python rules!', \n",
    "    'python    <3!'\n",
    "]\n",
    "\n",
    "show_steps(regex, tests)"
   ]
  },
  {
   "cell_type": "code",
   "execution_count": 3,
   "metadata": {},
   "outputs": [
    {
     "output_type": "stream",
     "name": "stdout",
     "text": "------------------ Compiling ------------------\nRegex:    [hc]+at\nParsed:   (h|c)+•a•t\nPostfix:  hc|+a•t•\n------------------ Matching -------------------\nCase: at, matched => False\nCase: hat, matched => True\nCase: cat, matched => True\nCase: hcat, matched => True\n-----------------------------------------------\n"
    }
   ],
   "source": [
    "regex = '[hc]+at'\n",
    "\n",
    "tests = [\n",
    "    'at', \n",
    "    'hat', \n",
    "    'cat', \n",
    "    'hcat',\n",
    "]\n",
    "\n",
    "show_steps(regex, tests)"
   ]
  },
  {
   "cell_type": "code",
   "execution_count": 4,
   "metadata": {},
   "outputs": [
    {
     "output_type": "stream",
     "name": "stdout",
     "text": "------------------ Compiling ------------------\nRegex:    [a-f]?d\nParsed:   (b|a|c|e|f|d)?•d\nPostfix:  ba|c|e|f|d|?d•\n------------------ Matching -------------------\nCase: foo, matched => False\nCase: abd, matched => False\nCase: ad, matched => True\nCase: bd, matched => True\n-----------------------------------------------\n"
    }
   ],
   "source": [
    "regex = '[a-f]?d'\n",
    "tests = [\n",
    "            'foo',\n",
    "            'abd',\n",
    "            'ad',\n",
    "            'bd'\n",
    "        ]\n",
    "show_steps(regex, tests)"
   ]
  },
  {
   "cell_type": "code",
   "execution_count": 5,
   "metadata": {},
   "outputs": [
    {
     "output_type": "stream",
     "name": "stdout",
     "text": "------------------ Compiling ------------------\nRegex:    ala[\\d]*\nParsed:   a•l•a•(3|2|7|8|6|1|5|9|4|0)*\nPostfix:  al•a•32|7|8|6|1|5|9|4|0|*•\n------------------ Matching -------------------\nCase: 189, matched => False\nCase: ala, matched => True\nCase: ala89, matched => True\nCase: ala123, matched => True\nCase: ala678678055807606906707, matched => True\n-----------------------------------------------\n"
    }
   ],
   "source": [
    "regex = 'ala[\\d]*'\n",
    "tests = [\n",
    "            '189',\n",
    "            'ala',\n",
    "            'ala89',\n",
    "            'ala123',\n",
    "            'ala678678055807606906707',\n",
    "        ]\n",
    "show_steps(regex, tests)"
   ]
  },
  {
   "cell_type": "code",
   "execution_count": 6,
   "metadata": {},
   "outputs": [
    {
     "output_type": "stream",
     "name": "stdout",
     "text": "------------------ Compiling ------------------\nRegex:    ((a|b)*c)?\nParsed:   ((a|b)*•c)?\nPostfix:  ab|*c•?\n------------------ Matching -------------------\nCase: aab, matched => False\nCase: , matched => True\nCase: c, matched => True\nCase: aaabc, matched => True\nCase: ababc, matched => True\n-----------------------------------------------\n"
    }
   ],
   "source": [
    "# Example with nested parentheses\n",
    "regex = '((a|b)*c)?'\n",
    "tests = [\n",
    "            'aab',\n",
    "            '',\n",
    "            'c',\n",
    "            'aaabc',\n",
    "            'ababc',\n",
    "        ]\n",
    "show_steps(regex, tests)"
   ]
  },
  {
   "cell_type": "code",
   "execution_count": 7,
   "metadata": {},
   "outputs": [
    {
     "output_type": "stream",
     "name": "stdout",
     "text": "------------------ Compiling ------------------\nRegex:    ([\\w]*[\\s]?)*[\\w]\n|\f|\n)?)*•(I|U|V|N|s|m|x|l|1|5|4|F|B|E|f|L|w|T|t|C|Z|Q|j|9|R|W|k|G|p|q|H|P|0|n|a|J|o|K|M|6|z|X|d|u|b|3|2|D|Y|S|O|7|v|e|r|y|8|h|i|c|_|g|A)\n|\f|\n|?•*IU|V|N|s|m|x|l|1|5|4|F|B|E|f|L|w|T|t|C|Z|Q|j|9|R|W|k|G|p|q|H|P|0|n|a|J|o|K|M|6|z|X|d|u|b|3|2|D|Y|S|O|7|v|e|r|y|8|h|i|c|_|g|A|•\n------------------ Matching -------------------\nCase: Ala, matched => True\nCase: Alachcekota, matched => True\nCase: Ala ma kota, matched => True\nCase: Ala         ma         kota, matched => True\n-----------------------------------------------\n"
    }
   ],
   "source": [
    "# Matching words separated by whitesymbols without whitesymbols at the end.\n",
    "regex = '([\\w]*[\\s]?)*[\\w]'\n",
    "\n",
    "tests = [\n",
    "    'Ala', # 0\n",
    "    'Alachcekota', # 2\n",
    "    'Ala ma kota',\n",
    "    'Ala         ma         kota',\n",
    "]\n",
    "\n",
    "show_steps(regex, tests)"
   ]
  },
  {
   "cell_type": "code",
   "execution_count": 8,
   "metadata": {},
   "outputs": [
    {
     "output_type": "stream",
     "name": "stdout",
     "text": "------------------ Compiling ------------------\nRegex:    (0|(1(01*0)*1))+\nParsed:   (0|(1•(0•1*•0)*•1))+\nPostfix:  0101*•0•*•1•|+\n------------------ Matching -------------------\nCase: 0000, matched => True\nCase: 0010, matched => False\nCase: 0011, matched => True\nCase: 1001, matched => True\nCase: 1111, matched => True\n-----------------------------------------------\n"
    }
   ],
   "source": [
    "# Matching binary numbers which are multiple of 3\n",
    "regex = '(0|(1(01*0)*1))+'\n",
    "\n",
    "tests = [\n",
    "    '0000', # 0\n",
    "    '0010', # 2\n",
    "    '0011', # 3\n",
    "    '1001', # 9\n",
    "    '1111'  # 15\n",
    "]\n",
    "\n",
    "show_steps(regex, tests)"
   ]
  },
  {
   "cell_type": "code",
   "execution_count": 9,
   "metadata": {},
   "outputs": [
    {
     "output_type": "stream",
     "name": "stdout",
     "text": "------------------ Compiling ------------------\nRegex:    [-]?[\\d]*[,]?[\\d]*\nParsed:   (-)?•(3|2|7|8|6|1|5|9|4|0)*•(,)?•(3|2|7|8|6|1|5|9|4|0)*\nPostfix:  -?32|7|8|6|1|5|9|4|0|*•,?•32|7|8|6|1|5|9|4|0|*•\n------------------ Matching -------------------\nCase: non-numeric, matched => False\nCase: 13, matched => True\nCase: 123,12, matched => True\nCase: -123,12, matched => True\n-----------------------------------------------\n"
    }
   ],
   "source": [
    "# Matching numeral (I used , since . is reserved for any character)\n",
    "regex = '[-]?[\\d]*[,]?[\\d]*'\n",
    "\n",
    "tests = [\n",
    "    'non-numeric',\n",
    "    '13',\n",
    "    '123,12',\n",
    "    '-123,12'\n",
    "]\n",
    "\n",
    "show_steps(regex, tests)"
   ]
  },
  {
   "cell_type": "code",
   "execution_count": null,
   "metadata": {},
   "outputs": [],
   "source": []
  }
 ],
 "metadata": {
  "language_info": {
   "codemirror_mode": {
    "name": "ipython",
    "version": 3
   },
   "file_extension": ".py",
   "mimetype": "text/x-python",
   "name": "python",
   "nbconvert_exporter": "python",
   "pygments_lexer": "ipython3",
   "version": "3.7.7-final"
  },
  "orig_nbformat": 2,
  "kernelspec": {
   "name": "python3",
   "display_name": "Python 3"
  }
 },
 "nbformat": 4,
 "nbformat_minor": 2
}