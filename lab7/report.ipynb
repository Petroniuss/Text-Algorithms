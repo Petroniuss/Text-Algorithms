{
 "cells": [
  {
   "cell_type": "markdown",
   "metadata": {},
   "source": [
    "# Regular Expression Engine\n",
    "\n",
    "My implementation follows Thompson's Construction of NFA [https://en.wikipedia.org/wiki/Thompson%27s_construction]:\n",
    "- First, I add implict characters representing concatenation (`•`) and convert sqaure brackets into unions: `[abc]` => `(a|b|c)`\n",
    "- Then, I convert the expression to postfix notation to avoid problems with order\n",
    "- Next, I convert to NFA\n",
    "- And perform searching as described in the paper.\n",
    "\n",
    "\n",
    "Supported operations:\n",
    "- dot (`.`) - represents any character\n",
    "- letters, digts, whitesymbols - literals\n",
    "- operators:\n",
    "    - zero or more `*`\n",
    "    - one or more `+`\n",
    "    - zero or one `?`\n",
    "- parentheses `(foo)`:\n",
    "    - can be nested\n",
    "    - define precedense \n",
    "    - discarded if none of the above operator follows\n",
    "\n",
    "- square brackets `[foo]`:\n",
    "    - matches any symbol within\n",
    "    - may include characters, digits.. e.g `[ab12]`\n",
    "    - or character classes:\n",
    "        - `\\d` matches any digit\n",
    "        - `\\w` matches any word character (alphanumeric & underscode)\n",
    "        - `\\s` matches any whitespace character (spaces, tabs, linebreaks)\n",
    "\n",
    "## Examples\n",
    "\n"
   ]
  },
  {
   "cell_type": "code",
   "execution_count": 29,
   "metadata": {},
   "outputs": [],
   "source": [
    "def show_steps(regex, tests):\n",
    "    print('-' * 18 + ' Compiling ' + '-' * 18)\n",
    "    parsed = initial_parse(regex)\n",
    "    postfix = to_postfix(parsed)\n",
    "    nfa = compile(regex)\n",
    "\n",
    "    print('Regex:   ', regex)\n",
    "    print('Parsed:  ', parsed)\n",
    "    print('Postfix: ', postfix)\n",
    "    print('-' * 18 + ' Matching ' + '-' * 19)\n",
    "\n",
    "    for test in tests:\n",
    "        print(f'Case: {test}, matched => {nfa.matches(test)}')\n",
    "    \n",
    "    print('-' * 47)"
   ]
  },
  {
   "cell_type": "code",
   "execution_count": 35,
   "metadata": {},
   "outputs": [
    {
     "output_type": "stream",
     "name": "stdout",
     "text": "------------------ Compiling ------------------\nRegex:    [a-c]?d\nParsed:   (c|a|b)?•d\nPostfix:  ca|b|?d•\n------------------ Matching -------------------\nCase: foo, matched => False\nCase: abd, matched => False\nCase: ad, matched => True\nCase: bd, matched => True\n-----------------------------------------------\n"
    }
   ],
   "source": [
    "from regex_engine import *\n",
    "\n",
    "regex = '[a-c]?d'\n",
    "tests = [\n",
    "            'foo',\n",
    "            'abd',\n",
    "            'ad',\n",
    "            'bd'\n",
    "        ]\n",
    "show_steps(regex, tests)"
   ]
  },
  {
   "cell_type": "code",
   "execution_count": 42,
   "metadata": {},
   "outputs": [
    {
     "output_type": "stream",
     "name": "stdout",
     "text": "------------------ Compiling ------------------\nRegex:    ala[\\d]*\nParsed:   a•l•a•(8|5|4|7|1|3|2|6|9|0)*\nPostfix:  al•a•85|4|7|1|3|2|6|9|0|*•\n------------------ Matching -------------------\nCase: 189, matched => False\nCase: ala, matched => True\nCase: ala89, matched => True\nCase: ala123, matched => True\nCase: ala678678055807606906707, matched => True\n-----------------------------------------------\n"
    }
   ],
   "source": [
    "regex = 'ala[\\d]*'\n",
    "tests = [\n",
    "            '189',\n",
    "            'ala',\n",
    "            'ala89',\n",
    "            'ala123',\n",
    "            'ala678678055807606906707',\n",
    "        ]\n",
    "show_steps(regex, tests)"
   ]
  },
  {
   "cell_type": "code",
   "execution_count": 60,
   "metadata": {},
   "outputs": [
    {
     "output_type": "stream",
     "name": "stdout",
     "text": "------------------ Compiling ------------------\nRegex:    ((a|b)*c)?\nParsed:   ((a|b)*•c)?\nPostfix:  ab|*c•?\n------------------ Matching -------------------\nCase: aab, matched => False\nCase: , matched => True\nCase: c, matched => True\nCase: aaabc, matched => True\nCase: ababc, matched => True\n-----------------------------------------------\n"
    }
   ],
   "source": [
    "# Example with nested parentheses\n",
    "regex = '((a|b)*c)?'\n",
    "tests = [\n",
    "            'aab',\n",
    "            '',\n",
    "            'c',\n",
    "            'aaabc',\n",
    "            'ababc',\n",
    "        ]\n",
    "show_steps(regex, tests)"
   ]
  },
  {
   "cell_type": "code",
   "execution_count": 59,
   "metadata": {},
   "outputs": [
    {
     "output_type": "stream",
     "name": "stdout",
     "text": "------------------ Compiling ------------------\nRegex:    [hc]?at\nParsed:   (h|c)?•a•t\nPostfix:  hc|?a•t•\n------------------ Matching -------------------\nCase: hcat, matched => False\nCase: at, matched => True\nCase: hat, matched => True\nCase: cat, matched => True\n-----------------------------------------------\n"
    }
   ],
   "source": [
    "regex = '[hc]?at'\n",
    "\n",
    "tests = [\n",
    "    'hcat',\n",
    "    'at', # 0\n",
    "    'hat', # 2\n",
    "    'cat', # 3\n",
    "]\n",
    "\n",
    "show_steps(regex, tests)"
   ]
  },
  {
   "cell_type": "code",
   "execution_count": 56,
   "metadata": {},
   "outputs": [
    {
     "output_type": "stream",
     "name": "stdout",
     "text": "------------------ Compiling ------------------\nRegex:    (0|(1(01*0)*1))+\nParsed:   (0|(1•(0•1*•0)*•1))+\nPostfix:  0101*•0•*•1•|+\n------------------ Matching -------------------\nCase: 0000, matched => True\nCase: 0010, matched => False\nCase: 0011, matched => True\nCase: 1001, matched => True\nCase: 1111, matched => True\n-----------------------------------------------\n"
    }
   ],
   "source": [
    "# Matching binary numbers which are multiple of 3\n",
    "regex = '(0|(1(01*0)*1))+'\n",
    "\n",
    "tests = [\n",
    "    '0000', # 0\n",
    "    '0010', # 2\n",
    "    '0011', # 3\n",
    "    '1001', # 9\n",
    "    '1111'  # 15\n",
    "]\n",
    "\n",
    "show_steps(regex, tests)"
   ]
  },
  {
   "cell_type": "code",
   "execution_count": 61,
   "metadata": {},
   "outputs": [
    {
     "output_type": "stream",
     "name": "stdout",
     "text": "------------------ Compiling ------------------\nRegex:    [-]?[\\d]*[,]?[\\d]*\nParsed:   (-)?•(8|5|4|7|1|3|2|6|9|0)*•(,)?•(8|5|4|7|1|3|2|6|9|0)*\nPostfix:  -?85|4|7|1|3|2|6|9|0|*•,?•85|4|7|1|3|2|6|9|0|*•\n------------------ Matching -------------------\nCase: not-numeric, matched => False\nCase: 13, matched => True\nCase: 123,12, matched => True\nCase: -123,12, matched => True\n-----------------------------------------------\n"
    }
   ],
   "source": [
    "# Matching numeral (I used , since . is reserved for any character)\n",
    "regex = '[-]?[\\d]*[,]?[\\d]*'\n",
    "\n",
    "tests = [\n",
    "    'not-numeric',\n",
    "    '13',\n",
    "    '123,12',\n",
    "    '-123,12'\n",
    "]\n",
    "\n",
    "show_steps(regex, tests)"
   ]
  },
  {
   "cell_type": "code",
   "execution_count": null,
   "metadata": {},
   "outputs": [],
   "source": []
  }
 ],
 "metadata": {
  "language_info": {
   "codemirror_mode": {
    "name": "ipython",
    "version": 3
   },
   "file_extension": ".py",
   "mimetype": "text/x-python",
   "name": "python",
   "nbconvert_exporter": "python",
   "pygments_lexer": "ipython3",
   "version": "3.7.7-final"
  },
  "orig_nbformat": 2,
  "kernelspec": {
   "name": "python3",
   "display_name": "Python 3"
  }
 },
 "nbformat": 4,
 "nbformat_minor": 2
}