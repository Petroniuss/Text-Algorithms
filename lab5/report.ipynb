{
 "cells": [
  {
   "cell_type": "code",
   "execution_count": 1,
   "metadata": {},
   "outputs": [],
   "source": [
    "import aho_corasick\n",
    "import bird_baker\n",
    "import utils\n",
    "import numpy as np\n",
    "import cv2"
   ]
  },
  {
   "cell_type": "markdown",
   "metadata": {},
   "source": [
    "# Testing Aho-Corasick algorithm\n",
    "\n",
    "Each node in built trie is associated with:\n",
    "\n",
    "- id \n",
    "\n",
    "- state: Accepting (one or more patterns) or NotAccepting\n",
    "\n",
    "- failure link (when node cannot match given character it 'fails' using failure link) \n",
    "\n",
    "Note that root 'fails' to itself."
   ]
  },
  {
   "cell_type": "code",
   "execution_count": 5,
   "metadata": {
    "tags": [
     "outputPrepend",
     "outputPrepend",
     "outputPrepend",
     "outputPrepend",
     "outputPrepend",
     "outputPrepend",
     "outputPrepend"
    ]
   },
   "outputs": [
    {
     "output_type": "stream",
     "name": "stdout",
     "text": "---Root---\nNode#0, v = ROOT, output = NoT Accepting, fail = #0\n Node#1, v = s, output = NoT Accepting, fail = #0\n  Node#2, v = e, output = NoT Accepting, fail = #7\n   Node#3, v = a, output = NoT Accepting, fail = #8\n    Node#4, v = r, output = {Accepting(1)}, fail = #9\n     Node#5, v = c, output = NoT Accepting, fail = #12\n      Node#6, v = h, output = {Accepting(2), Accepting(0)}, fail = #13\n Node#7, v = e, output = NoT Accepting, fail = #0\n  Node#8, v = a, output = NoT Accepting, fail = #10\n   Node#9, v = r, output = {Accepting(1)}, fail = #11\n Node#10, v = a, output = NoT Accepting, fail = #0\n  Node#11, v = r, output = NoT Accepting, fail = #0\n   Node#12, v = c, output = NoT Accepting, fail = #14\n    Node#13, v = h, output = {Accepting(2)}, fail = #15\n Node#14, v = c, output = NoT Accepting, fail = #0\n  Node#15, v = h, output = NoT Accepting, fail = #0\n   Node#16, v = a, output = NoT Accepting, fail = #10\n    Node#17, v = r, output = NoT Accepting, fail = #11\n     Node#18, v = t, output = {Accepting(3)}, fail = #0\n----------------------------------------------------------------\n\nFinal states: {0: {6}, 1: {9, 4}, 2: {13, 6}, 3: {18}}\nSearching for matches...\nFound ear at 0\nFound arch at 1\n----------------------------------------------------------------\n"
    }
   ],
   "source": [
    "text = \"earch\"\n",
    "patterns = ['search', 'ear', 'arch', 'chart']\n",
    "root = aho_corasick.preprocess(patterns)\n",
    "\n",
    "print(root)\n",
    "print('Final states:', root.get_final_states())\n",
    "\n",
    "aho_corasick.print_matches(text, patterns)"
   ]
  },
  {
   "cell_type": "code",
   "execution_count": 6,
   "metadata": {},
   "outputs": [
    {
     "output_type": "stream",
     "name": "stdout",
     "text": "---Root---\nNode#0, v = ROOT, output = NoT Accepting, fail = #0\n Node#1, v = b, output = NoT Accepting, fail = #0\n  Node#2, v = a, output = NoT Accepting, fail = #4\n   Node#3, v = a, output = {Accepting(0)}, fail = #4\n   Node#7, v = b, output = {Accepting(2)}, fail = #5\n Node#4, v = a, output = NoT Accepting, fail = #0\n  Node#5, v = b, output = NoT Accepting, fail = #1\n   Node#6, v = b, output = {Accepting(1)}, fail = #1\n----------------------------------------------------------------\n\nFinal states: {0: {3}, 1: {6}, 2: {7}}\nSearching for matches...\nFound baa at 0\nFound bab at 3\nFound abb at 4\n----------------------------------------------------------------\n"
    }
   ],
   "source": [
    "patterns = ['baa', 'abb', 'bab']\n",
    "root = aho_corasick.preprocess(patterns)\n",
    "\n",
    "print(root)\n",
    "print('Final states:', root.get_final_states())\n",
    "\n",
    "aho_corasick.print_matches('baababb', patterns)"
   ]
  },
  {
   "cell_type": "markdown",
   "metadata": {},
   "source": [
    "Looking good ..."
   ]
  },
  {
   "cell_type": "markdown",
   "metadata": {},
   "source": [
    "# Two Dimensional Pattern Searching\n",
    "\n",
    "Using Bird-Baker algorithm in a row fashion."
   ]
  },
  {
   "cell_type": "code",
   "execution_count": 7,
   "metadata": {},
   "outputs": [
    {
     "output_type": "stream",
     "name": "stdout",
     "text": "[['a' 'a']\n ['a' 'a']]\n\n[['a' 'a' 'a']\n ['a' 'a' 'a']\n ['a' 'a' 'a']]\n\n{0: {2}, 1: {2}}\nMatches at: [(0, 0), (0, 1), (1, 0), (1, 1)]\n"
    }
   ],
   "source": [
    "X = np.array([list(s) for s in ['aa', 'aa']])\n",
    "Y = np.array([list(s) for s in ['aaa', 'aaa', 'aaa']])\n",
    "\n",
    "print(X, end = '\\n\\n')\n",
    "print(Y, end = '\\n\\n')\n",
    "\n",
    "print(aho_corasick.preprocess(X).get_final_states())\n",
    "print('Matches at:', list(bird_baker.bird_baker(Y, X)))"
   ]
  },
  {
   "cell_type": "code",
   "execution_count": 8,
   "metadata": {},
   "outputs": [
    {
     "output_type": "stream",
     "name": "stdout",
     "text": "[['a' 'c' 'a']\n ['b' 'b' 'a']\n ['c' 'a' 'b']]\n\n[['a' 'c' 'a' 'b']\n ['b' 'b' 'a' 'b']\n ['c' 'a' 'b' 'b']]\n\nFinal states: {0: {3}, 1: {6}, 2: {9}}\nMatches at: [(0, 0)]\n"
    }
   ],
   "source": [
    "X = np.array([list(s) for s in ['aca', 'bba', 'cab']])\n",
    "Y = np.array([list(s) for s in ['acab', 'bbab', 'cabb']])\n",
    "\n",
    "print(X, end = '\\n\\n')\n",
    "print(Y, end = '\\n\\n')\n",
    "\n",
    "print('Final states:', aho_corasick.preprocess(X).get_final_states())\n",
    "print('Matches at:', list(bird_baker.bird_baker(Y, X)))"
   ]
  },
  {
   "cell_type": "markdown",
   "metadata": {},
   "source": [
    "## Matching on non-rectangular patterns"
   ]
  },
  {
   "cell_type": "code",
   "execution_count": 9,
   "metadata": {},
   "outputs": [
    {
     "output_type": "stream",
     "name": "stdout",
     "text": "['a', 'c', 'a']\n['b', 'b', 'a']\n['c', 'a', 'b', 'e']\n\n['a', 'c', 'a', 'c', 'a']\n['b', 'b', 'a', 'b', 'f']\n['c', 'a', 'b', 'e', 'd']\n\nFinal states: {0: {3}, 1: {6}, 2: {10}}\nMatches at: [(0, 0)]\n"
    }
   ],
   "source": [
    "X = [list(s) for s in ['aca', 'bba', 'cabe']]\n",
    "Y = [list(s) for s in ['acaca', 'bbabf', 'cabed']]\n",
    "\n",
    "for row in X:\n",
    "    print(row)\n",
    "print()\n",
    "for row in Y:\n",
    "    print(row)\n",
    "print()\n",
    "\n",
    "print('Final states:', aho_corasick.preprocess(X).get_final_states())\n",
    "print('Matches at:', list(bird_baker.bird_baker(Y, X)))"
   ]
  },
  {
   "cell_type": "markdown",
   "metadata": {},
   "source": [
    "## Matching on haystack.txt\n",
    "### Searching for the same letter appearing one below the other.\n",
    "\n",
    "Notes:\n",
    "- I printed the text with indices to verify correctness\n",
    "- All positions conform to this notation: (row, column) of top-left character in pattern \n",
    "- Algorithm is case-sensitive"
   ]
  },
  {
   "cell_type": "code",
   "execution_count": 10,
   "metadata": {},
   "outputs": [
    {
     "output_type": "stream",
     "name": "stdout",
     "text": "Id. 0000000000111111111122222222223333333333444444444455555555556666666666777777777788888\n0 . One of the simplest and n a t u r a l types of information representation is by means\n1 . of written texts. This type of d a t a is characterized by t h e fact t h a t it can\n2 . be written down as a long sequence of characters. Such linear a sequence\n3 . is called a text. T h e texts are central in \"word processing\" systems, which\n4 . provide facilities for t h e manipulation of texts. Such systems usually process\n5 . objects t h a t are quite large. For example, this book probably contains more\n6 . t h a n a million characters. Text algorithms occur in many areas of science and\n7 . information processing. Many text editors and programming languages have\n8 . facilities for processing texts. In biology, text algorithms arise in the study\n9 . of molecular sequences. T h e complexity of text algorithms is also one of t h e\n10. central and most studied problems in theoretical computer science. It could\n11. be said t h a t it is the domain in which practice and theory are very close to\n12. each other.\n13. T h e basic textual problem in stringology is called pattern matching. It is\n14. used to access information and, no doubt, at this moment m a n y computers\n15. are solving this problem as a frequently used operation in some application\n16. system. P a t t e r n matching is comparable in this sense to sorting, or to basic\n17. arithmetic operations.\n18. Consider the problem of a reader of the French dictionary \" G r a n d Larousse,\"\n19. who wants all entries related to the n a m e \"Marie-Curie-Sklodowska.\" This is\n20. a n example of a p a t t e r n matching problem, or string matching. In this case,\n21. the n a m e \"Marie-Curie-Sklodowska\" is the p a t t e r n . Generally we m a y want to\n22. find a string called a pattern of length m inside a text of length n, where n is\n23. greater t h a n m. T h e p a t t e r n can be described in a more complex way to denote\n24. a set of strings and not just a single word. In many cases n is very large. In\n25. genetics the p a t t e r n can correspond to a gene t h a t can be very long; in image\n26. \n27. T h e search of words or p a t t e r n s in static texts is quite a different question\n28. t h a n the previous pattern-matching mechanism. Dictionaries, for example,\n29. are organized in order to speed u p the access to entries. Another example\n30. of the same question is given by indexes. Technical books often contain a n\n31. index of chosen terms t h a t gives pointers to p a r t s of the text related to words\n32. in the index. T h e algorithms involved in the creation of an index form a\n33. specific group. T h e use of dictionaries or lexicons is often related t o n a t u r a l\n34. language processing. Lexicons of programming languages are small, and their\n35. representation is not a difficult problem during the development of a compiler.\n36. To the contrary, English contains approximately 100,000 words, a n d even twice\n37. t h a t if inflected forms are considered. In French, inflected forms produce more\n38. t h a n 700,000 words. T h e representation of lexicons of this size makes the\n39. problem a bit more challenging.\n40. A simple use of dictionaries is illustrated by spelling checkers. T h e UNIX\n41. command, spell, reports the words in its input t h a t are not stored in the lexi-\n42. con. This rough approach does not yield a pertinent checker, b u t , practically,\n43. it helps to find typing errors. T h e lexicon used by spell contains approxi-\n44. mately 70,000 entries stored within less t h a n 60 kilobytes of random-access\n45. memory. Quick access to lexicons is a necessary condition for producing good\n46. parsers. T h e d a t a structure useful for such access is called an index. In our\n47. book indexes correspond to d a t a structures representing all factors of a given\n48. (presumably long) text. We consider problems related to the construction of\n49. such structures: suffix t r e e s , d i r e c t e d a c y c l i c w o r d g r a p h s , f a c t o r a u -\n50. t o m a t a , suffix arrays. T h e PAT\n51. tool developed at the N O E D Center\n52. (Waterloo, Canada) is an implementation of one of these structures tailored\n53. to work on large texts. There are several applications t h a t effectively require\n54. some understanding of phrases in n a t u r a l languages, such as d a t a retrieval\n55. systems, interactive software, a n d character recognition.\n56. An image scanner is a kind of photocopier. It is used to give a digitized\n57. version of a n image. W h e n the image is a page of text, the n a t u r a l o u t p u t of the\n58. scanner must be in a digital form available to a text editor. T h e transformation\n59. of a digitized image of a text into a usual computer representation of the text\n60. is realized by a n Optical Character Recognition ( O C R ) . Scanning a text with\n61. an O C R can be 50 times faster t h a n retyping the text on a keyboard. T h u s ,\n62. O C R softwares are likely to become more common. B u t they still suffer from\n63. a high degree of imprecision. T h e average rate of error in the recognition of\n64. characters is approximately one percent. Even if this may h a p p e n to be rather\n65. small, this means t h a t scanning a book produces approximately one error per\n66. line. This is compared with the usually very high quality of texts checked\n67. by specialists. Technical improvements on the hardware can help eliminate\n68. certain kinds of errors occurring on scanned texts in printed forms. But this\n69. cannot alleviate the problem associated with recognizing texts in printed forms.\n70. Reduction of the number of errors can thus only be achieved by considering the\n71. context of the characters, which assumes some understanding of the structure\n72. of the text. Image processing is related to the problem of two-dimensional\n73. pattern matching. Another related problem is the data structure for all\n74. subimages, which is discussed in this book in the context of the dictionary\n75. of basic factors.\n76. The theoretical approach to the representation of lexicons is either by means\n77. of trees or finite state automata. It appears that both approaches are equally\n78. efficient. This shows the practical importance of the automata theoretic\n79. approach to text problems. At LITP (Paris) and IGM (Marne-la-Vallee)\n80. we have shown that the use of automata to represent lexicons is particularly\n81. efficient. Experiments have been done on a 700,000 word lexicon of LADL\n82. (Paris). The representation supports direct access to any word of the lexicon\n83. and takes only 300 kilobytes of random-access memory.\n84. \n"
    }
   ],
   "source": [
    "txt = utils.read_text('haystack.txt')\n",
    "\n",
    "print('Id. ', end = '')\n",
    "for i in range(len(txt)):\n",
    "    print(f'{i // 10}', end = '')\n",
    "print()\n",
    "for i, row in enumerate(txt):\n",
    "    print('{:2s}. {}'.format(str(i), row))"
   ]
  },
  {
   "cell_type": "code",
   "execution_count": 11,
   "metadata": {},
   "outputs": [
    {
     "output_type": "stream",
     "name": "stdout",
     "text": "Found 28 matches for [['a'], ['a']] at:\n      -(0, 82)\n      -(3, 30)\n      -(5, 60)\n      -(6, 63)\n      -(20, 6)\n      -(28, 69)\n      -(31, 50)\n      -(31, 73)\n      -(33, 66)\n      -(37, 4)\n      -(52, 12)\n      -(53, 12)\n      -(53, 48)\n      -(56, 11)\n      -(57, 36)\n      -(58, 36)\n      -(59, 24)\n      -(64, 2)\n      -(64, 14)\n      -(64, 22)\n      -(65, 35)\n      -(69, 35)\n      -(76, 21)\n      -(76, 74)\n      -(77, 42)\n      -(77, 61)\n      -(78, 59)\n      -(79, 37)\nFound 6 matches for [['c'], ['c']] at:\n      -(3, 54)\n      -(10, 45)\n      -(13, 10)\n      -(41, 0)\n      -(68, 0)\n      -(82, 41)\nFound 1 matches for [['d'], ['d']] at:\n      -(37, 19)\nFound 48 matches for [['e'], ['e']] at:\n      -(0, 63)\n      -(1, 8)\n      -(4, 77)\n      -(7, 65)\n      -(10, 1)\n      -(10, 64)\n      -(14, 2)\n      -(15, 43)\n      -(17, 6)\n      -(18, 27)\n      -(20, 10)\n      -(21, 61)\n      -(22, 53)\n      -(24, 3)\n      -(24, 65)\n      -(28, 67)\n      -(28, 73)\n      -(29, 38)\n      -(29, 43)\n      -(37, 48)\n      -(40, 11)\n      -(40, 26)\n      -(41, 57)\n      -(42, 36)\n      -(42, 48)\n      -(46, 52)\n      -(47, 50)\n      -(51, 31)\n      -(57, 54)\n      -(58, 50)\n      -(58, 54)\n      -(59, 73)\n      -(63, 66)\n      -(65, 69)\n      -(66, 72)\n      -(67, 17)\n      -(68, 46)\n      -(69, 15)\n      -(70, 49)\n      -(71, 38)\n      -(72, 23)\n      -(73, 27)\n      -(76, 6)\n      -(77, 6)\n      -(78, 65)\n      -(80, 6)\n      -(81, 14)\n      -(82, 47)\nFound 2 matches for [['f'], ['f']] at:\n      -(30, 59)\n      -(77, 1)\nFound 4 matches for [['h'], ['h']] at:\n      -(27, 2)\n      -(37, 2)\n      -(56, 31)\n      -(73, 12)\nFound 13 matches for [['i'], ['i']] at:\n      -(1, 5)\n      -(8, 37)\n      -(9, 60)\n      -(19, 55)\n      -(31, 0)\n      -(31, 31)\n      -(44, 33)\n      -(52, 69)\n      -(55, 17)\n      -(60, 45)\n      -(68, 51)\n      -(73, 13)\n      -(77, 13)\nFound 5 matches for [['l'], ['l']] at:\n      -(28, 72)\n      -(33, 45)\n      -(41, 77)\n      -(46, 61)\n      -(53, 45)\nFound 5 matches for [['m'], ['m']] at:\n      -(16, 5)\n      -(28, 70)\n      -(34, 40)\n      -(34, 60)\n      -(44, 0)\nFound 15 matches for [['n'], ['n']] at:\n      -(0, 83)\n      -(1, 9)\n      -(14, 54)\n      -(19, 37)\n      -(20, 56)\n      -(21, 62)\n      -(31, 1)\n      -(35, 18)\n      -(51, 32)\n      -(54, 33)\n      -(56, 13)\n      -(64, 29)\n      -(67, 35)\n      -(67, 40)\n      -(67, 57)\nFound 21 matches for [['o'], ['o']] at:\n      -(4, 75)\n      -(5, 66)\n      -(6, 38)\n      -(7, 38)\n      -(10, 27)\n      -(15, 60)\n      -(27, 17)\n      -(28, 17)\n      -(30, 58)\n      -(32, 34)\n      -(33, 11)\n      -(33, 26)\n      -(41, 1)\n      -(44, 55)\n      -(50, 2)\n      -(52, 8)\n      -(53, 1)\n      -(58, 45)\n      -(71, 42)\n      -(79, 10)\n      -(81, 52)\nFound 2 matches for [['p'], ['p']] at:\n      -(28, 71)\n      -(41, 18)\nFound 21 matches for [['r'], ['r']] at:\n      -(1, 4)\n      -(6, 39)\n      -(6, 50)\n      -(7, 13)\n      -(15, 18)\n      -(17, 14)\n      -(19, 54)\n      -(20, 54)\n      -(28, 65)\n      -(31, 70)\n      -(33, 10)\n      -(33, 37)\n      -(43, 25)\n      -(46, 42)\n      -(47, 37)\n      -(52, 5)\n      -(55, 40)\n      -(60, 30)\n      -(62, 39)\n      -(67, 29)\n      -(69, 22)\nFound 19 matches for [['s'], ['s']] at:\n      -(3, 57)\n      -(3, 63)\n      -(4, 49)\n      -(8, 21)\n      -(9, 58)\n      -(28, 45)\n      -(29, 56)\n      -(30, 56)\n      -(37, 34)\n      -(40, 63)\n      -(45, 34)\n      -(46, 44)\n      -(49, 14)\n      -(52, 53)\n      -(54, 0)\n      -(67, 37)\n      -(70, 41)\n      -(71, 24)\n      -(79, 24)\nFound 41 matches for [['t'], ['t']] at:\n      -(0, 7)\n      -(1, 6)\n      -(1, 7)\n      -(3, 37)\n      -(4, 14)\n      -(4, 23)\n      -(7, 29)\n      -(8, 75)\n      -(13, 55)\n      -(15, 12)\n      -(16, 3)\n      -(19, 33)\n      -(22, 8)\n      -(23, 4)\n      -(24, 4)\n      -(27, 31)\n      -(28, 23)\n      -(28, 52)\n      -(30, 16)\n      -(35, 10)\n      -(37, 0)\n      -(41, 45)\n      -(41, 73)\n      -(46, 24)\n      -(50, 0)\n      -(51, 33)\n      -(52, 61)\n      -(54, 11)\n      -(55, 54)\n      -(58, 49)\n      -(58, 78)\n      -(59, 33)\n      -(59, 75)\n      -(61, 56)\n      -(67, 71)\n      -(69, 5)\n      -(71, 3)\n      -(72, 3)\n      -(72, 10)\n      -(72, 59)\n      -(77, 22)\nFound 2 matches for [['w'], ['w']] at:\n      -(1, 3)\n      -(21, 70)\nFound 1 matches for [['x'], ['x']] at:\n      -(28, 68)\nFound 1 matches for [['y'], ['y']] at:\n      -(44, 5)\n"
    }
   ],
   "source": [
    "import string \n",
    "\n",
    "for letter in string.ascii_letters:\n",
    "    pattern = [[letter], [letter]]\n",
    "    Y, X = txt, pattern\n",
    "    found = list(bird_baker.bird_baker(Y, X))\n",
    "    if found:\n",
    "        print(f'Found {len(found)} matches for {pattern} at:')\n",
    "        for pos in found:\n",
    "            print(' ' * 6 + '-' + str(pos))"
   ]
  },
  {
   "cell_type": "markdown",
   "metadata": {},
   "source": [
    "### Searching for `th` and `t h` in two consecutive lines\n",
    "\n",
    "Now, as I did not find any matches for given pattern I checked for some other combinations (although I am pretty sure this is correct result)"
   ]
  },
  {
   "cell_type": "code",
   "execution_count": 12,
   "metadata": {},
   "outputs": [
    {
     "output_type": "stream",
     "name": "stdout",
     "text": "Found 1 matches for ['t h', 't h'] at:\n      -(37, 0)\n"
    }
   ],
   "source": [
    "patterns = [\n",
    "    ['th',  't h'],\n",
    "    ['t h', 't h'],\n",
    "    ['th',  'th'],\n",
    "]\n",
    "\n",
    "for pattern in patterns:\n",
    "    Y, X = txt, pattern\n",
    "    found = list(bird_baker.bird_baker(Y, X))\n",
    "    if found:\n",
    "        print(f'Found {len(found)} matches for {pattern} at:')\n",
    "        for pos in found:\n",
    "            print(' ' * 6 + '-' + str(pos))"
   ]
  },
  {
   "cell_type": "markdown",
   "metadata": {},
   "source": [
    "### Calculating number of occurences of selected letter in haystack.txt"
   ]
  },
  {
   "cell_type": "code",
   "execution_count": 13,
   "metadata": {},
   "outputs": [
    {
     "output_type": "stream",
     "name": "stdout",
     "text": "Found 187 matches for [h]\nFound 11 matches for [q]\nFound 7 matches for [z]\nFound 38 matches for [w]\nFound 369 matches for [o]\nFound 397 matches for [a]\n"
    }
   ],
   "source": [
    "chosen = ['h', 'q', 'z', 'w', 'o', 'a']\n",
    "freq = {}\n",
    "\n",
    "for letter in chosen:\n",
    "    pattern = [[letter]]\n",
    "    Y, X = txt, pattern\n",
    "\n",
    "    found = list(bird_baker.bird_baker(Y, X))\n",
    "    print(f'Found {len(found)} matches for [{letter}]')\n",
    "    freq[letter] = len(found)"
   ]
  },
  {
   "cell_type": "code",
   "execution_count": 14,
   "metadata": {},
   "outputs": [
    {
     "output_type": "stream",
     "name": "stdout",
     "text": "Found 5 matches for ['p a t t e r n'] at:\n      -(20, 17)\n      -(21, 44)\n      -(23, 25)\n      -(25, 13)\n      -(27, 25)\n"
    }
   ],
   "source": [
    "pattern = ['p a t t e r n']\n",
    "\n",
    "Y, X = txt, pattern\n",
    "found = list(bird_baker.bird_baker(Y, X))\n",
    "if found:\n",
    "    print(f'Found {len(found)} matches for {pattern} at:')\n",
    "    for pos in found:\n",
    "        print(' ' * 6 + '-' + str(pos))"
   ]
  },
  {
   "cell_type": "markdown",
   "metadata": {},
   "source": [
    "# Matching text on images"
   ]
  },
  {
   "cell_type": "code",
   "execution_count": 15,
   "metadata": {},
   "outputs": [
    {
     "output_type": "display_data",
     "data": {
      "text/plain": "<Figure size 576x576 with 6 Axes>",
      "image/svg+xml": "<?xml version=\"1.0\" encoding=\"utf-8\" standalone=\"no\"?>\r\n<!DOCTYPE svg PUBLIC \"-//W3C//DTD SVG 1.1//EN\"\r\n  \"http://www.w3.org/Graphics/SVG/1.1/DTD/svg11.dtd\">\r\n<!-- Created with matplotlib (https://matplotlib.org/) -->\r\n<svg height=\"461.945291pt\" version=\"1.1\" viewBox=\"0 0 480.919586 461.945291\" width=\"480.919586pt\" xmlns=\"http://www.w3.org/2000/svg\" xmlns:xlink=\"http://www.w3.org/1999/xlink\">\r\n <defs>\r\n  <style type=\"text/css\">\r\n*{stroke-linecap:butt;stroke-linejoin:round;}\r\n  </style>\r\n </defs>\r\n <g id=\"figure_1\">\r\n  <g id=\"patch_1\">\r\n   <path d=\"M 0 461.945291 \r\nL 480.919586 461.945291 \r\nL 480.919586 0 \r\nL 0 0 \r\nz\r\n\" style=\"fill:none;\"/>\r\n  </g>\r\n  <g id=\"axes_1\">\r\n   <g id=\"patch_2\">\r\n    <path d=\"M 26.925 196.847059 \r\nL 158.219118 196.847059 \r\nL 158.219118 7.2 \r\nL 26.925 7.2 \r\nz\r\n\" style=\"fill:#ffffff;\"/>\r\n   </g>\r\n   <g clip-path=\"url(#p56d7390846)\">\r\n    <image height=\"190\" id=\"image3bca6ceff4\" transform=\"scale(1 -1)translate(0 -190)\" width=\"132\" x=\"26.925\" xlink:href=\"data:image/png;base64,\r\niVBORw0KGgoAAAANSUhEUgAAAIQAAAC+CAYAAAD0padsAAAABHNCSVQICAgIfAhkiAAAAqdJREFUeJzt3a1OXFEUgNGZZgwOJH5eBoJDgkfjCe+CR6AwGAye8B6ARE5NRT/VZk/LT1jL75wrvmxz5t5ZbjabzQJ++fHRD8DnIghCEIQgCEEQgiAEQQiCEAQhCEIQhCAIQRCCIARBCIIQBCEIQhCEIAhBEIIgBEEIghAEIQhCEIQgiOVisfCy7yd1fHw8mru+vh6faUMQgiAEQQiCEAQhCEIQhCAIQRCCIARBCIIQBCEIYrW3tzcefn19/YePwmdgQxCCIARBCIIQBCEIQhCEIAhBEIIgBEEIghAEsXx4eBi/7HtycjKau7u7mx65WK/X41n+zIYgBEEIghAEIQhCEIQgCEEQgiAEQQiCEAQhCEIQxHKz2Yyvv29vb0dz5+fn0yMX9/f349n9/f3x7HdhQxCCIARBCIIQBCEIQhCEIAhBEIIgBEEIghAEIQhitc3w4eHhaO7l5WV85sHBwXh2enW+u7s7PvOrsSEIQRCCIARBCIIQBCEIQhCEIAhBEIIgBEEIgtjqtnPq9PR0PPv8/DyePTo6Gs1t823unZ2d8exHsCEIQRCCIARBCIIQBCEIQhCEIAhBEIIgBEEIghAEsdW3rr+ai4uL0dzj4+P4zJubm/HsavX+v06wIQhBEIIgBEEIghAEIQhCEIQgCEEQgiAEQQiCEATxra6/p87Ozsazb29v49mrq6vR3HK5HJ9pQxCCIARBCIIQBCEIQhCEIAhBEIIgBEEIghAEsdrmZoz/a71ej+YuLy/HZ9oQhCAIQRCCIARBCIIQBCEIQhCEIAhBEIIgBEEIgviQv3rm7zw9Pb37mTYEIQhCEIQgCEEQgiAEQQiCEAQhCEIQhCAIQRArXzbmdzYEIQhCEIQgCEEQgiAEQQiCEAQhCEIQhCAIQRCCIH4CsppGxfz7VG0AAAAASUVORK5CYII=\" y=\"-6.847059\"/>\r\n   </g>\r\n   <g id=\"matplotlib.axis_1\">\r\n    <g id=\"xtick_1\">\r\n     <g id=\"line2d_1\">\r\n      <defs>\r\n       <path d=\"M 0 0 \r\nL 0 3.5 \r\n\" id=\"md1a50f5a35\" style=\"stroke:#000000;stroke-width:0.8;\"/>\r\n      </defs>\r\n      <g>\r\n       <use style=\"stroke:#000000;stroke-width:0.8;\" x=\"34.219118\" xlink:href=\"#md1a50f5a35\" y=\"196.847059\"/>\r\n      </g>\r\n     </g>\r\n     <g id=\"text_1\">\r\n      <!-- 0.0 -->\r\n      <defs>\r\n       <path d=\"M 31.78125 66.40625 \r\nQ 24.171875 66.40625 20.328125 58.90625 \r\nQ 16.5 51.421875 16.5 36.375 \r\nQ 16.5 21.390625 20.328125 13.890625 \r\nQ 24.171875 6.390625 31.78125 6.390625 \r\nQ 39.453125 6.390625 43.28125 13.890625 \r\nQ 47.125 21.390625 47.125 36.375 \r\nQ 47.125 51.421875 43.28125 58.90625 \r\nQ 39.453125 66.40625 31.78125 66.40625 \r\nz\r\nM 31.78125 74.21875 \r\nQ 44.046875 74.21875 50.515625 64.515625 \r\nQ 56.984375 54.828125 56.984375 36.375 \r\nQ 56.984375 17.96875 50.515625 8.265625 \r\nQ 44.046875 -1.421875 31.78125 -1.421875 \r\nQ 19.53125 -1.421875 13.0625 8.265625 \r\nQ 6.59375 17.96875 6.59375 36.375 \r\nQ 6.59375 54.828125 13.0625 64.515625 \r\nQ 19.53125 74.21875 31.78125 74.21875 \r\nz\r\n\" id=\"DejaVuSans-48\"/>\r\n       <path d=\"M 10.6875 12.40625 \r\nL 21 12.40625 \r\nL 21 0 \r\nL 10.6875 0 \r\nz\r\n\" id=\"DejaVuSans-46\"/>\r\n      </defs>\r\n      <g transform=\"translate(26.267555 211.445496)scale(0.1 -0.1)\">\r\n       <use xlink:href=\"#DejaVuSans-48\"/>\r\n       <use x=\"63.623047\" xlink:href=\"#DejaVuSans-46\"/>\r\n       <use x=\"95.410156\" xlink:href=\"#DejaVuSans-48\"/>\r\n      </g>\r\n     </g>\r\n    </g>\r\n    <g id=\"xtick_2\">\r\n     <g id=\"line2d_2\">\r\n      <g>\r\n       <use style=\"stroke:#000000;stroke-width:0.8;\" x=\"70.689706\" xlink:href=\"#md1a50f5a35\" y=\"196.847059\"/>\r\n      </g>\r\n     </g>\r\n     <g id=\"text_2\">\r\n      <!-- 2.5 -->\r\n      <defs>\r\n       <path d=\"M 19.1875 8.296875 \r\nL 53.609375 8.296875 \r\nL 53.609375 0 \r\nL 7.328125 0 \r\nL 7.328125 8.296875 \r\nQ 12.9375 14.109375 22.625 23.890625 \r\nQ 32.328125 33.6875 34.8125 36.53125 \r\nQ 39.546875 41.84375 41.421875 45.53125 \r\nQ 43.3125 49.21875 43.3125 52.78125 \r\nQ 43.3125 58.59375 39.234375 62.25 \r\nQ 35.15625 65.921875 28.609375 65.921875 \r\nQ 23.96875 65.921875 18.8125 64.3125 \r\nQ 13.671875 62.703125 7.8125 59.421875 \r\nL 7.8125 69.390625 \r\nQ 13.765625 71.78125 18.9375 73 \r\nQ 24.125 74.21875 28.421875 74.21875 \r\nQ 39.75 74.21875 46.484375 68.546875 \r\nQ 53.21875 62.890625 53.21875 53.421875 \r\nQ 53.21875 48.921875 51.53125 44.890625 \r\nQ 49.859375 40.875 45.40625 35.40625 \r\nQ 44.1875 33.984375 37.640625 27.21875 \r\nQ 31.109375 20.453125 19.1875 8.296875 \r\nz\r\n\" id=\"DejaVuSans-50\"/>\r\n       <path d=\"M 10.796875 72.90625 \r\nL 49.515625 72.90625 \r\nL 49.515625 64.59375 \r\nL 19.828125 64.59375 \r\nL 19.828125 46.734375 \r\nQ 21.96875 47.46875 24.109375 47.828125 \r\nQ 26.265625 48.1875 28.421875 48.1875 \r\nQ 40.625 48.1875 47.75 41.5 \r\nQ 54.890625 34.8125 54.890625 23.390625 \r\nQ 54.890625 11.625 47.5625 5.09375 \r\nQ 40.234375 -1.421875 26.90625 -1.421875 \r\nQ 22.3125 -1.421875 17.546875 -0.640625 \r\nQ 12.796875 0.140625 7.71875 1.703125 \r\nL 7.71875 11.625 \r\nQ 12.109375 9.234375 16.796875 8.0625 \r\nQ 21.484375 6.890625 26.703125 6.890625 \r\nQ 35.15625 6.890625 40.078125 11.328125 \r\nQ 45.015625 15.765625 45.015625 23.390625 \r\nQ 45.015625 31 40.078125 35.4375 \r\nQ 35.15625 39.890625 26.703125 39.890625 \r\nQ 22.75 39.890625 18.8125 39.015625 \r\nQ 14.890625 38.140625 10.796875 36.28125 \r\nz\r\n\" id=\"DejaVuSans-53\"/>\r\n      </defs>\r\n      <g transform=\"translate(62.738143 211.445496)scale(0.1 -0.1)\">\r\n       <use xlink:href=\"#DejaVuSans-50\"/>\r\n       <use x=\"63.623047\" xlink:href=\"#DejaVuSans-46\"/>\r\n       <use x=\"95.410156\" xlink:href=\"#DejaVuSans-53\"/>\r\n      </g>\r\n     </g>\r\n    </g>\r\n    <g id=\"xtick_3\">\r\n     <g id=\"line2d_3\">\r\n      <g>\r\n       <use style=\"stroke:#000000;stroke-width:0.8;\" x=\"107.160294\" xlink:href=\"#md1a50f5a35\" y=\"196.847059\"/>\r\n      </g>\r\n     </g>\r\n     <g id=\"text_3\">\r\n      <!-- 5.0 -->\r\n      <g transform=\"translate(99.208732 211.445496)scale(0.1 -0.1)\">\r\n       <use xlink:href=\"#DejaVuSans-53\"/>\r\n       <use x=\"63.623047\" xlink:href=\"#DejaVuSans-46\"/>\r\n       <use x=\"95.410156\" xlink:href=\"#DejaVuSans-48\"/>\r\n      </g>\r\n     </g>\r\n    </g>\r\n    <g id=\"xtick_4\">\r\n     <g id=\"line2d_4\">\r\n      <g>\r\n       <use style=\"stroke:#000000;stroke-width:0.8;\" x=\"143.630882\" xlink:href=\"#md1a50f5a35\" y=\"196.847059\"/>\r\n      </g>\r\n     </g>\r\n     <g id=\"text_4\">\r\n      <!-- 7.5 -->\r\n      <defs>\r\n       <path d=\"M 8.203125 72.90625 \r\nL 55.078125 72.90625 \r\nL 55.078125 68.703125 \r\nL 28.609375 0 \r\nL 18.3125 0 \r\nL 43.21875 64.59375 \r\nL 8.203125 64.59375 \r\nz\r\n\" id=\"DejaVuSans-55\"/>\r\n      </defs>\r\n      <g transform=\"translate(135.67932 211.445496)scale(0.1 -0.1)\">\r\n       <use xlink:href=\"#DejaVuSans-55\"/>\r\n       <use x=\"63.623047\" xlink:href=\"#DejaVuSans-46\"/>\r\n       <use x=\"95.410156\" xlink:href=\"#DejaVuSans-53\"/>\r\n      </g>\r\n     </g>\r\n    </g>\r\n   </g>\r\n   <g id=\"matplotlib.axis_2\">\r\n    <g id=\"ytick_1\">\r\n     <g id=\"line2d_5\">\r\n      <defs>\r\n       <path d=\"M 0 0 \r\nL -3.5 0 \r\n\" id=\"mfe05368c54\" style=\"stroke:#000000;stroke-width:0.8;\"/>\r\n      </defs>\r\n      <g>\r\n       <use style=\"stroke:#000000;stroke-width:0.8;\" x=\"26.925\" xlink:href=\"#mfe05368c54\" y=\"14.494118\"/>\r\n      </g>\r\n     </g>\r\n     <g id=\"text_5\">\r\n      <!-- 0 -->\r\n      <g transform=\"translate(13.5625 18.293336)scale(0.1 -0.1)\">\r\n       <use xlink:href=\"#DejaVuSans-48\"/>\r\n      </g>\r\n     </g>\r\n    </g>\r\n    <g id=\"ytick_2\">\r\n     <g id=\"line2d_6\">\r\n      <g>\r\n       <use style=\"stroke:#000000;stroke-width:0.8;\" x=\"26.925\" xlink:href=\"#mfe05368c54\" y=\"43.670588\"/>\r\n      </g>\r\n     </g>\r\n     <g id=\"text_6\">\r\n      <!-- 2 -->\r\n      <g transform=\"translate(13.5625 47.469807)scale(0.1 -0.1)\">\r\n       <use xlink:href=\"#DejaVuSans-50\"/>\r\n      </g>\r\n     </g>\r\n    </g>\r\n    <g id=\"ytick_3\">\r\n     <g id=\"line2d_7\">\r\n      <g>\r\n       <use style=\"stroke:#000000;stroke-width:0.8;\" x=\"26.925\" xlink:href=\"#mfe05368c54\" y=\"72.847059\"/>\r\n      </g>\r\n     </g>\r\n     <g id=\"text_7\">\r\n      <!-- 4 -->\r\n      <defs>\r\n       <path d=\"M 37.796875 64.3125 \r\nL 12.890625 25.390625 \r\nL 37.796875 25.390625 \r\nz\r\nM 35.203125 72.90625 \r\nL 47.609375 72.90625 \r\nL 47.609375 25.390625 \r\nL 58.015625 25.390625 \r\nL 58.015625 17.1875 \r\nL 47.609375 17.1875 \r\nL 47.609375 0 \r\nL 37.796875 0 \r\nL 37.796875 17.1875 \r\nL 4.890625 17.1875 \r\nL 4.890625 26.703125 \r\nz\r\n\" id=\"DejaVuSans-52\"/>\r\n      </defs>\r\n      <g transform=\"translate(13.5625 76.646278)scale(0.1 -0.1)\">\r\n       <use xlink:href=\"#DejaVuSans-52\"/>\r\n      </g>\r\n     </g>\r\n    </g>\r\n    <g id=\"ytick_4\">\r\n     <g id=\"line2d_8\">\r\n      <g>\r\n       <use style=\"stroke:#000000;stroke-width:0.8;\" x=\"26.925\" xlink:href=\"#mfe05368c54\" y=\"102.023529\"/>\r\n      </g>\r\n     </g>\r\n     <g id=\"text_8\">\r\n      <!-- 6 -->\r\n      <defs>\r\n       <path d=\"M 33.015625 40.375 \r\nQ 26.375 40.375 22.484375 35.828125 \r\nQ 18.609375 31.296875 18.609375 23.390625 \r\nQ 18.609375 15.53125 22.484375 10.953125 \r\nQ 26.375 6.390625 33.015625 6.390625 \r\nQ 39.65625 6.390625 43.53125 10.953125 \r\nQ 47.40625 15.53125 47.40625 23.390625 \r\nQ 47.40625 31.296875 43.53125 35.828125 \r\nQ 39.65625 40.375 33.015625 40.375 \r\nz\r\nM 52.59375 71.296875 \r\nL 52.59375 62.3125 \r\nQ 48.875 64.0625 45.09375 64.984375 \r\nQ 41.3125 65.921875 37.59375 65.921875 \r\nQ 27.828125 65.921875 22.671875 59.328125 \r\nQ 17.53125 52.734375 16.796875 39.40625 \r\nQ 19.671875 43.65625 24.015625 45.921875 \r\nQ 28.375 48.1875 33.59375 48.1875 \r\nQ 44.578125 48.1875 50.953125 41.515625 \r\nQ 57.328125 34.859375 57.328125 23.390625 \r\nQ 57.328125 12.15625 50.6875 5.359375 \r\nQ 44.046875 -1.421875 33.015625 -1.421875 \r\nQ 20.359375 -1.421875 13.671875 8.265625 \r\nQ 6.984375 17.96875 6.984375 36.375 \r\nQ 6.984375 53.65625 15.1875 63.9375 \r\nQ 23.390625 74.21875 37.203125 74.21875 \r\nQ 40.921875 74.21875 44.703125 73.484375 \r\nQ 48.484375 72.75 52.59375 71.296875 \r\nz\r\n\" id=\"DejaVuSans-54\"/>\r\n      </defs>\r\n      <g transform=\"translate(13.5625 105.822748)scale(0.1 -0.1)\">\r\n       <use xlink:href=\"#DejaVuSans-54\"/>\r\n      </g>\r\n     </g>\r\n    </g>\r\n    <g id=\"ytick_5\">\r\n     <g id=\"line2d_9\">\r\n      <g>\r\n       <use style=\"stroke:#000000;stroke-width:0.8;\" x=\"26.925\" xlink:href=\"#mfe05368c54\" y=\"131.2\"/>\r\n      </g>\r\n     </g>\r\n     <g id=\"text_9\">\r\n      <!-- 8 -->\r\n      <defs>\r\n       <path d=\"M 31.78125 34.625 \r\nQ 24.75 34.625 20.71875 30.859375 \r\nQ 16.703125 27.09375 16.703125 20.515625 \r\nQ 16.703125 13.921875 20.71875 10.15625 \r\nQ 24.75 6.390625 31.78125 6.390625 \r\nQ 38.8125 6.390625 42.859375 10.171875 \r\nQ 46.921875 13.96875 46.921875 20.515625 \r\nQ 46.921875 27.09375 42.890625 30.859375 \r\nQ 38.875 34.625 31.78125 34.625 \r\nz\r\nM 21.921875 38.8125 \r\nQ 15.578125 40.375 12.03125 44.71875 \r\nQ 8.5 49.078125 8.5 55.328125 \r\nQ 8.5 64.0625 14.71875 69.140625 \r\nQ 20.953125 74.21875 31.78125 74.21875 \r\nQ 42.671875 74.21875 48.875 69.140625 \r\nQ 55.078125 64.0625 55.078125 55.328125 \r\nQ 55.078125 49.078125 51.53125 44.71875 \r\nQ 48 40.375 41.703125 38.8125 \r\nQ 48.828125 37.15625 52.796875 32.3125 \r\nQ 56.78125 27.484375 56.78125 20.515625 \r\nQ 56.78125 9.90625 50.3125 4.234375 \r\nQ 43.84375 -1.421875 31.78125 -1.421875 \r\nQ 19.734375 -1.421875 13.25 4.234375 \r\nQ 6.78125 9.90625 6.78125 20.515625 \r\nQ 6.78125 27.484375 10.78125 32.3125 \r\nQ 14.796875 37.15625 21.921875 38.8125 \r\nz\r\nM 18.3125 54.390625 \r\nQ 18.3125 48.734375 21.84375 45.5625 \r\nQ 25.390625 42.390625 31.78125 42.390625 \r\nQ 38.140625 42.390625 41.71875 45.5625 \r\nQ 45.3125 48.734375 45.3125 54.390625 \r\nQ 45.3125 60.0625 41.71875 63.234375 \r\nQ 38.140625 66.40625 31.78125 66.40625 \r\nQ 25.390625 66.40625 21.84375 63.234375 \r\nQ 18.3125 60.0625 18.3125 54.390625 \r\nz\r\n\" id=\"DejaVuSans-56\"/>\r\n      </defs>\r\n      <g transform=\"translate(13.5625 134.999219)scale(0.1 -0.1)\">\r\n       <use xlink:href=\"#DejaVuSans-56\"/>\r\n      </g>\r\n     </g>\r\n    </g>\r\n    <g id=\"ytick_6\">\r\n     <g id=\"line2d_10\">\r\n      <g>\r\n       <use style=\"stroke:#000000;stroke-width:0.8;\" x=\"26.925\" xlink:href=\"#mfe05368c54\" y=\"160.376471\"/>\r\n      </g>\r\n     </g>\r\n     <g id=\"text_10\">\r\n      <!-- 10 -->\r\n      <defs>\r\n       <path d=\"M 12.40625 8.296875 \r\nL 28.515625 8.296875 \r\nL 28.515625 63.921875 \r\nL 10.984375 60.40625 \r\nL 10.984375 69.390625 \r\nL 28.421875 72.90625 \r\nL 38.28125 72.90625 \r\nL 38.28125 8.296875 \r\nL 54.390625 8.296875 \r\nL 54.390625 0 \r\nL 12.40625 0 \r\nz\r\n\" id=\"DejaVuSans-49\"/>\r\n      </defs>\r\n      <g transform=\"translate(7.2 164.175689)scale(0.1 -0.1)\">\r\n       <use xlink:href=\"#DejaVuSans-49\"/>\r\n       <use x=\"63.623047\" xlink:href=\"#DejaVuSans-48\"/>\r\n      </g>\r\n     </g>\r\n    </g>\r\n    <g id=\"ytick_7\">\r\n     <g id=\"line2d_11\">\r\n      <g>\r\n       <use style=\"stroke:#000000;stroke-width:0.8;\" x=\"26.925\" xlink:href=\"#mfe05368c54\" y=\"189.552941\"/>\r\n      </g>\r\n     </g>\r\n     <g id=\"text_11\">\r\n      <!-- 12 -->\r\n      <g transform=\"translate(7.2 193.35216)scale(0.1 -0.1)\">\r\n       <use xlink:href=\"#DejaVuSans-49\"/>\r\n       <use x=\"63.623047\" xlink:href=\"#DejaVuSans-50\"/>\r\n      </g>\r\n     </g>\r\n    </g>\r\n   </g>\r\n   <g id=\"patch_3\">\r\n    <path d=\"M 26.925 196.847059 \r\nL 26.925 7.2 \r\n\" style=\"fill:none;stroke:#000000;stroke-linecap:square;stroke-linejoin:miter;stroke-width:0.8;\"/>\r\n   </g>\r\n   <g id=\"patch_4\">\r\n    <path d=\"M 158.219118 196.847059 \r\nL 158.219118 7.2 \r\n\" style=\"fill:none;stroke:#000000;stroke-linecap:square;stroke-linejoin:miter;stroke-width:0.8;\"/>\r\n   </g>\r\n   <g id=\"patch_5\">\r\n    <path d=\"M 26.925 196.847059 \r\nL 158.219118 196.847059 \r\n\" style=\"fill:none;stroke:#000000;stroke-linecap:square;stroke-linejoin:miter;stroke-width:0.8;\"/>\r\n   </g>\r\n   <g id=\"patch_6\">\r\n    <path d=\"M 26.925 7.2 \r\nL 158.219118 7.2 \r\n\" style=\"fill:none;stroke:#000000;stroke-linecap:square;stroke-linejoin:miter;stroke-width:0.8;\"/>\r\n   </g>\r\n  </g>\r\n  <g id=\"axes_2\">\r\n   <g id=\"patch_7\">\r\n    <path d=\"M 184.477941 153.603361 \r\nL 315.772059 153.603361 \r\nL 315.772059 50.443697 \r\nL 184.477941 50.443697 \r\nz\r\n\" style=\"fill:#ffffff;\"/>\r\n   </g>\r\n   <g clip-path=\"url(#peb6a9d8003)\">\r\n    <image height=\"104\" id=\"imagedc850df196\" transform=\"scale(1 -1)translate(0 -104)\" width=\"132\" x=\"184.477941\" xlink:href=\"data:image/png;base64,\r\niVBORw0KGgoAAAANSUhEUgAAAIQAAABoCAYAAAAwwlheAAAABHNCSVQICAgIfAhkiAAAA0NJREFUeJzt3a9Lq2EchvFn4iYIClOLYBGLLBgcE9E0TRPsIogGg9kgiEXBLiajYNkfYBz+wmAZRrEI2kwTtIwF31NOudP3lvNyzgnXJ988G3Lxhoe5FbIsyxLwW9+/fgP4vxAEBEFAEAQEQUAQBARBQBAERP/ffsFqtWrtHh8fw83FxYV11sbGhrXLy/r6erhpNpvWWQcHB+Hm+PjYOsvBEwKCICAIAoIgIAgCgiAgCAKCICAIAqKQ50foPj4+ws3Y2Jh11vf3d7jZ2tqyzjo/P7d2eRkfHw837+/v1lnz8/Ph5uHhwTrLwRMCgiAgCAKCICAIAoIgIAgCgiAgcv0I3c3NTbhxLpxSSml6ejrcXF9fW2fl5enpydo5l06VSsU6q91uh5uvry/rrKGhoXDDEwKCICAIAoIgIAgCgiAgCAKCICAIAiLXm0rn5rCvz2vw8PAw3KytrVlnvby8hJupqalw496MDgwMhJv9/X3rLOcfle/v762zVlZWwg1PCAiCgCAICIKAIAgIgoAgCAiCgMj1Yurq6irczM7OWmetrq6Gm1KpZJ3lvC/nYso5J6WUFhYWwk2j0bDOKhQK4ca9MONiCj9GEBAEAUEQEAQBQRAQBAFBEBAEAWHdVLrfmPb8/Bxu9vb2rLMGBwfDzdzcnHWWc5O3vb0dbu7u7qzX293dDTejo6PWWTMzM+HGvUF18ISAIAgIgoAgCAiCgCAICIKAIAgI62Iqz297W1payu2s5eVla3d2dhZunB+OdX7+ISX/fTmcv9fp6al1VqfTCTc8ISAIAoIgIAgCgiAgCAKCICAIAoIgIHK9qSwWi+FmcXHROsvh3noeHR2FG+e2z/m9iZRSqtVq1s5Rr9fDzcnJiXXW7e1tuOEJAUEQEAQBQRAQBAFBEBAEAUEQEIUsy7JoNDk5aR02MTERbtyv8nf0ej1rVy6Xw0232w03zre4pZTS5eWltXN8fn6Gm5GREeusnZ2dcMMTAoIgIAgCgiAgCAKCICAIAoIgIAgCov/t7S0cvb6+Wodtbm7+4dv5Gff3MpyP7bVarXCT5z/xuoaHh8NNtVq1znK+rY4nBARBQBAEBEFAEAQEQUAQBARBQPwCx82jy4L6OGwAAAAASUVORK5CYII=\" y=\"-49.603361\"/>\r\n   </g>\r\n   <g id=\"matplotlib.axis_3\">\r\n    <g id=\"xtick_5\">\r\n     <g id=\"line2d_12\">\r\n      <g>\r\n       <use style=\"stroke:#000000;stroke-width:0.8;\" x=\"189.167017\" xlink:href=\"#md1a50f5a35\" y=\"153.603361\"/>\r\n      </g>\r\n     </g>\r\n     <g id=\"text_12\">\r\n      <!-- 0 -->\r\n      <g transform=\"translate(185.985767 168.201799)scale(0.1 -0.1)\">\r\n       <use xlink:href=\"#DejaVuSans-48\"/>\r\n      </g>\r\n     </g>\r\n    </g>\r\n    <g id=\"xtick_6\">\r\n     <g id=\"line2d_13\">\r\n      <g>\r\n       <use style=\"stroke:#000000;stroke-width:0.8;\" x=\"236.057773\" xlink:href=\"#md1a50f5a35\" y=\"153.603361\"/>\r\n      </g>\r\n     </g>\r\n     <g id=\"text_13\">\r\n      <!-- 5 -->\r\n      <g transform=\"translate(232.876523 168.201799)scale(0.1 -0.1)\">\r\n       <use xlink:href=\"#DejaVuSans-53\"/>\r\n      </g>\r\n     </g>\r\n    </g>\r\n    <g id=\"xtick_7\">\r\n     <g id=\"line2d_14\">\r\n      <g>\r\n       <use style=\"stroke:#000000;stroke-width:0.8;\" x=\"282.948529\" xlink:href=\"#md1a50f5a35\" y=\"153.603361\"/>\r\n      </g>\r\n     </g>\r\n     <g id=\"text_14\">\r\n      <!-- 10 -->\r\n      <g transform=\"translate(276.586029 168.201799)scale(0.1 -0.1)\">\r\n       <use xlink:href=\"#DejaVuSans-49\"/>\r\n       <use x=\"63.623047\" xlink:href=\"#DejaVuSans-48\"/>\r\n      </g>\r\n     </g>\r\n    </g>\r\n   </g>\r\n   <g id=\"matplotlib.axis_4\">\r\n    <g id=\"ytick_8\">\r\n     <g id=\"line2d_15\">\r\n      <g>\r\n       <use style=\"stroke:#000000;stroke-width:0.8;\" x=\"184.477941\" xlink:href=\"#mfe05368c54\" y=\"55.132773\"/>\r\n      </g>\r\n     </g>\r\n     <g id=\"text_15\">\r\n      <!-- 0.0 -->\r\n      <g transform=\"translate(161.574816 58.931992)scale(0.1 -0.1)\">\r\n       <use xlink:href=\"#DejaVuSans-48\"/>\r\n       <use x=\"63.623047\" xlink:href=\"#DejaVuSans-46\"/>\r\n       <use x=\"95.410156\" xlink:href=\"#DejaVuSans-48\"/>\r\n      </g>\r\n     </g>\r\n    </g>\r\n    <g id=\"ytick_9\">\r\n     <g id=\"line2d_16\">\r\n      <g>\r\n       <use style=\"stroke:#000000;stroke-width:0.8;\" x=\"184.477941\" xlink:href=\"#mfe05368c54\" y=\"78.578151\"/>\r\n      </g>\r\n     </g>\r\n     <g id=\"text_16\">\r\n      <!-- 2.5 -->\r\n      <g transform=\"translate(161.574816 82.37737)scale(0.1 -0.1)\">\r\n       <use xlink:href=\"#DejaVuSans-50\"/>\r\n       <use x=\"63.623047\" xlink:href=\"#DejaVuSans-46\"/>\r\n       <use x=\"95.410156\" xlink:href=\"#DejaVuSans-53\"/>\r\n      </g>\r\n     </g>\r\n    </g>\r\n    <g id=\"ytick_10\">\r\n     <g id=\"line2d_17\">\r\n      <g>\r\n       <use style=\"stroke:#000000;stroke-width:0.8;\" x=\"184.477941\" xlink:href=\"#mfe05368c54\" y=\"102.023529\"/>\r\n      </g>\r\n     </g>\r\n     <g id=\"text_17\">\r\n      <!-- 5.0 -->\r\n      <g transform=\"translate(161.574816 105.822748)scale(0.1 -0.1)\">\r\n       <use xlink:href=\"#DejaVuSans-53\"/>\r\n       <use x=\"63.623047\" xlink:href=\"#DejaVuSans-46\"/>\r\n       <use x=\"95.410156\" xlink:href=\"#DejaVuSans-48\"/>\r\n      </g>\r\n     </g>\r\n    </g>\r\n    <g id=\"ytick_11\">\r\n     <g id=\"line2d_18\">\r\n      <g>\r\n       <use style=\"stroke:#000000;stroke-width:0.8;\" x=\"184.477941\" xlink:href=\"#mfe05368c54\" y=\"125.468908\"/>\r\n      </g>\r\n     </g>\r\n     <g id=\"text_18\">\r\n      <!-- 7.5 -->\r\n      <g transform=\"translate(161.574816 129.268126)scale(0.1 -0.1)\">\r\n       <use xlink:href=\"#DejaVuSans-55\"/>\r\n       <use x=\"63.623047\" xlink:href=\"#DejaVuSans-46\"/>\r\n       <use x=\"95.410156\" xlink:href=\"#DejaVuSans-53\"/>\r\n      </g>\r\n     </g>\r\n    </g>\r\n    <g id=\"ytick_12\">\r\n     <g id=\"line2d_19\">\r\n      <g>\r\n       <use style=\"stroke:#000000;stroke-width:0.8;\" x=\"184.477941\" xlink:href=\"#mfe05368c54\" y=\"148.914286\"/>\r\n      </g>\r\n     </g>\r\n     <g id=\"text_19\">\r\n      <!-- 10.0 -->\r\n      <g transform=\"translate(155.212316 152.713504)scale(0.1 -0.1)\">\r\n       <use xlink:href=\"#DejaVuSans-49\"/>\r\n       <use x=\"63.623047\" xlink:href=\"#DejaVuSans-48\"/>\r\n       <use x=\"127.246094\" xlink:href=\"#DejaVuSans-46\"/>\r\n       <use x=\"159.033203\" xlink:href=\"#DejaVuSans-48\"/>\r\n      </g>\r\n     </g>\r\n    </g>\r\n   </g>\r\n   <g id=\"patch_8\">\r\n    <path d=\"M 184.477941 153.603361 \r\nL 184.477941 50.443697 \r\n\" style=\"fill:none;stroke:#000000;stroke-linecap:square;stroke-linejoin:miter;stroke-width:0.8;\"/>\r\n   </g>\r\n   <g id=\"patch_9\">\r\n    <path d=\"M 315.772059 153.603361 \r\nL 315.772059 50.443697 \r\n\" style=\"fill:none;stroke:#000000;stroke-linecap:square;stroke-linejoin:miter;stroke-width:0.8;\"/>\r\n   </g>\r\n   <g id=\"patch_10\">\r\n    <path d=\"M 184.477941 153.603361 \r\nL 315.772059 153.603361 \r\n\" style=\"fill:none;stroke:#000000;stroke-linecap:square;stroke-linejoin:miter;stroke-width:0.8;\"/>\r\n   </g>\r\n   <g id=\"patch_11\">\r\n    <path d=\"M 184.477941 50.443697 \r\nL 315.772059 50.443697 \r\n\" style=\"fill:none;stroke:#000000;stroke-linecap:square;stroke-linejoin:miter;stroke-width:0.8;\"/>\r\n   </g>\r\n  </g>\r\n  <g id=\"axes_3\">\r\n   <g id=\"patch_12\">\r\n    <path d=\"M 342.030882 191.542246 \r\nL 473.325 191.542246 \r\nL 473.325 12.504813 \r\nL 342.030882 12.504813 \r\nz\r\n\" style=\"fill:#ffffff;\"/>\r\n   </g>\r\n   <g clip-path=\"url(#pe91e6f9263)\">\r\n    <image height=\"180\" id=\"image6514d1d5e6\" transform=\"scale(1 -1)translate(0 -180)\" width=\"132\" x=\"342.030882\" xlink:href=\"data:image/png;base64,\r\niVBORw0KGgoAAAANSUhEUgAAAIQAAAC0CAYAAABVPoQKAAAABHNCSVQICAgIfAhkiAAAAy5JREFUeJzt3a9KrGsAxeEzhxMsA5oMFo2CfwbsBkWMFq9BL0BvwqQgXsxkq2iwGRQmaRqbtjnllFUOrC3DHtjPk9cwE3685eObdzCbzWZ/wX/+/t0/gMUiCIIgCIIgCIIgCIIgCIIgCIIgCIIgCP/87h/wp9va2qr2S0tL1f7h4aHaOyEIgiAIgiAIgiAIgiAIgiAIgiAIgiAIgiAIgiAIgiAIgiAIgiAIgiAIgiAIgiAIgiAIgiAIgiAIgiAIgiAIgiAIgiAIgiAIgiAIgiAIgiAIgiAIgiAIgiAIgiAIgiAIgiAIgiAIgiAIgjD3+zImk0m1v7i4qPbj8bjaDwaDan90dFTt7+7uqv2icUIQBEEQBEEQBEEQBEEQBEEQBEEQBEEQBGEwm81mzQem02n1BaPRqNq3zz4Wzc7OTrX//v6u9sPhsNq7+5sfEQRBEARBEARBEARBEARBEARBEARBEIT6vYyrq6tq3z6bODw8rPY3NzfVfn19vdo/PT1V+7Ozs2r/8vJS7ff29qp9ywlBEARBEARBEARBEARBEARBEARBEARBEIT6vYzNzc3qCz4+Pqr96+trtV9eXq728/b8/Fzt2/c42mcZ3svgRwRBEARBEARBEARBEARBEARBEARBEAShfi/j7e2t2u/v71f7RXs20dre3q72q6urc/olv8YJQRAEQRAEQRAEQRAEQRAEQRAEQRAEQRCEud/9zf9r7yKfNycEQRAEQRAEQRAEQRAEQRAEQRAEQRAEQRDqZxkbGxvVvv2Po8/Pz2q/aO9xtP8x9f7+Xu3X1taqfcsJQRAEQRAEQRAEQRAEQRAEQRAEQRAEQRCE+lnGyclJtW/vCj89Pa3219fX1b59FvP4+Fjtz8/Pq/2icUIQBEEQBEEQBEEQBEEQBEEQBEEQBEEQBKG++3s6nVZfMBqNqv1kMqn2i2Z3d7faf319VfvhcFjt3f3NjwiCIAiCIAiCIAiCIAiCIAiCIAiCIAhC/V7GyspKtb+/v6/2l5eX1X48Hlf79n6K4+Pjan97e1vtDw4Oqv28OSEIgiAIgiAIgiAIgiAIgiAIgiAIgiAIgvAvrEVxLJ1T/A4AAAAASUVORK5CYII=\" y=\"-11.542246\"/>\r\n   </g>\r\n   <g id=\"matplotlib.axis_5\">\r\n    <g id=\"xtick_8\">\r\n     <g id=\"line2d_20\">\r\n      <g>\r\n       <use style=\"stroke:#000000;stroke-width:0.8;\" x=\"347.998797\" xlink:href=\"#md1a50f5a35\" y=\"191.542246\"/>\r\n      </g>\r\n     </g>\r\n     <g id=\"text_20\">\r\n      <!-- 0 -->\r\n      <g transform=\"translate(344.817547 206.140683)scale(0.1 -0.1)\">\r\n       <use xlink:href=\"#DejaVuSans-48\"/>\r\n      </g>\r\n     </g>\r\n    </g>\r\n    <g id=\"xtick_9\">\r\n     <g id=\"line2d_21\">\r\n      <g>\r\n       <use style=\"stroke:#000000;stroke-width:0.8;\" x=\"407.677941\" xlink:href=\"#md1a50f5a35\" y=\"191.542246\"/>\r\n      </g>\r\n     </g>\r\n     <g id=\"text_21\">\r\n      <!-- 5 -->\r\n      <g transform=\"translate(404.496691 206.140683)scale(0.1 -0.1)\">\r\n       <use xlink:href=\"#DejaVuSans-53\"/>\r\n      </g>\r\n     </g>\r\n    </g>\r\n    <g id=\"xtick_10\">\r\n     <g id=\"line2d_22\">\r\n      <g>\r\n       <use style=\"stroke:#000000;stroke-width:0.8;\" x=\"467.357086\" xlink:href=\"#md1a50f5a35\" y=\"191.542246\"/>\r\n      </g>\r\n     </g>\r\n     <g id=\"text_22\">\r\n      <!-- 10 -->\r\n      <g transform=\"translate(460.994586 206.140683)scale(0.1 -0.1)\">\r\n       <use xlink:href=\"#DejaVuSans-49\"/>\r\n       <use x=\"63.623047\" xlink:href=\"#DejaVuSans-48\"/>\r\n      </g>\r\n     </g>\r\n    </g>\r\n   </g>\r\n   <g id=\"matplotlib.axis_6\">\r\n    <g id=\"ytick_13\">\r\n     <g id=\"line2d_23\">\r\n      <g>\r\n       <use style=\"stroke:#000000;stroke-width:0.8;\" x=\"342.030882\" xlink:href=\"#mfe05368c54\" y=\"18.472727\"/>\r\n      </g>\r\n     </g>\r\n     <g id=\"text_23\">\r\n      <!-- 0 -->\r\n      <g transform=\"translate(328.668382 22.271946)scale(0.1 -0.1)\">\r\n       <use xlink:href=\"#DejaVuSans-48\"/>\r\n      </g>\r\n     </g>\r\n    </g>\r\n    <g id=\"ytick_14\">\r\n     <g id=\"line2d_24\">\r\n      <g>\r\n       <use style=\"stroke:#000000;stroke-width:0.8;\" x=\"342.030882\" xlink:href=\"#mfe05368c54\" y=\"42.344385\"/>\r\n      </g>\r\n     </g>\r\n     <g id=\"text_24\">\r\n      <!-- 2 -->\r\n      <g transform=\"translate(328.668382 46.143604)scale(0.1 -0.1)\">\r\n       <use xlink:href=\"#DejaVuSans-50\"/>\r\n      </g>\r\n     </g>\r\n    </g>\r\n    <g id=\"ytick_15\">\r\n     <g id=\"line2d_25\">\r\n      <g>\r\n       <use style=\"stroke:#000000;stroke-width:0.8;\" x=\"342.030882\" xlink:href=\"#mfe05368c54\" y=\"66.216043\"/>\r\n      </g>\r\n     </g>\r\n     <g id=\"text_25\">\r\n      <!-- 4 -->\r\n      <g transform=\"translate(328.668382 70.015262)scale(0.1 -0.1)\">\r\n       <use xlink:href=\"#DejaVuSans-52\"/>\r\n      </g>\r\n     </g>\r\n    </g>\r\n    <g id=\"ytick_16\">\r\n     <g id=\"line2d_26\">\r\n      <g>\r\n       <use style=\"stroke:#000000;stroke-width:0.8;\" x=\"342.030882\" xlink:href=\"#mfe05368c54\" y=\"90.087701\"/>\r\n      </g>\r\n     </g>\r\n     <g id=\"text_26\">\r\n      <!-- 6 -->\r\n      <g transform=\"translate(328.668382 93.886919)scale(0.1 -0.1)\">\r\n       <use xlink:href=\"#DejaVuSans-54\"/>\r\n      </g>\r\n     </g>\r\n    </g>\r\n    <g id=\"ytick_17\">\r\n     <g id=\"line2d_27\">\r\n      <g>\r\n       <use style=\"stroke:#000000;stroke-width:0.8;\" x=\"342.030882\" xlink:href=\"#mfe05368c54\" y=\"113.959358\"/>\r\n      </g>\r\n     </g>\r\n     <g id=\"text_27\">\r\n      <!-- 8 -->\r\n      <g transform=\"translate(328.668382 117.758577)scale(0.1 -0.1)\">\r\n       <use xlink:href=\"#DejaVuSans-56\"/>\r\n      </g>\r\n     </g>\r\n    </g>\r\n    <g id=\"ytick_18\">\r\n     <g id=\"line2d_28\">\r\n      <g>\r\n       <use style=\"stroke:#000000;stroke-width:0.8;\" x=\"342.030882\" xlink:href=\"#mfe05368c54\" y=\"137.831016\"/>\r\n      </g>\r\n     </g>\r\n     <g id=\"text_28\">\r\n      <!-- 10 -->\r\n      <g transform=\"translate(322.305882 141.630235)scale(0.1 -0.1)\">\r\n       <use xlink:href=\"#DejaVuSans-49\"/>\r\n       <use x=\"63.623047\" xlink:href=\"#DejaVuSans-48\"/>\r\n      </g>\r\n     </g>\r\n    </g>\r\n    <g id=\"ytick_19\">\r\n     <g id=\"line2d_29\">\r\n      <g>\r\n       <use style=\"stroke:#000000;stroke-width:0.8;\" x=\"342.030882\" xlink:href=\"#mfe05368c54\" y=\"161.702674\"/>\r\n      </g>\r\n     </g>\r\n     <g id=\"text_29\">\r\n      <!-- 12 -->\r\n      <g transform=\"translate(322.305882 165.501893)scale(0.1 -0.1)\">\r\n       <use xlink:href=\"#DejaVuSans-49\"/>\r\n       <use x=\"63.623047\" xlink:href=\"#DejaVuSans-50\"/>\r\n      </g>\r\n     </g>\r\n    </g>\r\n    <g id=\"ytick_20\">\r\n     <g id=\"line2d_30\">\r\n      <g>\r\n       <use style=\"stroke:#000000;stroke-width:0.8;\" x=\"342.030882\" xlink:href=\"#mfe05368c54\" y=\"185.574332\"/>\r\n      </g>\r\n     </g>\r\n     <g id=\"text_30\">\r\n      <!-- 14 -->\r\n      <g transform=\"translate(322.305882 189.37355)scale(0.1 -0.1)\">\r\n       <use xlink:href=\"#DejaVuSans-49\"/>\r\n       <use x=\"63.623047\" xlink:href=\"#DejaVuSans-52\"/>\r\n      </g>\r\n     </g>\r\n    </g>\r\n   </g>\r\n   <g id=\"patch_13\">\r\n    <path d=\"M 342.030882 191.542246 \r\nL 342.030882 12.504813 \r\n\" style=\"fill:none;stroke:#000000;stroke-linecap:square;stroke-linejoin:miter;stroke-width:0.8;\"/>\r\n   </g>\r\n   <g id=\"patch_14\">\r\n    <path d=\"M 473.325 191.542246 \r\nL 473.325 12.504813 \r\n\" style=\"fill:none;stroke:#000000;stroke-linecap:square;stroke-linejoin:miter;stroke-width:0.8;\"/>\r\n   </g>\r\n   <g id=\"patch_15\">\r\n    <path d=\"M 342.030882 191.542246 \r\nL 473.325 191.542246 \r\n\" style=\"fill:none;stroke:#000000;stroke-linecap:square;stroke-linejoin:miter;stroke-width:0.8;\"/>\r\n   </g>\r\n   <g id=\"patch_16\">\r\n    <path d=\"M 342.030882 12.504813 \r\nL 473.325 12.504813 \r\n\" style=\"fill:none;stroke:#000000;stroke-linecap:square;stroke-linejoin:miter;stroke-width:0.8;\"/>\r\n   </g>\r\n  </g>\r\n  <g id=\"axes_4\">\r\n   <g id=\"patch_17\">\r\n    <path d=\"M 29.034396 438.067166 \r\nL 156.109721 438.067166 \r\nL 156.109721 240.394439 \r\nL 29.034396 240.394439 \r\nz\r\n\" style=\"fill:#ffffff;\"/>\r\n   </g>\r\n   <g clip-path=\"url(#pc1d4e9425a)\">\r\n    <image height=\"198\" id=\"imagee8309b726d\" transform=\"scale(1 -1)translate(0 -198)\" width=\"128\" x=\"29.034396\" xlink:href=\"data:image/png;base64,\r\niVBORw0KGgoAAAANSUhEUgAAAIAAAADGCAYAAAAaP4i6AAAABHNCSVQICAgIfAhkiAAAAsdJREFUeJzt3LFNHFEYRtG3liUSOiCiEhJERI4IVoSElEC2KQkdUAYhbSAkuiDC9PDbGhufe/JPsyNdveRpZ/f09PRrDez3+8lsPT8/j3ZrrXV+fj7efhfTd3x9fR3tfoxW+W8UAK4AcAWAKwBcAeAKAFcAuALAFQCuAHAFgCsAXAHgCgBXALgCwBUArgBwBYArAFwB4AoAVwC4AsAVAK4AcAWAKwBcAeAKAFcAuALAFQCuAHAFgCsAXAHgCgBXALgCwBUArgBwBYArAFwB4AoAVwC4AsAVAK4AcAWAKwBcAeAKAFcAuALAFQCuAHAFgCsAXAHgCgBXALgCwBUArgBwBYArAFwB4H5u/cCPj4+tH/mtfH5+jna73W606wTAFQCuAHAFgCsAXAHgCgBXALgCwBUArgBwBYArANzmt4EvLy/j7eXl5R/8Jf+m9/f30e74+Hi06wTAFQCuAHAFgCsAXAHgCgBXALgCwBUArgBwBYArANzmt4EPDw/j7cnJyWh3dXU12h0dHY12j4+Po91aa729vY1219fXo10nAK4AcAWAKwBcAeAKAFcAuALAFQCuAHAFgCsAXAHgNr8NnN7MrbXW3d3dpru/YfrFz9vb29GuEwBXALgCwBUArgBwBYArAFwB4AoAVwC4AsAVAK4AcJvfBt7c3Iy3FxcXo93hcBjtpv/TOz09He3WWuv+/n60Ozs7G+06AXAFgCsAXAHgCgBXALgCwBUArgBwBYArAFwB4AoAt/lt4O/Y7/eb7gSdALgCwBUArgBwBYArAFwB4AoAVwC4AsAVAK4AcAWAKwBcAeAKAFcAuALAFQCuAHAFgCsAXAHgCgBXALgCwBUArgBwBYArAFwB4AoAVwC4AsAVAK4AcAWAKwBcAeAKAFcAuALAFQCuAHAFgCsAXAHgCgBXALgCwBUArgBwBYArAFwB4AoA9wX6XzADaE85OgAAAABJRU5ErkJggg==\" y=\"-240.067166\"/>\r\n   </g>\r\n   <g id=\"matplotlib.axis_7\">\r\n    <g id=\"xtick_11\">\r\n     <g id=\"line2d_31\">\r\n      <g>\r\n       <use style=\"stroke:#000000;stroke-width:0.8;\" x=\"36.094137\" xlink:href=\"#md1a50f5a35\" y=\"438.067166\"/>\r\n      </g>\r\n     </g>\r\n     <g id=\"text_31\">\r\n      <!-- 0.0 -->\r\n      <g transform=\"translate(28.142574 452.665603)scale(0.1 -0.1)\">\r\n       <use xlink:href=\"#DejaVuSans-48\"/>\r\n       <use x=\"63.623047\" xlink:href=\"#DejaVuSans-46\"/>\r\n       <use x=\"95.410156\" xlink:href=\"#DejaVuSans-48\"/>\r\n      </g>\r\n     </g>\r\n    </g>\r\n    <g id=\"xtick_12\">\r\n     <g id=\"line2d_32\">\r\n      <g>\r\n       <use style=\"stroke:#000000;stroke-width:0.8;\" x=\"71.392838\" xlink:href=\"#md1a50f5a35\" y=\"438.067166\"/>\r\n      </g>\r\n     </g>\r\n     <g id=\"text_32\">\r\n      <!-- 2.5 -->\r\n      <g transform=\"translate(63.441276 452.665603)scale(0.1 -0.1)\">\r\n       <use xlink:href=\"#DejaVuSans-50\"/>\r\n       <use x=\"63.623047\" xlink:href=\"#DejaVuSans-46\"/>\r\n       <use x=\"95.410156\" xlink:href=\"#DejaVuSans-53\"/>\r\n      </g>\r\n     </g>\r\n    </g>\r\n    <g id=\"xtick_13\">\r\n     <g id=\"line2d_33\">\r\n      <g>\r\n       <use style=\"stroke:#000000;stroke-width:0.8;\" x=\"106.691539\" xlink:href=\"#md1a50f5a35\" y=\"438.067166\"/>\r\n      </g>\r\n     </g>\r\n     <g id=\"text_33\">\r\n      <!-- 5.0 -->\r\n      <g transform=\"translate(98.739977 452.665603)scale(0.1 -0.1)\">\r\n       <use xlink:href=\"#DejaVuSans-53\"/>\r\n       <use x=\"63.623047\" xlink:href=\"#DejaVuSans-46\"/>\r\n       <use x=\"95.410156\" xlink:href=\"#DejaVuSans-48\"/>\r\n      </g>\r\n     </g>\r\n    </g>\r\n    <g id=\"xtick_14\">\r\n     <g id=\"line2d_34\">\r\n      <g>\r\n       <use style=\"stroke:#000000;stroke-width:0.8;\" x=\"141.990241\" xlink:href=\"#md1a50f5a35\" y=\"438.067166\"/>\r\n      </g>\r\n     </g>\r\n     <g id=\"text_34\">\r\n      <!-- 7.5 -->\r\n      <g transform=\"translate(134.038678 452.665603)scale(0.1 -0.1)\">\r\n       <use xlink:href=\"#DejaVuSans-55\"/>\r\n       <use x=\"63.623047\" xlink:href=\"#DejaVuSans-46\"/>\r\n       <use x=\"95.410156\" xlink:href=\"#DejaVuSans-53\"/>\r\n      </g>\r\n     </g>\r\n    </g>\r\n   </g>\r\n   <g id=\"matplotlib.axis_8\">\r\n    <g id=\"ytick_21\">\r\n     <g id=\"line2d_35\">\r\n      <g>\r\n       <use style=\"stroke:#000000;stroke-width:0.8;\" x=\"29.034396\" xlink:href=\"#mfe05368c54\" y=\"247.454179\"/>\r\n      </g>\r\n     </g>\r\n     <g id=\"text_35\">\r\n      <!-- 0 -->\r\n      <g transform=\"translate(15.671896 251.253398)scale(0.1 -0.1)\">\r\n       <use xlink:href=\"#DejaVuSans-48\"/>\r\n      </g>\r\n     </g>\r\n    </g>\r\n    <g id=\"ytick_22\">\r\n     <g id=\"line2d_36\">\r\n      <g>\r\n       <use style=\"stroke:#000000;stroke-width:0.8;\" x=\"29.034396\" xlink:href=\"#mfe05368c54\" y=\"275.69314\"/>\r\n      </g>\r\n     </g>\r\n     <g id=\"text_36\">\r\n      <!-- 2 -->\r\n      <g transform=\"translate(15.671896 279.492359)scale(0.1 -0.1)\">\r\n       <use xlink:href=\"#DejaVuSans-50\"/>\r\n      </g>\r\n     </g>\r\n    </g>\r\n    <g id=\"ytick_23\">\r\n     <g id=\"line2d_37\">\r\n      <g>\r\n       <use style=\"stroke:#000000;stroke-width:0.8;\" x=\"29.034396\" xlink:href=\"#mfe05368c54\" y=\"303.932101\"/>\r\n      </g>\r\n     </g>\r\n     <g id=\"text_37\">\r\n      <!-- 4 -->\r\n      <g transform=\"translate(15.671896 307.73132)scale(0.1 -0.1)\">\r\n       <use xlink:href=\"#DejaVuSans-52\"/>\r\n      </g>\r\n     </g>\r\n    </g>\r\n    <g id=\"ytick_24\">\r\n     <g id=\"line2d_38\">\r\n      <g>\r\n       <use style=\"stroke:#000000;stroke-width:0.8;\" x=\"29.034396\" xlink:href=\"#mfe05368c54\" y=\"332.171062\"/>\r\n      </g>\r\n     </g>\r\n     <g id=\"text_38\">\r\n      <!-- 6 -->\r\n      <g transform=\"translate(15.671896 335.970281)scale(0.1 -0.1)\">\r\n       <use xlink:href=\"#DejaVuSans-54\"/>\r\n      </g>\r\n     </g>\r\n    </g>\r\n    <g id=\"ytick_25\">\r\n     <g id=\"line2d_39\">\r\n      <g>\r\n       <use style=\"stroke:#000000;stroke-width:0.8;\" x=\"29.034396\" xlink:href=\"#mfe05368c54\" y=\"360.410023\"/>\r\n      </g>\r\n     </g>\r\n     <g id=\"text_39\">\r\n      <!-- 8 -->\r\n      <g transform=\"translate(15.671896 364.209242)scale(0.1 -0.1)\">\r\n       <use xlink:href=\"#DejaVuSans-56\"/>\r\n      </g>\r\n     </g>\r\n    </g>\r\n    <g id=\"ytick_26\">\r\n     <g id=\"line2d_40\">\r\n      <g>\r\n       <use style=\"stroke:#000000;stroke-width:0.8;\" x=\"29.034396\" xlink:href=\"#mfe05368c54\" y=\"388.648984\"/>\r\n      </g>\r\n     </g>\r\n     <g id=\"text_40\">\r\n      <!-- 10 -->\r\n      <g transform=\"translate(9.309396 392.448203)scale(0.1 -0.1)\">\r\n       <use xlink:href=\"#DejaVuSans-49\"/>\r\n       <use x=\"63.623047\" xlink:href=\"#DejaVuSans-48\"/>\r\n      </g>\r\n     </g>\r\n    </g>\r\n    <g id=\"ytick_27\">\r\n     <g id=\"line2d_41\">\r\n      <g>\r\n       <use style=\"stroke:#000000;stroke-width:0.8;\" x=\"29.034396\" xlink:href=\"#mfe05368c54\" y=\"416.887945\"/>\r\n      </g>\r\n     </g>\r\n     <g id=\"text_41\">\r\n      <!-- 12 -->\r\n      <g transform=\"translate(9.309396 420.687164)scale(0.1 -0.1)\">\r\n       <use xlink:href=\"#DejaVuSans-49\"/>\r\n       <use x=\"63.623047\" xlink:href=\"#DejaVuSans-50\"/>\r\n      </g>\r\n     </g>\r\n    </g>\r\n   </g>\r\n   <g id=\"patch_18\">\r\n    <path d=\"M 29.034396 438.067166 \r\nL 29.034396 240.394439 \r\n\" style=\"fill:none;stroke:#000000;stroke-linecap:square;stroke-linejoin:miter;stroke-width:0.8;\"/>\r\n   </g>\r\n   <g id=\"patch_19\">\r\n    <path d=\"M 156.109721 438.067166 \r\nL 156.109721 240.394439 \r\n\" style=\"fill:none;stroke:#000000;stroke-linecap:square;stroke-linejoin:miter;stroke-width:0.8;\"/>\r\n   </g>\r\n   <g id=\"patch_20\">\r\n    <path d=\"M 29.034396 438.067166 \r\nL 156.109721 438.067166 \r\n\" style=\"fill:none;stroke:#000000;stroke-linecap:square;stroke-linejoin:miter;stroke-width:0.8;\"/>\r\n   </g>\r\n   <g id=\"patch_21\">\r\n    <path d=\"M 29.034396 240.394439 \r\nL 156.109721 240.394439 \r\n\" style=\"fill:none;stroke:#000000;stroke-linecap:square;stroke-linejoin:miter;stroke-width:0.8;\"/>\r\n   </g>\r\n  </g>\r\n  <g id=\"axes_5\">\r\n   <g id=\"patch_22\">\r\n    <path d=\"M 184.477941 412.171979 \r\nL 315.772059 412.171979 \r\nL 315.772059 266.289626 \r\nL 184.477941 266.289626 \r\nz\r\n\" style=\"fill:#ffffff;\"/>\r\n   </g>\r\n   <g clip-path=\"url(#pfba91b95d2)\">\r\n    <image height=\"146\" id=\"image6002c8f305\" transform=\"scale(1 -1)translate(0 -146)\" width=\"132\" x=\"184.477941\" xlink:href=\"data:image/png;base64,\r\niVBORw0KGgoAAAANSUhEUgAAAIQAAACSCAYAAACEy2IhAAAABHNCSVQICAgIfAhkiAAAAqtJREFUeJzt3DFKYwscxeGbxxRuwGAfC9NZpLBwC0Fch65BISBin5XoIhR0ASliY2XQIo11pj5THufx4Pl9/eEvMz9uc7kZ7Xa73VD6+PiodtfX1+3J4f7+vt5uNptqNx6P65vz+bzeLhaLavedv/efesn/kiAIgiAIgiAIgiAIgiAIgiAIgiAIgiAIgiAIgiAIo+12W7/+ns1m1W69Xrcnf5TJZFLtnp+f65ueEARBEARBEARBEARBEARBEARBEARBEARBEARBEIRfd3d39bh9a3lyclLfXC6X9XY6nVa71WpV37y4uKi3T09P1e7m5qa+6QlBEARBEARBEARBEARBEARBEARBEARBEARBEARBEARhdHR0VH/s+/b2Vu1eX1/bk8PBwUG9/S+0v689DP3Hvt/5N/KEIAiCIAiCIAiCIAiCIAiCIAiCIAiCIAiCIAiCIIz29vbqt53Hx8fV7vHxsT35o5yenla79iPhYfCE4A+CIAiCIAiCIAiCIAiCIAiCIAiCIAiCIAiCIAiCIAiCIAiCIAiCIAiCIAiCIAiCIAiCIAiCIAiCIAiCIAiCIAh+6/pf9v7+Xm8PDw+rnd+65q8RBEEQBEEQBEEQBEEQBEEQBEEQBEEQBEEQBEH4dX5+Xo9vb2+r3dnZWX1zuVzW2+l0Wu1Wq1V98/Lyst5+fX1Vu+/8n3pCEARBEARBEARBEARBEARBEARBEARBEARBEARBEARBGG232/pj39lsVu3W63V78keZTCbV7uXlpb7pCUEQBEEQBEEQBEEQBEEQBEEQBEEQBEEQBEEQBEEY7Xa7+m3n5+dntbu6umpPDg8PD/V2s9lUu/F4XN+cz+f1drFYVLv9/f36picEQRAEQRAEQRAEQRAEQRAEQRAEQRAEQRAEQRAEQRCE32CdbI88oiR/AAAAAElFTkSuQmCC\" y=\"-266.171979\"/>\r\n   </g>\r\n   <g id=\"matplotlib.axis_9\">\r\n    <g id=\"xtick_15\">\r\n     <g id=\"line2d_42\">\r\n      <g>\r\n       <use style=\"stroke:#000000;stroke-width:0.8;\" x=\"191.772059\" xlink:href=\"#md1a50f5a35\" y=\"412.171979\"/>\r\n      </g>\r\n     </g>\r\n     <g id=\"text_42\">\r\n      <!-- 0.0 -->\r\n      <g transform=\"translate(183.820496 426.770416)scale(0.1 -0.1)\">\r\n       <use xlink:href=\"#DejaVuSans-48\"/>\r\n       <use x=\"63.623047\" xlink:href=\"#DejaVuSans-46\"/>\r\n       <use x=\"95.410156\" xlink:href=\"#DejaVuSans-48\"/>\r\n      </g>\r\n     </g>\r\n    </g>\r\n    <g id=\"xtick_16\">\r\n     <g id=\"line2d_43\">\r\n      <g>\r\n       <use style=\"stroke:#000000;stroke-width:0.8;\" x=\"228.242647\" xlink:href=\"#md1a50f5a35\" y=\"412.171979\"/>\r\n      </g>\r\n     </g>\r\n     <g id=\"text_43\">\r\n      <!-- 2.5 -->\r\n      <g transform=\"translate(220.291085 426.770416)scale(0.1 -0.1)\">\r\n       <use xlink:href=\"#DejaVuSans-50\"/>\r\n       <use x=\"63.623047\" xlink:href=\"#DejaVuSans-46\"/>\r\n       <use x=\"95.410156\" xlink:href=\"#DejaVuSans-53\"/>\r\n      </g>\r\n     </g>\r\n    </g>\r\n    <g id=\"xtick_17\">\r\n     <g id=\"line2d_44\">\r\n      <g>\r\n       <use style=\"stroke:#000000;stroke-width:0.8;\" x=\"264.713235\" xlink:href=\"#md1a50f5a35\" y=\"412.171979\"/>\r\n      </g>\r\n     </g>\r\n     <g id=\"text_44\">\r\n      <!-- 5.0 -->\r\n      <g transform=\"translate(256.761673 426.770416)scale(0.1 -0.1)\">\r\n       <use xlink:href=\"#DejaVuSans-53\"/>\r\n       <use x=\"63.623047\" xlink:href=\"#DejaVuSans-46\"/>\r\n       <use x=\"95.410156\" xlink:href=\"#DejaVuSans-48\"/>\r\n      </g>\r\n     </g>\r\n    </g>\r\n    <g id=\"xtick_18\">\r\n     <g id=\"line2d_45\">\r\n      <g>\r\n       <use style=\"stroke:#000000;stroke-width:0.8;\" x=\"301.183824\" xlink:href=\"#md1a50f5a35\" y=\"412.171979\"/>\r\n      </g>\r\n     </g>\r\n     <g id=\"text_45\">\r\n      <!-- 7.5 -->\r\n      <g transform=\"translate(293.232261 426.770416)scale(0.1 -0.1)\">\r\n       <use xlink:href=\"#DejaVuSans-55\"/>\r\n       <use x=\"63.623047\" xlink:href=\"#DejaVuSans-46\"/>\r\n       <use x=\"95.410156\" xlink:href=\"#DejaVuSans-53\"/>\r\n      </g>\r\n     </g>\r\n    </g>\r\n   </g>\r\n   <g id=\"matplotlib.axis_10\">\r\n    <g id=\"ytick_28\">\r\n     <g id=\"line2d_46\">\r\n      <g>\r\n       <use style=\"stroke:#000000;stroke-width:0.8;\" x=\"184.477941\" xlink:href=\"#mfe05368c54\" y=\"273.583743\"/>\r\n      </g>\r\n     </g>\r\n     <g id=\"text_46\">\r\n      <!-- 0 -->\r\n      <g transform=\"translate(171.115441 277.382962)scale(0.1 -0.1)\">\r\n       <use xlink:href=\"#DejaVuSans-48\"/>\r\n      </g>\r\n     </g>\r\n    </g>\r\n    <g id=\"ytick_29\">\r\n     <g id=\"line2d_47\">\r\n      <g>\r\n       <use style=\"stroke:#000000;stroke-width:0.8;\" x=\"184.477941\" xlink:href=\"#mfe05368c54\" y=\"302.760214\"/>\r\n      </g>\r\n     </g>\r\n     <g id=\"text_47\">\r\n      <!-- 2 -->\r\n      <g transform=\"translate(171.115441 306.559433)scale(0.1 -0.1)\">\r\n       <use xlink:href=\"#DejaVuSans-50\"/>\r\n      </g>\r\n     </g>\r\n    </g>\r\n    <g id=\"ytick_30\">\r\n     <g id=\"line2d_48\">\r\n      <g>\r\n       <use style=\"stroke:#000000;stroke-width:0.8;\" x=\"184.477941\" xlink:href=\"#mfe05368c54\" y=\"331.936684\"/>\r\n      </g>\r\n     </g>\r\n     <g id=\"text_48\">\r\n      <!-- 4 -->\r\n      <g transform=\"translate(171.115441 335.735903)scale(0.1 -0.1)\">\r\n       <use xlink:href=\"#DejaVuSans-52\"/>\r\n      </g>\r\n     </g>\r\n    </g>\r\n    <g id=\"ytick_31\">\r\n     <g id=\"line2d_49\">\r\n      <g>\r\n       <use style=\"stroke:#000000;stroke-width:0.8;\" x=\"184.477941\" xlink:href=\"#mfe05368c54\" y=\"361.113155\"/>\r\n      </g>\r\n     </g>\r\n     <g id=\"text_49\">\r\n      <!-- 6 -->\r\n      <g transform=\"translate(171.115441 364.912374)scale(0.1 -0.1)\">\r\n       <use xlink:href=\"#DejaVuSans-54\"/>\r\n      </g>\r\n     </g>\r\n    </g>\r\n    <g id=\"ytick_32\">\r\n     <g id=\"line2d_50\">\r\n      <g>\r\n       <use style=\"stroke:#000000;stroke-width:0.8;\" x=\"184.477941\" xlink:href=\"#mfe05368c54\" y=\"390.289626\"/>\r\n      </g>\r\n     </g>\r\n     <g id=\"text_50\">\r\n      <!-- 8 -->\r\n      <g transform=\"translate(171.115441 394.088844)scale(0.1 -0.1)\">\r\n       <use xlink:href=\"#DejaVuSans-56\"/>\r\n      </g>\r\n     </g>\r\n    </g>\r\n   </g>\r\n   <g id=\"patch_23\">\r\n    <path d=\"M 184.477941 412.171979 \r\nL 184.477941 266.289626 \r\n\" style=\"fill:none;stroke:#000000;stroke-linecap:square;stroke-linejoin:miter;stroke-width:0.8;\"/>\r\n   </g>\r\n   <g id=\"patch_24\">\r\n    <path d=\"M 315.772059 412.171979 \r\nL 315.772059 266.289626 \r\n\" style=\"fill:none;stroke:#000000;stroke-linecap:square;stroke-linejoin:miter;stroke-width:0.8;\"/>\r\n   </g>\r\n   <g id=\"patch_25\">\r\n    <path d=\"M 184.477941 412.171979 \r\nL 315.772059 412.171979 \r\n\" style=\"fill:none;stroke:#000000;stroke-linecap:square;stroke-linejoin:miter;stroke-width:0.8;\"/>\r\n   </g>\r\n   <g id=\"patch_26\">\r\n    <path d=\"M 184.477941 266.289626 \r\nL 315.772059 266.289626 \r\n\" style=\"fill:none;stroke:#000000;stroke-linecap:square;stroke-linejoin:miter;stroke-width:0.8;\"/>\r\n   </g>\r\n  </g>\r\n  <g id=\"axes_6\">\r\n   <g id=\"patch_27\">\r\n    <path d=\"M 342.030882 412.171979 \r\nL 473.325 412.171979 \r\nL 473.325 266.289626 \r\nL 342.030882 266.289626 \r\nz\r\n\" style=\"fill:#ffffff;\"/>\r\n   </g>\r\n   <g clip-path=\"url(#p27b8a456ba)\">\r\n    <image height=\"146\" id=\"image302193da43\" transform=\"scale(1 -1)translate(0 -146)\" width=\"132\" x=\"342.030882\" xlink:href=\"data:image/png;base64,\r\niVBORw0KGgoAAAANSUhEUgAAAIQAAACSCAYAAACEy2IhAAAABHNCSVQICAgIfAhkiAAAAs5JREFUeJzt3CFLq3EYxuF3h4lJm8kk2AxazcsyjHaDCoJFq2jSbzAQm2VlLBiNFosYDH4D10TQIDh28l2fHY94znX1m8fw41/Ga+vj42PSFJ2enpZ2V1dX1ZPNaDQqb5eWlkq7g4OD8s3V1dXydn19vbS7uLgo3/xVXvJPEgRBEARBEARBEARBEARBEARBEARBEARBEARBEAShfXx8XB6fnZ39wT/l6z09PZV2Ozs75ZtbW1vl7XfwQhAEQRAEQRAEQRAEQRAEQRAEQRAEQRAEQRAEQRDag8GgPF5cXCztprm5trZW3r6/v5d2t7e35Zv7+/vl7XfwQhAEQRAEQRAEQRAEQRAEQRAEQRAEQRAEQRAEQRAEQWhPM/78/Czt3t7eyjerP2E3TdPMz8+XdhsbG+Wbk0n5X4k33W63vK3yQhAEQRAEQRAEQRAEQRAEQRAEQRAEQRAEQRAEQRDa29vb5fHR0VFp1+l0yjf5Wl4IgiAIgiAIgiAIgiAIgiAIgiAIgiAIgiAIgiAIgiAI7cPDw/J4YWGhtLu8vCzffHx8LG9fX19Lu2k+2P0Os7Oz5a0XgiAIgiAIgiAIgiAIgiAIgiAIgiAIgiAIgiAIgiAIQmvy037b/WGGw2F5u7m5Wdrd3NyUb3ohCIIgCIIgCIIgCIIgCIIgCIIgCIIgCIIgCIIgCK37+/vyr53n5+el3d7eXvVks7KyUt7OzMyUdnd3d+Wbu7u75e3z83NpNxqNyje9EARBEARBEARBEARBEARBEARBEARBEARBEARBEARBENrj8bg87vf7f3X3vzk5OSnt5ubmyje9EARBEARBEARBEARBEARBEARBEARBEARBEARBEITWeDwuf+x7fX1d2vV6verJ5uHhobx9eXkp7ZaXl8s3p/nYd5qPoqu8EARBEARBEARBEARBEARBEARBEARBEARBEARBEARBEH4DLbRxthHb8ukAAAAASUVORK5CYII=\" y=\"-266.171979\"/>\r\n   </g>\r\n   <g id=\"matplotlib.axis_11\">\r\n    <g id=\"xtick_19\">\r\n     <g id=\"line2d_51\">\r\n      <g>\r\n       <use style=\"stroke:#000000;stroke-width:0.8;\" x=\"349.325\" xlink:href=\"#md1a50f5a35\" y=\"412.171979\"/>\r\n      </g>\r\n     </g>\r\n     <g id=\"text_51\">\r\n      <!-- 0.0 -->\r\n      <g transform=\"translate(341.373438 426.770416)scale(0.1 -0.1)\">\r\n       <use xlink:href=\"#DejaVuSans-48\"/>\r\n       <use x=\"63.623047\" xlink:href=\"#DejaVuSans-46\"/>\r\n       <use x=\"95.410156\" xlink:href=\"#DejaVuSans-48\"/>\r\n      </g>\r\n     </g>\r\n    </g>\r\n    <g id=\"xtick_20\">\r\n     <g id=\"line2d_52\">\r\n      <g>\r\n       <use style=\"stroke:#000000;stroke-width:0.8;\" x=\"385.795588\" xlink:href=\"#md1a50f5a35\" y=\"412.171979\"/>\r\n      </g>\r\n     </g>\r\n     <g id=\"text_52\">\r\n      <!-- 2.5 -->\r\n      <g transform=\"translate(377.844026 426.770416)scale(0.1 -0.1)\">\r\n       <use xlink:href=\"#DejaVuSans-50\"/>\r\n       <use x=\"63.623047\" xlink:href=\"#DejaVuSans-46\"/>\r\n       <use x=\"95.410156\" xlink:href=\"#DejaVuSans-53\"/>\r\n      </g>\r\n     </g>\r\n    </g>\r\n    <g id=\"xtick_21\">\r\n     <g id=\"line2d_53\">\r\n      <g>\r\n       <use style=\"stroke:#000000;stroke-width:0.8;\" x=\"422.266176\" xlink:href=\"#md1a50f5a35\" y=\"412.171979\"/>\r\n      </g>\r\n     </g>\r\n     <g id=\"text_53\">\r\n      <!-- 5.0 -->\r\n      <g transform=\"translate(414.314614 426.770416)scale(0.1 -0.1)\">\r\n       <use xlink:href=\"#DejaVuSans-53\"/>\r\n       <use x=\"63.623047\" xlink:href=\"#DejaVuSans-46\"/>\r\n       <use x=\"95.410156\" xlink:href=\"#DejaVuSans-48\"/>\r\n      </g>\r\n     </g>\r\n    </g>\r\n    <g id=\"xtick_22\">\r\n     <g id=\"line2d_54\">\r\n      <g>\r\n       <use style=\"stroke:#000000;stroke-width:0.8;\" x=\"458.736765\" xlink:href=\"#md1a50f5a35\" y=\"412.171979\"/>\r\n      </g>\r\n     </g>\r\n     <g id=\"text_54\">\r\n      <!-- 7.5 -->\r\n      <g transform=\"translate(450.785202 426.770416)scale(0.1 -0.1)\">\r\n       <use xlink:href=\"#DejaVuSans-55\"/>\r\n       <use x=\"63.623047\" xlink:href=\"#DejaVuSans-46\"/>\r\n       <use x=\"95.410156\" xlink:href=\"#DejaVuSans-53\"/>\r\n      </g>\r\n     </g>\r\n    </g>\r\n   </g>\r\n   <g id=\"matplotlib.axis_12\">\r\n    <g id=\"ytick_33\">\r\n     <g id=\"line2d_55\">\r\n      <g>\r\n       <use style=\"stroke:#000000;stroke-width:0.8;\" x=\"342.030882\" xlink:href=\"#mfe05368c54\" y=\"273.583743\"/>\r\n      </g>\r\n     </g>\r\n     <g id=\"text_55\">\r\n      <!-- 0 -->\r\n      <g transform=\"translate(328.668382 277.382962)scale(0.1 -0.1)\">\r\n       <use xlink:href=\"#DejaVuSans-48\"/>\r\n      </g>\r\n     </g>\r\n    </g>\r\n    <g id=\"ytick_34\">\r\n     <g id=\"line2d_56\">\r\n      <g>\r\n       <use style=\"stroke:#000000;stroke-width:0.8;\" x=\"342.030882\" xlink:href=\"#mfe05368c54\" y=\"302.760214\"/>\r\n      </g>\r\n     </g>\r\n     <g id=\"text_56\">\r\n      <!-- 2 -->\r\n      <g transform=\"translate(328.668382 306.559433)scale(0.1 -0.1)\">\r\n       <use xlink:href=\"#DejaVuSans-50\"/>\r\n      </g>\r\n     </g>\r\n    </g>\r\n    <g id=\"ytick_35\">\r\n     <g id=\"line2d_57\">\r\n      <g>\r\n       <use style=\"stroke:#000000;stroke-width:0.8;\" x=\"342.030882\" xlink:href=\"#mfe05368c54\" y=\"331.936684\"/>\r\n      </g>\r\n     </g>\r\n     <g id=\"text_57\">\r\n      <!-- 4 -->\r\n      <g transform=\"translate(328.668382 335.735903)scale(0.1 -0.1)\">\r\n       <use xlink:href=\"#DejaVuSans-52\"/>\r\n      </g>\r\n     </g>\r\n    </g>\r\n    <g id=\"ytick_36\">\r\n     <g id=\"line2d_58\">\r\n      <g>\r\n       <use style=\"stroke:#000000;stroke-width:0.8;\" x=\"342.030882\" xlink:href=\"#mfe05368c54\" y=\"361.113155\"/>\r\n      </g>\r\n     </g>\r\n     <g id=\"text_58\">\r\n      <!-- 6 -->\r\n      <g transform=\"translate(328.668382 364.912374)scale(0.1 -0.1)\">\r\n       <use xlink:href=\"#DejaVuSans-54\"/>\r\n      </g>\r\n     </g>\r\n    </g>\r\n    <g id=\"ytick_37\">\r\n     <g id=\"line2d_59\">\r\n      <g>\r\n       <use style=\"stroke:#000000;stroke-width:0.8;\" x=\"342.030882\" xlink:href=\"#mfe05368c54\" y=\"390.289626\"/>\r\n      </g>\r\n     </g>\r\n     <g id=\"text_59\">\r\n      <!-- 8 -->\r\n      <g transform=\"translate(328.668382 394.088844)scale(0.1 -0.1)\">\r\n       <use xlink:href=\"#DejaVuSans-56\"/>\r\n      </g>\r\n     </g>\r\n    </g>\r\n   </g>\r\n   <g id=\"patch_28\">\r\n    <path d=\"M 342.030882 412.171979 \r\nL 342.030882 266.289626 \r\n\" style=\"fill:none;stroke:#000000;stroke-linecap:square;stroke-linejoin:miter;stroke-width:0.8;\"/>\r\n   </g>\r\n   <g id=\"patch_29\">\r\n    <path d=\"M 473.325 412.171979 \r\nL 473.325 266.289626 \r\n\" style=\"fill:none;stroke:#000000;stroke-linecap:square;stroke-linejoin:miter;stroke-width:0.8;\"/>\r\n   </g>\r\n   <g id=\"patch_30\">\r\n    <path d=\"M 342.030882 412.171979 \r\nL 473.325 412.171979 \r\n\" style=\"fill:none;stroke:#000000;stroke-linecap:square;stroke-linejoin:miter;stroke-width:0.8;\"/>\r\n   </g>\r\n   <g id=\"patch_31\">\r\n    <path d=\"M 342.030882 266.289626 \r\nL 473.325 266.289626 \r\n\" style=\"fill:none;stroke:#000000;stroke-linecap:square;stroke-linejoin:miter;stroke-width:0.8;\"/>\r\n   </g>\r\n  </g>\r\n </g>\r\n <defs>\r\n  <clipPath id=\"p56d7390846\">\r\n   <rect height=\"189.647059\" width=\"131.294118\" x=\"26.925\" y=\"7.2\"/>\r\n  </clipPath>\r\n  <clipPath id=\"peb6a9d8003\">\r\n   <rect height=\"103.159664\" width=\"131.294118\" x=\"184.477941\" y=\"50.443697\"/>\r\n  </clipPath>\r\n  <clipPath id=\"pe91e6f9263\">\r\n   <rect height=\"179.037433\" width=\"131.294118\" x=\"342.030882\" y=\"12.504813\"/>\r\n  </clipPath>\r\n  <clipPath id=\"pc1d4e9425a\">\r\n   <rect height=\"197.672727\" width=\"127.075325\" x=\"29.034396\" y=\"240.394439\"/>\r\n  </clipPath>\r\n  <clipPath id=\"pfba91b95d2\">\r\n   <rect height=\"145.882353\" width=\"131.294118\" x=\"184.477941\" y=\"266.289626\"/>\r\n  </clipPath>\r\n  <clipPath id=\"p27b8a456ba\">\r\n   <rect height=\"145.882353\" width=\"131.294118\" x=\"342.030882\" y=\"266.289626\"/>\r\n  </clipPath>\r\n </defs>\r\n</svg>\r\n",
      "image/png": "[encoded data removed]"
     },
     "metadata": {
      "needs_background": "light"
     }
    }
   ],
   "source": [
    "from matplotlib import pyplot as plt\n",
    "plt.rcParams[\"figure.figsize\"] = (16, 9)\n",
    "plt.rcParams[\"image.cmap\"] = 'gray'\n",
    "\n",
    "img = utils.read_img('haystack.png')\n",
    "i_z = utils.read_img('letter-z.png')\n",
    "i_P = utils.read_img('letter-P.png')\n",
    "i_q = utils.read_img('letter-q.png')\n",
    "i_h = utils.read_img('letter-h.png')\n",
    "i_w = utils.read_img('letter-w.png')\n",
    "i_o = utils.read_img('letter-oo.png')\n",
    "i_a = utils.read_img('letter-a.png')\n",
    "\n",
    "fig = plt.figure(figsize=(8, 8))\n",
    "\n",
    "fig.add_subplot(2, 3, 1)\n",
    "plt.imshow(i_z)\n",
    "\n",
    "fig.add_subplot(2, 3, 2)\n",
    "plt.imshow(i_w)\n",
    "\n",
    "fig.add_subplot(2, 3, 3)\n",
    "plt.imshow(i_q)\n",
    "\n",
    "fig.add_subplot(2, 3, 4)\n",
    "plt.imshow(i_h)\n",
    "\n",
    "fig.add_subplot(2, 3, 5)\n",
    "plt.imshow(i_o)\n",
    "\n",
    "fig.add_subplot(2, 3, 6)\n",
    "plt.imshow(i_a)\n",
    "\n",
    "\n",
    "plt.show()"
   ]
  },
  {
   "cell_type": "markdown",
   "metadata": {},
   "source": [
    "## Calculating frequencies of selected characters\n",
    "\n",
    "Well we've managed to calculate all of them correctly (I check the result with their occurences in .txt file)\n",
    "\n",
    "Key to get all of them right was to select as small candidates as possible."
   ]
  },
  {
   "cell_type": "code",
   "execution_count": 16,
   "metadata": {},
   "outputs": [
    {
     "output_type": "stream",
     "name": "stdout",
     "text": "Found 187 / 187 matches for h\nFound 38 / 38 matches for w\nFound 11 / 11 matches for q\nFound 7 / 7 matches for z\nFound 369 / 369 matches for o\nFound 397 / 397 matches for a\n"
    }
   ],
   "source": [
    "patterns = [i_h, i_w, i_q, i_z, i_o, i_a]\n",
    "names    = ['h', 'w', 'q', 'z', 'o', 'a']\n",
    "\n",
    "for i, pattern in enumerate(patterns):\n",
    "    Y, X = img, pattern\n",
    "    found = list(bird_baker.bird_baker(Y, X))\n",
    "    if found:\n",
    "        print(f'Found {len(found)} / {freq[names[i]]} matches for {names[i]}')"
   ]
  },
  {
   "cell_type": "markdown",
   "metadata": {},
   "source": [
    "### Calculating occurenes of `p a t t e r n`"
   ]
  },
  {
   "cell_type": "code",
   "execution_count": 17,
   "metadata": {},
   "outputs": [
    {
     "output_type": "stream",
     "name": "stdout",
     "text": "Found 5 matches for [p a t t e r n]\n"
    }
   ],
   "source": [
    "i_pattern = utils.read_img('word-pattern.png')\n",
    "\n",
    "Y, X = img, i_pattern\n",
    "found = list(bird_baker.bird_baker(Y, X))\n",
    "if found:\n",
    "    print(f'Found {len(found)} matches for [p a t t e r n]')"
   ]
  },
  {
   "cell_type": "markdown",
   "metadata": {},
   "source": [
    "Seems about right ... "
   ]
  },
  {
   "cell_type": "markdown",
   "metadata": {},
   "source": [
    "## Time comparison\n",
    "\n",
    "Various benchamrks (this may take quite a long time)"
   ]
  },
  {
   "cell_type": "code",
   "execution_count": 15,
   "metadata": {},
   "outputs": [
    {
     "output_type": "stream",
     "name": "stdout",
     "text": "Measuring for pattern of size: (10, 10)\nPreprocessing time:197 µs ± 21.8 µs per loop (mean ± std. dev. of 7 runs, 10000 loops each)\nFinding match time:3.57 s ± 129 ms per loop (mean ± std. dev. of 7 runs, 1 loop each)\n----------------------------------------------------------------\n\nMeasuring for pattern of size: (10, 100)\nPreprocessing time:2.31 ms ± 97.2 µs per loop (mean ± std. dev. of 7 runs, 100 loops each)\nFinding match time:3.67 s ± 193 ms per loop (mean ± std. dev. of 7 runs, 1 loop each)\n----------------------------------------------------------------\n\nMeasuring for pattern of size: (10, 500)\nPreprocessing time:17.6 ms ± 3.68 ms per loop (mean ± std. dev. of 7 runs, 100 loops each)\nFinding match time:2.58 s ± 290 ms per loop (mean ± std. dev. of 7 runs, 1 loop each)\n----------------------------------------------------------------\n\nMeasuring for pattern of size: (25, 10)\nPreprocessing time:377 µs ± 7.4 µs per loop (mean ± std. dev. of 7 runs, 1000 loops each)\nFinding match time:3.26 s ± 22.1 ms per loop (mean ± std. dev. of 7 runs, 1 loop each)\n----------------------------------------------------------------\n\nMeasuring for pattern of size: (25, 100)\nPreprocessing time:4.58 ms ± 108 µs per loop (mean ± std. dev. of 7 runs, 100 loops each)\nFinding match time:3.01 s ± 19.5 ms per loop (mean ± std. dev. of 7 runs, 1 loop each)\n----------------------------------------------------------------\n\nMeasuring for pattern of size: (25, 500)\nPreprocessing time:27.1 ms ± 1.59 ms per loop (mean ± std. dev. of 7 runs, 10 loops each)\nFinding match time:2.13 s ± 16.3 ms per loop (mean ± std. dev. of 7 runs, 1 loop each)\n----------------------------------------------------------------\n\nMeasuring for pattern of size: (100, 10)\nPreprocessing time:1.16 ms ± 13 µs per loop (mean ± std. dev. of 7 runs, 1000 loops each)\nFinding match time:3.18 s ± 29.1 ms per loop (mean ± std. dev. of 7 runs, 1 loop each)\n----------------------------------------------------------------\n\nMeasuring for pattern of size: (100, 100)\nPreprocessing time:16.4 ms ± 89.2 µs per loop (mean ± std. dev. of 7 runs, 100 loops each)\nFinding match time:2.94 s ± 17.4 ms per loop (mean ± std. dev. of 7 runs, 1 loop each)\n----------------------------------------------------------------\n\nMeasuring for pattern of size: (100, 500)\nPreprocessing time:101 ms ± 1.46 ms per loop (mean ± std. dev. of 7 runs, 10 loops each)\nFinding match time:2.12 s ± 10.5 ms per loop (mean ± std. dev. of 7 runs, 1 loop each)\n----------------------------------------------------------------\n\n"
    }
   ],
   "source": [
    "pattern_sizes = [\n",
    "    (10, 10),\n",
    "    (10, 100),\n",
    "    (10, 500),\n",
    "    (25, 10),\n",
    "    (25, 100),\n",
    "    (25, 500),\n",
    "    (100, 10),\n",
    "    (100, 100),\n",
    "    (100, 500),\n",
    "]\n",
    "\n",
    "def select_subimg(size):\n",
    "    w, h = size\n",
    "    return img[100:100+w, 100:100+h]\n",
    "\n",
    "for size in pattern_sizes:\n",
    "    Y, X = img, select_subimg(size)\n",
    "    print(f'Measuring for pattern of size: {size}')\n",
    "    print('Preprocessing time: ', end = ' ')\n",
    "    %timeit aho_corasick.preprocess(X)\n",
    "    print('Finding match time: ', end = ' ')\n",
    "    %timeit list(bird_baker.bird_baker(Y, X))\n",
    "    print('-' * 64, end = '\\n\\n')"
   ]
  },
  {
   "cell_type": "markdown",
   "metadata": {},
   "source": [
    "Time for building automata is significantly smaller than time for finding the pattern.\n",
    "\n",
    "That's because time comlexity for creating aho-corasick machine \n",
    "is bounded by $O(m_1 \\cdot m_2)$, while\n",
    "time for searchig is $O(m_1 \\cdot m_2 + n_1 \\cdot n_2)$. \n",
    "\n",
    "Now that's the time complexity for original bird baker algorithm, in my implementation I used naive \n",
    "pattern matching instead of kmp. It made implementation simpler and allowed to use non-rectangular patterns,\n",
    "but running time is slightly worse."
   ]
  },
  {
   "cell_type": "markdown",
   "metadata": {},
   "source": [
    "### Time measurements for image splitted horizontally"
   ]
  },
  {
   "cell_type": "code",
   "execution_count": 4,
   "metadata": {},
   "outputs": [
    {
     "output_type": "stream",
     "name": "stdout",
     "text": "Measuring time for 2 splits\n      Finding match time for 1 split:1.43 s ± 6.34 ms per loop (mean ± std. dev. of 7 runs, 1 loop each)\n\n      Finding match time for 2 split:1.43 s ± 9.29 ms per loop (mean ± std. dev. of 7 runs, 1 loop each)\n\n----------------------------------------------------------------\n\nMeasuring time for 4 splits\n      Finding match time for 1 split:706 ms ± 2.22 ms per loop (mean ± std. dev. of 7 runs, 1 loop each)\n\n      Finding match time for 2 split:704 ms ± 6.16 ms per loop (mean ± std. dev. of 7 runs, 1 loop each)\n\n      Finding match time for 3 split:705 ms ± 5.35 ms per loop (mean ± std. dev. of 7 runs, 1 loop each)\n\n      Finding match time for 4 split:889 ms ± 100 ms per loop (mean ± std. dev. of 7 runs, 1 loop each)\n\n----------------------------------------------------------------\n\nMeasuring time for 8 splits\n      Finding match time for 1 split:411 ms ± 25.9 ms per loop (mean ± std. dev. of 7 runs, 1 loop each)\n\n      Finding match time for 2 split:472 ms ± 85.2 ms per loop (mean ± std. dev. of 7 runs, 1 loop each)\n\n      Finding match time for 3 split:455 ms ± 47.5 ms per loop (mean ± std. dev. of 7 runs, 1 loop each)\n\n      Finding match time for 4 split:419 ms ± 54.5 ms per loop (mean ± std. dev. of 7 runs, 1 loop each)\n\n      Finding match time for 5 split:434 ms ± 50.6 ms per loop (mean ± std. dev. of 7 runs, 1 loop each)\n\n      Finding match time for 6 split:407 ms ± 40.9 ms per loop (mean ± std. dev. of 7 runs, 1 loop each)\n\n      Finding match time for 7 split:396 ms ± 45.3 ms per loop (mean ± std. dev. of 7 runs, 1 loop each)\n\n      Finding match time for 8 split:381 ms ± 13.3 ms per loop (mean ± std. dev. of 7 runs, 1 loop each)\n\n----------------------------------------------------------------\n\n"
    }
   ],
   "source": [
    "def divide_img_horizontally(img, n):\n",
    "    rows = img.shape[0]\n",
    "    x  = rows // n\n",
    "    imgs = []\n",
    "    for i in range(n - 1):\n",
    "        s = i * x\n",
    "        t = s + x\n",
    "        imgs.append(img[s:t, :])\n",
    "    \n",
    "    s = (n - 1) * x\n",
    "    imgs.append(img[s:, :])\n",
    "\n",
    "    return imgs\n",
    "\n",
    "\n",
    "# 50 x 250 pattern\n",
    "X = img[50:100, 50:250]\n",
    "for n in [2, 4, 8]:\n",
    "    imgs = divide_img_horizontally(img, n)\n",
    "    print(f'Measuring time for {n} splits')\n",
    "    for i, Y in enumerate(imgs):\n",
    "        print(' ' * 6 + f'Finding match time for {i + 1} split:', end = ' ')\n",
    "        %timeit list(bird_baker.bird_baker(Y, X))\n",
    "        print()\n",
    "\n",
    "    print('-' * 64, end = '\\n\\n')"
   ]
  },
  {
   "cell_type": "markdown",
   "metadata": {},
   "source": [
    "We can see that after splitting input image times are rougly around 3s"
   ]
  },
  {
   "cell_type": "code",
   "execution_count": null,
   "metadata": {},
   "outputs": [],
   "source": []
  }
 ],
 "metadata": {
  "language_info": {
   "codemirror_mode": {
    "name": "ipython",
    "version": 3
   },
   "file_extension": ".py",
   "mimetype": "text/x-python",
   "name": "python",
   "nbconvert_exporter": "python",
   "pygments_lexer": "ipython3",
   "version": "3.7.7-final"
  },
  "orig_nbformat": 2,
  "kernelspec": {
   "name": "python3",
   "display_name": "Python 3"
  }
 },
 "nbformat": 4,
 "nbformat_minor": 2
}