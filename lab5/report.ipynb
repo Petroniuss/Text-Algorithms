{
 "cells": [
  {
   "cell_type": "code",
   "execution_count": 1,
   "metadata": {},
   "outputs": [],
   "source": [
    "import aho_corasick\n",
    "import bird_baker\n",
    "import utils\n",
    "import numpy as np\n",
    "import cv2"
   ]
  },
  {
   "cell_type": "markdown",
   "metadata": {},
   "source": [
    "# Testing Aho-Corasick algorithm\n",
    "\n",
    "Each node in built trie is associated with:\n",
    "\n",
    "- id \n",
    "\n",
    "- state: Accepting (one or more patterns) or NotAccepting\n",
    "\n",
    "- failure link (when node cannot match given character it 'fails' using failure link) \n",
    "\n",
    "Note that root 'fails' to itself."
   ]
  },
  {
   "cell_type": "code",
   "execution_count": 2,
   "metadata": {
    "tags": [
     "outputPrepend",
     "outputPrepend",
     "outputPrepend",
     "outputPrepend",
     "outputPrepend",
     "outputPrepend",
     "outputPrepend"
    ]
   },
   "outputs": [
    {
     "output_type": "stream",
     "name": "stdout",
     "text": "---Root---\nNode#0, v = ROOT, output = NoT Accepting, fail = #0\n Node#1, v = s, output = NoT Accepting, fail = #0\n  Node#2, v = e, output = NoT Accepting, fail = #7\n   Node#3, v = a, output = NoT Accepting, fail = #8\n    Node#4, v = r, output = {Accepting(1)}, fail = #9\n     Node#5, v = c, output = NoT Accepting, fail = #12\n      Node#6, v = h, output = {Accepting(2), Accepting(0)}, fail = #13\n Node#7, v = e, output = NoT Accepting, fail = #0\n  Node#8, v = a, output = NoT Accepting, fail = #10\n   Node#9, v = r, output = {Accepting(1)}, fail = #11\n Node#10, v = a, output = NoT Accepting, fail = #0\n  Node#11, v = r, output = NoT Accepting, fail = #0\n   Node#12, v = c, output = NoT Accepting, fail = #14\n    Node#13, v = h, output = {Accepting(2)}, fail = #15\n Node#14, v = c, output = NoT Accepting, fail = #0\n  Node#15, v = h, output = NoT Accepting, fail = #0\n   Node#16, v = a, output = NoT Accepting, fail = #10\n    Node#17, v = r, output = NoT Accepting, fail = #11\n     Node#18, v = t, output = {Accepting(3)}, fail = #0\n----------------------------------------------------------------\n\nFinal states: {0: {6}, 1: {9, 4}, 2: {13, 6}, 3: {18}}\nSearching for matches...\nFound ear at 0\nFound arch at 1\n----------------------------------------------------------------\n"
    }
   ],
   "source": [
    "text = \"earch\"\n",
    "patterns = ['search', 'ear', 'arch', 'chart']\n",
    "root = aho_corasick.preprocess(patterns)\n",
    "\n",
    "print(root)\n",
    "print('Final states:', root.get_final_states())\n",
    "\n",
    "aho_corasick.print_matches(text, patterns)"
   ]
  },
  {
   "cell_type": "code",
   "execution_count": 3,
   "metadata": {},
   "outputs": [
    {
     "output_type": "stream",
     "name": "stdout",
     "text": "---Root---\nNode#0, v = ROOT, output = NoT Accepting, fail = #0\n Node#1, v = b, output = NoT Accepting, fail = #0\n  Node#2, v = a, output = NoT Accepting, fail = #4\n   Node#3, v = a, output = {Accepting(0)}, fail = #4\n   Node#7, v = b, output = {Accepting(2)}, fail = #5\n Node#4, v = a, output = NoT Accepting, fail = #0\n  Node#5, v = b, output = NoT Accepting, fail = #1\n   Node#6, v = b, output = {Accepting(1)}, fail = #1\n----------------------------------------------------------------\n\nFinal states: {0: {3}, 1: {6}, 2: {7}}\nSearching for matches...\nFound baa at 0\nFound bab at 3\nFound abb at 4\n----------------------------------------------------------------\n"
    }
   ],
   "source": [
    "patterns = ['baa', 'abb', 'bab']\n",
    "root = aho_corasick.preprocess(patterns)\n",
    "\n",
    "print(root)\n",
    "print('Final states:', root.get_final_states())\n",
    "\n",
    "aho_corasick.print_matches('baababb', patterns)"
   ]
  },
  {
   "cell_type": "markdown",
   "metadata": {},
   "source": [
    "Looking good ..."
   ]
  },
  {
   "cell_type": "markdown",
   "metadata": {},
   "source": [
    "# Two Dimensional Pattern Searching\n",
    "\n",
    "Using Bird-Baker algorithm in a row fashion."
   ]
  },
  {
   "cell_type": "code",
   "execution_count": 4,
   "metadata": {},
   "outputs": [
    {
     "output_type": "stream",
     "name": "stdout",
     "text": "[['a' 'a']\n ['a' 'a']]\n\n[['a' 'a' 'a']\n ['a' 'a' 'a']\n ['a' 'a' 'a']]\n\n{0: {2}, 1: {2}}\nMatches at: [(0, 0), (0, 1), (1, 0), (1, 1)]\n"
    }
   ],
   "source": [
    "X = np.array([list(s) for s in ['aa', 'aa']])\n",
    "Y = np.array([list(s) for s in ['aaa', 'aaa', 'aaa']])\n",
    "\n",
    "print(X, end = '\\n\\n')\n",
    "print(Y, end = '\\n\\n')\n",
    "\n",
    "print(aho_corasick.preprocess(X).get_final_states())\n",
    "print('Matches at:', list(bird_baker.bird_baker(Y, X)))"
   ]
  },
  {
   "cell_type": "code",
   "execution_count": 5,
   "metadata": {},
   "outputs": [
    {
     "output_type": "stream",
     "name": "stdout",
     "text": "[['a' 'c' 'a']\n ['b' 'b' 'a']\n ['c' 'a' 'b']]\n\n[['a' 'c' 'a' 'b']\n ['b' 'b' 'a' 'b']\n ['c' 'a' 'b' 'b']]\n\nFinal states: {0: {3}, 1: {6}, 2: {9}}\nMatches at: [(0, 0)]\n"
    }
   ],
   "source": [
    "X = np.array([list(s) for s in ['aca', 'bba', 'cab']])\n",
    "Y = np.array([list(s) for s in ['acab', 'bbab', 'cabb']])\n",
    "\n",
    "print(X, end = '\\n\\n')\n",
    "print(Y, end = '\\n\\n')\n",
    "\n",
    "print('Final states:', aho_corasick.preprocess(X).get_final_states())\n",
    "print('Matches at:', list(bird_baker.bird_baker(Y, X)))"
   ]
  },
  {
   "cell_type": "markdown",
   "metadata": {},
   "source": [
    "## Matching on non-rectangular patterns"
   ]
  },
  {
   "cell_type": "code",
   "execution_count": 6,
   "metadata": {},
   "outputs": [
    {
     "output_type": "stream",
     "name": "stdout",
     "text": "['a', 'c', 'a']\n['b', 'b', 'a']\n['c', 'a', 'b', 'e']\n\n['a', 'c', 'a', 'c', 'a']\n['b', 'b', 'a', 'b', 'f']\n['c', 'a', 'b', 'e', 'd']\n\nFinal states: {0: {3}, 1: {6}, 2: {10}}\nMatches at: [(0, 0)]\n"
    }
   ],
   "source": [
    "X = [list(s) for s in ['aca', 'bba', 'cabe']]\n",
    "Y = [list(s) for s in ['acaca', 'bbabf', 'cabed']]\n",
    "\n",
    "for row in X:\n",
    "    print(row)\n",
    "print()\n",
    "for row in Y:\n",
    "    print(row)\n",
    "print()\n",
    "\n",
    "print('Final states:', aho_corasick.preprocess(X).get_final_states())\n",
    "print('Matches at:', list(bird_baker.bird_baker(Y, X)))"
   ]
  },
  {
   "cell_type": "markdown",
   "metadata": {},
   "source": [
    "## Matching on haystack.txt\n",
    "### Searching for the same letter appearing one below the other.\n",
    "\n",
    "Notes:\n",
    "- I printed the text with indices to verify correctness\n",
    "- All positions conform to this notation: (row, column) of top-left character in pattern \n",
    "- Algorithm is case-sensitive"
   ]
  },
  {
   "cell_type": "code",
   "execution_count": 7,
   "metadata": {},
   "outputs": [
    {
     "output_type": "stream",
     "name": "stdout",
     "text": "Id. 0000000000111111111122222222223333333333444444444455555555556666666666777777777788888\n0 . One of the simplest and n a t u r a l types of information representation is by means\n1 . of written texts. This type of d a t a is characterized by t h e fact t h a t it can\n2 . be written down as a long sequence of characters. Such linear a sequence\n3 . is called a text. T h e texts are central in \"word processing\" systems, which\n4 . provide facilities for t h e manipulation of texts. Such systems usually process\n5 . objects t h a t are quite large. For example, this book probably contains more\n6 . t h a n a million characters. Text algorithms occur in many areas of science and\n7 . information processing. Many text editors and programming languages have\n8 . facilities for processing texts. In biology, text algorithms arise in the study\n9 . of molecular sequences. T h e complexity of text algorithms is also one of t h e\n10. central and most studied problems in theoretical computer science. It could\n11. be said t h a t it is the domain in which practice and theory are very close to\n12. each other.\n13. T h e basic textual problem in stringology is called pattern matching. It is\n14. used to access information and, no doubt, at this moment m a n y computers\n15. are solving this problem as a frequently used operation in some application\n16. system. P a t t e r n matching is comparable in this sense to sorting, or to basic\n17. arithmetic operations.\n18. Consider the problem of a reader of the French dictionary \" G r a n d Larousse,\"\n19. who wants all entries related to the n a m e \"Marie-Curie-Sklodowska.\" This is\n20. a n example of a p a t t e r n matching problem, or string matching. In this case,\n21. the n a m e \"Marie-Curie-Sklodowska\" is the p a t t e r n . Generally we m a y want to\n22. find a string called a pattern of length m inside a text of length n, where n is\n23. greater t h a n m. T h e p a t t e r n can be described in a more complex way to denote\n24. a set of strings and not just a single word. In many cases n is very large. In\n25. genetics the p a t t e r n can correspond to a gene t h a t can be very long; in image\n26. \n27. T h e search of words or p a t t e r n s in static texts is quite a different question\n28. t h a n the previous pattern-matching mechanism. Dictionaries, for example,\n29. are organized in order to speed u p the access to entries. Another example\n30. of the same question is given by indexes. Technical books often contain a n\n31. index of chosen terms t h a t gives pointers to p a r t s of the text related to words\n32. in the index. T h e algorithms involved in the creation of an index form a\n33. specific group. T h e use of dictionaries or lexicons is often related t o n a t u r a l\n34. language processing. Lexicons of programming languages are small, and their\n35. representation is not a difficult problem during the development of a compiler.\n36. To the contrary, English contains approximately 100,000 words, a n d even twice\n37. t h a t if inflected forms are considered. In French, inflected forms produce more\n38. t h a n 700,000 words. T h e representation of lexicons of this size makes the\n39. problem a bit more challenging.\n40. A simple use of dictionaries is illustrated by spelling checkers. T h e UNIX\n41. command, spell, reports the words in its input t h a t are not stored in the lexi-\n42. con. This rough approach does not yield a pertinent checker, b u t , practically,\n43. it helps to find typing errors. T h e lexicon used by spell contains approxi-\n44. mately 70,000 entries stored within less t h a n 60 kilobytes of random-access\n45. memory. Quick access to lexicons is a necessary condition for producing good\n46. parsers. T h e d a t a structure useful for such access is called an index. In our\n47. book indexes correspond to d a t a structures representing all factors of a given\n48. (presumably long) text. We consider problems related to the construction of\n49. such structures: suffix t r e e s , d i r e c t e d a c y c l i c w o r d g r a p h s , f a c t o r a u -\n50. t o m a t a , suffix arrays. T h e PAT\n51. tool developed at the N O E D Center\n52. (Waterloo, Canada) is an implementation of one of these structures tailored\n53. to work on large texts. There are several applications t h a t effectively require\n54. some understanding of phrases in n a t u r a l languages, such as d a t a retrieval\n55. systems, interactive software, a n d character recognition.\n56. An image scanner is a kind of photocopier. It is used to give a digitized\n57. version of a n image. W h e n the image is a page of text, the n a t u r a l o u t p u t of the\n58. scanner must be in a digital form available to a text editor. T h e transformation\n59. of a digitized image of a text into a usual computer representation of the text\n60. is realized by a n Optical Character Recognition ( O C R ) . Scanning a text with\n61. an O C R can be 50 times faster t h a n retyping the text on a keyboard. T h u s ,\n62. O C R softwares are likely to become more common. B u t they still suffer from\n63. a high degree of imprecision. T h e average rate of error in the recognition of\n64. characters is approximately one percent. Even if this may h a p p e n to be rather\n65. small, this means t h a t scanning a book produces approximately one error per\n66. line. This is compared with the usually very high quality of texts checked\n67. by specialists. Technical improvements on the hardware can help eliminate\n68. certain kinds of errors occurring on scanned texts in printed forms. But this\n69. cannot alleviate the problem associated with recognizing texts in printed forms.\n70. Reduction of the number of errors can thus only be achieved by considering the\n71. context of the characters, which assumes some understanding of the structure\n72. of the text. Image processing is related to the problem of two-dimensional\n73. pattern matching. Another related problem is the data structure for all\n74. subimages, which is discussed in this book in the context of the dictionary\n75. of basic factors.\n76. The theoretical approach to the representation of lexicons is either by means\n77. of trees or finite state automata. It appears that both approaches are equally\n78. efficient. This shows the practical importance of the automata theoretic\n79. approach to text problems. At LITP (Paris) and IGM (Marne-la-Vallee)\n80. we have shown that the use of automata to represent lexicons is particularly\n81. efficient. Experiments have been done on a 700,000 word lexicon of LADL\n82. (Paris). The representation supports direct access to any word of the lexicon\n83. and takes only 300 kilobytes of random-access memory.\n84. \n"
    }
   ],
   "source": [
    "txt = utils.read_text('haystack.txt')\n",
    "\n",
    "print('Id. ', end = '')\n",
    "for i in range(len(txt)):\n",
    "    print(f'{i // 10}', end = '')\n",
    "print()\n",
    "for i, row in enumerate(txt):\n",
    "    print('{:2s}. {}'.format(str(i), row))"
   ]
  },
  {
   "cell_type": "code",
   "execution_count": 26,
   "metadata": {},
   "outputs": [
    {
     "output_type": "stream",
     "name": "stdout",
     "text": "Found 28 matches for [['a'], ['a']] at:\n      -(0, 82)\n      -(3, 30)\n      -(5, 60)\n      -(6, 63)\n      -(20, 6)\n      -(28, 69)\n      -(31, 50)\n      -(31, 73)\n      -(33, 66)\n      -(37, 4)\n      -(52, 12)\n      -(53, 12)\n      -(53, 48)\n      -(56, 11)\n      -(57, 36)\n      -(58, 36)\n      -(59, 24)\n      -(64, 2)\n      -(64, 14)\n      -(64, 22)\n      -(65, 35)\n      -(69, 35)\n      -(76, 21)\n      -(76, 74)\n      -(77, 42)\n      -(77, 61)\n      -(78, 59)\n      -(79, 37)\nFound 6 matches for [['c'], ['c']] at:\n      -(3, 54)\n      -(10, 45)\n      -(13, 10)\n      -(41, 0)\n      -(68, 0)\n      -(82, 41)\nFound 1 matches for [['d'], ['d']] at:\n      -(37, 19)\nFound 48 matches for [['e'], ['e']] at:\n      -(0, 63)\n      -(1, 8)\n      -(4, 77)\n      -(7, 65)\n      -(10, 1)\n      -(10, 64)\n      -(14, 2)\n      -(15, 43)\n      -(17, 6)\n      -(18, 27)\n      -(20, 10)\n      -(21, 61)\n      -(22, 53)\n      -(24, 3)\n      -(24, 65)\n      -(28, 67)\n      -(28, 73)\n      -(29, 38)\n      -(29, 43)\n      -(37, 48)\n      -(40, 11)\n      -(40, 26)\n      -(41, 57)\n      -(42, 36)\n      -(42, 48)\n      -(46, 52)\n      -(47, 50)\n      -(51, 31)\n      -(57, 54)\n      -(58, 50)\n      -(58, 54)\n      -(59, 73)\n      -(63, 66)\n      -(65, 69)\n      -(66, 72)\n      -(67, 17)\n      -(68, 46)\n      -(69, 15)\n      -(70, 49)\n      -(71, 38)\n      -(72, 23)\n      -(73, 27)\n      -(76, 6)\n      -(77, 6)\n      -(78, 65)\n      -(80, 6)\n      -(81, 14)\n      -(82, 47)\nFound 2 matches for [['f'], ['f']] at:\n      -(30, 59)\n      -(77, 1)\nFound 4 matches for [['h'], ['h']] at:\n      -(27, 2)\n      -(37, 2)\n      -(56, 31)\n      -(73, 12)\nFound 13 matches for [['i'], ['i']] at:\n      -(1, 5)\n      -(8, 37)\n      -(9, 60)\n      -(19, 55)\n      -(31, 0)\n      -(31, 31)\n      -(44, 33)\n      -(52, 69)\n      -(55, 17)\n      -(60, 45)\n      -(68, 51)\n      -(73, 13)\n      -(77, 13)\nFound 5 matches for [['l'], ['l']] at:\n      -(28, 72)\n      -(33, 45)\n      -(41, 77)\n      -(46, 61)\n      -(53, 45)\nFound 5 matches for [['m'], ['m']] at:\n      -(16, 5)\n      -(28, 70)\n      -(34, 40)\n      -(34, 60)\n      -(44, 0)\nFound 15 matches for [['n'], ['n']] at:\n      -(0, 83)\n      -(1, 9)\n      -(14, 54)\n      -(19, 37)\n      -(20, 56)\n      -(21, 62)\n      -(31, 1)\n      -(35, 18)\n      -(51, 32)\n      -(54, 33)\n      -(56, 13)\n      -(64, 29)\n      -(67, 35)\n      -(67, 40)\n      -(67, 57)\nFound 21 matches for [['o'], ['o']] at:\n      -(4, 75)\n      -(5, 66)\n      -(6, 38)\n      -(7, 38)\n      -(10, 27)\n      -(15, 60)\n      -(27, 17)\n      -(28, 17)\n      -(30, 58)\n      -(32, 34)\n      -(33, 11)\n      -(33, 26)\n      -(41, 1)\n      -(44, 55)\n      -(50, 2)\n      -(52, 8)\n      -(53, 1)\n      -(58, 45)\n      -(71, 42)\n      -(79, 10)\n      -(81, 52)\nFound 2 matches for [['p'], ['p']] at:\n      -(28, 71)\n      -(41, 18)\nFound 21 matches for [['r'], ['r']] at:\n      -(1, 4)\n      -(6, 39)\n      -(6, 50)\n      -(7, 13)\n      -(15, 18)\n      -(17, 14)\n      -(19, 54)\n      -(20, 54)\n      -(28, 65)\n      -(31, 70)\n      -(33, 10)\n      -(33, 37)\n      -(43, 25)\n      -(46, 42)\n      -(47, 37)\n      -(52, 5)\n      -(55, 40)\n      -(60, 30)\n      -(62, 39)\n      -(67, 29)\n      -(69, 22)\nFound 19 matches for [['s'], ['s']] at:\n      -(3, 57)\n      -(3, 63)\n      -(4, 49)\n      -(8, 21)\n      -(9, 58)\n      -(28, 45)\n      -(29, 56)\n      -(30, 56)\n      -(37, 34)\n      -(40, 63)\n      -(45, 34)\n      -(46, 44)\n      -(49, 14)\n      -(52, 53)\n      -(54, 0)\n      -(67, 37)\n      -(70, 41)\n      -(71, 24)\n      -(79, 24)\nFound 41 matches for [['t'], ['t']] at:\n      -(0, 7)\n      -(1, 6)\n      -(1, 7)\n      -(3, 37)\n      -(4, 14)\n      -(4, 23)\n      -(7, 29)\n      -(8, 75)\n      -(13, 55)\n      -(15, 12)\n      -(16, 3)\n      -(19, 33)\n      -(22, 8)\n      -(23, 4)\n      -(24, 4)\n      -(27, 31)\n      -(28, 23)\n      -(28, 52)\n      -(30, 16)\n      -(35, 10)\n      -(37, 0)\n      -(41, 45)\n      -(41, 73)\n      -(46, 24)\n      -(50, 0)\n      -(51, 33)\n      -(52, 61)\n      -(54, 11)\n      -(55, 54)\n      -(58, 49)\n      -(58, 78)\n      -(59, 33)\n      -(59, 75)\n      -(61, 56)\n      -(67, 71)\n      -(69, 5)\n      -(71, 3)\n      -(72, 3)\n      -(72, 10)\n      -(72, 59)\n      -(77, 22)\nFound 2 matches for [['w'], ['w']] at:\n      -(1, 3)\n      -(21, 70)\nFound 1 matches for [['x'], ['x']] at:\n      -(28, 68)\nFound 1 matches for [['y'], ['y']] at:\n      -(44, 5)\n"
    }
   ],
   "source": [
    "import string \n",
    "\n",
    "for letter in string.ascii_letters:\n",
    "    pattern = [[letter], [letter]]\n",
    "    Y, X = txt, pattern\n",
    "    found = list(bird_baker.bird_baker(Y, X))\n",
    "    if found:\n",
    "        print(f'Found {len(found)} matches for {pattern} at:')\n",
    "        for pos in found:\n",
    "            print(' ' * 6 + '-' + str(pos))"
   ]
  },
  {
   "cell_type": "markdown",
   "metadata": {},
   "source": [
    "### Searching for \"th\" and \"t h\" in two consecutive lines\n",
    "\n",
    "Now, as I did not find any matches for given pattern I checked for some other combinations (although I am pretty sure this is correct result)"
   ]
  },
  {
   "cell_type": "code",
   "execution_count": 23,
   "metadata": {},
   "outputs": [
    {
     "output_type": "stream",
     "name": "stdout",
     "text": "Found 1 matches for ['t h', 't h'] at:\n      -(37, 0)\n"
    }
   ],
   "source": [
    "patterns = [\n",
    "    ['th',  't h'],\n",
    "    ['t h', 't h'],\n",
    "    ['th',  'th'],\n",
    "]\n",
    "\n",
    "for pattern in patterns:\n",
    "    Y, X = txt, pattern\n",
    "    found = list(bird_baker.bird_baker(Y, X))\n",
    "    if found:\n",
    "        print(f'Found {len(found)} matches for {pattern} at:')\n",
    "        for pos in found:\n",
    "            print(' ' * 6 + '-' + str(pos))"
   ]
  },
  {
   "cell_type": "markdown",
   "metadata": {},
   "source": [
    "### Calculating number of occurences of selected letter in haystack.txt\n",
    "- a \n",
    "- p\n",
    "- e\n",
    "- f\n",
    "\n",
    "I picked those as they show up relatively rare."
   ]
  },
  {
   "cell_type": "code",
   "execution_count": 20,
   "metadata": {},
   "outputs": [
    {
     "output_type": "stream",
     "name": "stdout",
     "text": "Found 187 matches for [h]\nFound 106 matches for [u]\nFound 11 matches for [q]\nFound 7 matches for [z]\n"
    }
   ],
   "source": [
    "chosen = ['h', 'u', 'q', 'z']\n",
    "\n",
    "for letter in chosen:\n",
    "    pattern = [[letter]]\n",
    "    Y, X = txt, pattern\n",
    "\n",
    "    found = list(bird_baker.bird_baker(Y, X))\n",
    "    print(f'Found {len(found)} matches for [{letter}]')"
   ]
  },
  {
   "cell_type": "code",
   "execution_count": 22,
   "metadata": {},
   "outputs": [
    {
     "output_type": "stream",
     "name": "stdout",
     "text": "Found 5 matches for ['p a t t e r n'] at:\n      -(20, 17)\n      -(21, 44)\n      -(23, 25)\n      -(25, 13)\n      -(27, 25)\n"
    }
   ],
   "source": [
    "pattern = ['p a t t e r n']\n",
    "\n",
    "Y, X = txt, pattern\n",
    "found = list(bird_baker.bird_baker(Y, X))\n",
    "if found:\n",
    "    print(f'Found {len(found)} matches for {pattern} at:')\n",
    "    for pos in found:\n",
    "        print(' ' * 6 + '-' + str(pos))"
   ]
  },
  {
   "cell_type": "markdown",
   "metadata": {},
   "source": [
    "# Matching text on images"
   ]
  },
  {
   "cell_type": "code",
   "execution_count": 39,
   "metadata": {},
   "outputs": [
    {
     "output_type": "display_data",
     "data": {
      "text/plain": "<Figure size 576x576 with 4 Axes>",
      "image/svg+xml": "<?xml version=\"1.0\" encoding=\"utf-8\" standalone=\"no\"?>\r\n<!DOCTYPE svg PUBLIC \"-//W3C//DTD SVG 1.1//EN\"\r\n  \"http://www.w3.org/Graphics/SVG/1.1/DTD/svg11.dtd\">\r\n<!-- Created with matplotlib (https://matplotlib.org/) -->\r\n<svg height=\"465.958125pt\" version=\"1.1\" viewBox=\"0 0 434.812792 465.958125\" width=\"434.812792pt\" xmlns=\"http://www.w3.org/2000/svg\" xmlns:xlink=\"http://www.w3.org/1999/xlink\">\r\n <defs>\r\n  <style type=\"text/css\">\r\n*{stroke-linecap:butt;stroke-linejoin:round;}\r\n  </style>\r\n </defs>\r\n <g id=\"figure_1\">\r\n  <g id=\"patch_1\">\r\n   <path d=\"M 0 465.958125 \r\nL 434.812792 465.958125 \r\nL 434.812792 0 \r\nL 0 0 \r\nz\r\n\" style=\"fill:none;\"/>\r\n  </g>\r\n  <g id=\"axes_1\">\r\n   <g id=\"patch_2\">\r\n    <path d=\"M 30.979825 204.872727 \r\nL 167.830175 204.872727 \r\nL 167.830175 7.2 \r\nL 30.979825 7.2 \r\nz\r\n\" style=\"fill:#ffffff;\"/>\r\n   </g>\r\n   <g clip-path=\"url(#p5eb60f071f)\">\r\n    <image height=\"198\" id=\"image05cb1bbb76\" transform=\"scale(1 -1)translate(0 -198)\" width=\"137\" x=\"30.979825\" xlink:href=\"data:image/png;base64,\r\niVBORw0KGgoAAAANSUhEUgAAAIkAAADGCAYAAADmKqNwAAAABHNCSVQICAgIfAhkiAAAAtVJREFUeJzt3SFOJEEAhtGazRgcSPxcBoJDgh+NJ9wFj0BhMBg84R6ARM7eYL9N9WYHwnv+T434UmY63avdbrcb8Ae/9v0D+PpEQhIJSSQkkZBEQhIJSSQkkZBEQhIJSSQkkZBEQhIJSSQkkZBEQhIJSSQkkZBEQhIJSSQkkZBEQhIJSSQkkZBWYwxvFfgmzs/Pp7d3d3fTWzcJSSQkkZBEQhIJSSQkkZBEQhIJSSQkkZBEQhIJSSQkkZDWR0dH0+OPj49/+FP4qtwkJJGQREISCUkkJJGQREISCUkkJJGQREISCUkkJJGQVs/Pz9Ovnri4uJg++PHxcXo7xhibzWbRnr/nJiGJhCQSkkhIIiGJhCQSkkhIIiGJhCQSkkhIIiGJhLTa7XbTjwo8PDxMH3x1dTW9HWOMp6en6e3x8fGis38aNwlJJCSRkERCEglJJCSRkERCEglJJCSRkERCEglJJKT1kvHp6en09v39fcnR4+TkZHq75DGDw8PD6e135SYhiYQkEpJISCIhiYQkEpJISCIhiYQkEpJISCIhiYQkEtKi50mWuLy8XLR/e3ub3p6dnU1vl3xd4+DgYHq7T24SkkhIIiGJhCQSkkhIIiGJhCQSkkhIIiGJhCQSkkhIi75S8V1dX19Pb19eXqa39/f309sxxliv9/Nkh5uEJBKSSEgiIYmEJBKSSEgiIYmEJBKSSEgiIYmEJBLSj3xUYIntdju9/fz8XHT27e3t9Ha1Wk1v3SQkkZBEQhIJSSQkkZBEQhIJSSQkkZBEQhIJSSQkkZDWS/5C5v/abDbT25ubm+mtm4QkEpJISCIhiYQkEpJISCIhiYQkEpJISCIhiYQkEpJISPv57AFTXl9f93Kum4QkEpJISCIhiYQkEpJISCIhiYQkEpJISCIhiYQkEtLaRyoobhKSSEgiIYmEJBKSSEgiIYmEJBKSSEgiIYmEJBKSSEi/AY5iRtV3WR5ZAAAAAElFTkSuQmCC\" y=\"-6.872727\"/>\r\n   </g>\r\n   <g id=\"matplotlib.axis_1\">\r\n    <g id=\"xtick_1\">\r\n     <g id=\"line2d_1\">\r\n      <defs>\r\n       <path d=\"M 0 0 \r\nL 0 3.5 \r\n\" id=\"md76cca97f3\" style=\"stroke:#000000;stroke-width:0.8;\"/>\r\n      </defs>\r\n      <g>\r\n       <use style=\"stroke:#000000;stroke-width:0.8;\" x=\"38.582622\" xlink:href=\"#md76cca97f3\" y=\"204.872727\"/>\r\n      </g>\r\n     </g>\r\n     <g id=\"text_1\">\r\n      <!-- 0.0 -->\r\n      <defs>\r\n       <path d=\"M 31.78125 66.40625 \r\nQ 24.171875 66.40625 20.328125 58.90625 \r\nQ 16.5 51.421875 16.5 36.375 \r\nQ 16.5 21.390625 20.328125 13.890625 \r\nQ 24.171875 6.390625 31.78125 6.390625 \r\nQ 39.453125 6.390625 43.28125 13.890625 \r\nQ 47.125 21.390625 47.125 36.375 \r\nQ 47.125 51.421875 43.28125 58.90625 \r\nQ 39.453125 66.40625 31.78125 66.40625 \r\nz\r\nM 31.78125 74.21875 \r\nQ 44.046875 74.21875 50.515625 64.515625 \r\nQ 56.984375 54.828125 56.984375 36.375 \r\nQ 56.984375 17.96875 50.515625 8.265625 \r\nQ 44.046875 -1.421875 31.78125 -1.421875 \r\nQ 19.53125 -1.421875 13.0625 8.265625 \r\nQ 6.59375 17.96875 6.59375 36.375 \r\nQ 6.59375 54.828125 13.0625 64.515625 \r\nQ 19.53125 74.21875 31.78125 74.21875 \r\nz\r\n\" id=\"DejaVuSans-48\"/>\r\n       <path d=\"M 10.6875 12.40625 \r\nL 21 12.40625 \r\nL 21 0 \r\nL 10.6875 0 \r\nz\r\n\" id=\"DejaVuSans-46\"/>\r\n      </defs>\r\n      <g transform=\"translate(30.63106 219.471165)scale(0.1 -0.1)\">\r\n       <use xlink:href=\"#DejaVuSans-48\"/>\r\n       <use x=\"63.623047\" xlink:href=\"#DejaVuSans-46\"/>\r\n       <use x=\"95.410156\" xlink:href=\"#DejaVuSans-48\"/>\r\n      </g>\r\n     </g>\r\n    </g>\r\n    <g id=\"xtick_2\">\r\n     <g id=\"line2d_2\">\r\n      <g>\r\n       <use style=\"stroke:#000000;stroke-width:0.8;\" x=\"76.596608\" xlink:href=\"#md76cca97f3\" y=\"204.872727\"/>\r\n      </g>\r\n     </g>\r\n     <g id=\"text_2\">\r\n      <!-- 2.5 -->\r\n      <defs>\r\n       <path d=\"M 19.1875 8.296875 \r\nL 53.609375 8.296875 \r\nL 53.609375 0 \r\nL 7.328125 0 \r\nL 7.328125 8.296875 \r\nQ 12.9375 14.109375 22.625 23.890625 \r\nQ 32.328125 33.6875 34.8125 36.53125 \r\nQ 39.546875 41.84375 41.421875 45.53125 \r\nQ 43.3125 49.21875 43.3125 52.78125 \r\nQ 43.3125 58.59375 39.234375 62.25 \r\nQ 35.15625 65.921875 28.609375 65.921875 \r\nQ 23.96875 65.921875 18.8125 64.3125 \r\nQ 13.671875 62.703125 7.8125 59.421875 \r\nL 7.8125 69.390625 \r\nQ 13.765625 71.78125 18.9375 73 \r\nQ 24.125 74.21875 28.421875 74.21875 \r\nQ 39.75 74.21875 46.484375 68.546875 \r\nQ 53.21875 62.890625 53.21875 53.421875 \r\nQ 53.21875 48.921875 51.53125 44.890625 \r\nQ 49.859375 40.875 45.40625 35.40625 \r\nQ 44.1875 33.984375 37.640625 27.21875 \r\nQ 31.109375 20.453125 19.1875 8.296875 \r\nz\r\n\" id=\"DejaVuSans-50\"/>\r\n       <path d=\"M 10.796875 72.90625 \r\nL 49.515625 72.90625 \r\nL 49.515625 64.59375 \r\nL 19.828125 64.59375 \r\nL 19.828125 46.734375 \r\nQ 21.96875 47.46875 24.109375 47.828125 \r\nQ 26.265625 48.1875 28.421875 48.1875 \r\nQ 40.625 48.1875 47.75 41.5 \r\nQ 54.890625 34.8125 54.890625 23.390625 \r\nQ 54.890625 11.625 47.5625 5.09375 \r\nQ 40.234375 -1.421875 26.90625 -1.421875 \r\nQ 22.3125 -1.421875 17.546875 -0.640625 \r\nQ 12.796875 0.140625 7.71875 1.703125 \r\nL 7.71875 11.625 \r\nQ 12.109375 9.234375 16.796875 8.0625 \r\nQ 21.484375 6.890625 26.703125 6.890625 \r\nQ 35.15625 6.890625 40.078125 11.328125 \r\nQ 45.015625 15.765625 45.015625 23.390625 \r\nQ 45.015625 31 40.078125 35.4375 \r\nQ 35.15625 39.890625 26.703125 39.890625 \r\nQ 22.75 39.890625 18.8125 39.015625 \r\nQ 14.890625 38.140625 10.796875 36.28125 \r\nz\r\n\" id=\"DejaVuSans-53\"/>\r\n      </defs>\r\n      <g transform=\"translate(68.645046 219.471165)scale(0.1 -0.1)\">\r\n       <use xlink:href=\"#DejaVuSans-50\"/>\r\n       <use x=\"63.623047\" xlink:href=\"#DejaVuSans-46\"/>\r\n       <use x=\"95.410156\" xlink:href=\"#DejaVuSans-53\"/>\r\n      </g>\r\n     </g>\r\n    </g>\r\n    <g id=\"xtick_3\">\r\n     <g id=\"line2d_3\">\r\n      <g>\r\n       <use style=\"stroke:#000000;stroke-width:0.8;\" x=\"114.610594\" xlink:href=\"#md76cca97f3\" y=\"204.872727\"/>\r\n      </g>\r\n     </g>\r\n     <g id=\"text_3\">\r\n      <!-- 5.0 -->\r\n      <g transform=\"translate(106.659032 219.471165)scale(0.1 -0.1)\">\r\n       <use xlink:href=\"#DejaVuSans-53\"/>\r\n       <use x=\"63.623047\" xlink:href=\"#DejaVuSans-46\"/>\r\n       <use x=\"95.410156\" xlink:href=\"#DejaVuSans-48\"/>\r\n      </g>\r\n     </g>\r\n    </g>\r\n    <g id=\"xtick_4\">\r\n     <g id=\"line2d_4\">\r\n      <g>\r\n       <use style=\"stroke:#000000;stroke-width:0.8;\" x=\"152.62458\" xlink:href=\"#md76cca97f3\" y=\"204.872727\"/>\r\n      </g>\r\n     </g>\r\n     <g id=\"text_4\">\r\n      <!-- 7.5 -->\r\n      <defs>\r\n       <path d=\"M 8.203125 72.90625 \r\nL 55.078125 72.90625 \r\nL 55.078125 68.703125 \r\nL 28.609375 0 \r\nL 18.3125 0 \r\nL 43.21875 64.59375 \r\nL 8.203125 64.59375 \r\nz\r\n\" id=\"DejaVuSans-55\"/>\r\n      </defs>\r\n      <g transform=\"translate(144.673018 219.471165)scale(0.1 -0.1)\">\r\n       <use xlink:href=\"#DejaVuSans-55\"/>\r\n       <use x=\"63.623047\" xlink:href=\"#DejaVuSans-46\"/>\r\n       <use x=\"95.410156\" xlink:href=\"#DejaVuSans-53\"/>\r\n      </g>\r\n     </g>\r\n    </g>\r\n   </g>\r\n   <g id=\"matplotlib.axis_2\">\r\n    <g id=\"ytick_1\">\r\n     <g id=\"line2d_5\">\r\n      <defs>\r\n       <path d=\"M 0 0 \r\nL -3.5 0 \r\n\" id=\"m01cd246256\" style=\"stroke:#000000;stroke-width:0.8;\"/>\r\n      </defs>\r\n      <g>\r\n       <use style=\"stroke:#000000;stroke-width:0.8;\" x=\"30.979825\" xlink:href=\"#m01cd246256\" y=\"14.802797\"/>\r\n      </g>\r\n     </g>\r\n     <g id=\"text_5\">\r\n      <!-- 0 -->\r\n      <g transform=\"translate(17.617325 18.602016)scale(0.1 -0.1)\">\r\n       <use xlink:href=\"#DejaVuSans-48\"/>\r\n      </g>\r\n     </g>\r\n    </g>\r\n    <g id=\"ytick_2\">\r\n     <g id=\"line2d_6\">\r\n      <g>\r\n       <use style=\"stroke:#000000;stroke-width:0.8;\" x=\"30.979825\" xlink:href=\"#m01cd246256\" y=\"45.213986\"/>\r\n      </g>\r\n     </g>\r\n     <g id=\"text_6\">\r\n      <!-- 2 -->\r\n      <g transform=\"translate(17.617325 49.013205)scale(0.1 -0.1)\">\r\n       <use xlink:href=\"#DejaVuSans-50\"/>\r\n      </g>\r\n     </g>\r\n    </g>\r\n    <g id=\"ytick_3\">\r\n     <g id=\"line2d_7\">\r\n      <g>\r\n       <use style=\"stroke:#000000;stroke-width:0.8;\" x=\"30.979825\" xlink:href=\"#m01cd246256\" y=\"75.625175\"/>\r\n      </g>\r\n     </g>\r\n     <g id=\"text_7\">\r\n      <!-- 4 -->\r\n      <defs>\r\n       <path d=\"M 37.796875 64.3125 \r\nL 12.890625 25.390625 \r\nL 37.796875 25.390625 \r\nz\r\nM 35.203125 72.90625 \r\nL 47.609375 72.90625 \r\nL 47.609375 25.390625 \r\nL 58.015625 25.390625 \r\nL 58.015625 17.1875 \r\nL 47.609375 17.1875 \r\nL 47.609375 0 \r\nL 37.796875 0 \r\nL 37.796875 17.1875 \r\nL 4.890625 17.1875 \r\nL 4.890625 26.703125 \r\nz\r\n\" id=\"DejaVuSans-52\"/>\r\n      </defs>\r\n      <g transform=\"translate(17.617325 79.424394)scale(0.1 -0.1)\">\r\n       <use xlink:href=\"#DejaVuSans-52\"/>\r\n      </g>\r\n     </g>\r\n    </g>\r\n    <g id=\"ytick_4\">\r\n     <g id=\"line2d_8\">\r\n      <g>\r\n       <use style=\"stroke:#000000;stroke-width:0.8;\" x=\"30.979825\" xlink:href=\"#m01cd246256\" y=\"106.036364\"/>\r\n      </g>\r\n     </g>\r\n     <g id=\"text_8\">\r\n      <!-- 6 -->\r\n      <defs>\r\n       <path d=\"M 33.015625 40.375 \r\nQ 26.375 40.375 22.484375 35.828125 \r\nQ 18.609375 31.296875 18.609375 23.390625 \r\nQ 18.609375 15.53125 22.484375 10.953125 \r\nQ 26.375 6.390625 33.015625 6.390625 \r\nQ 39.65625 6.390625 43.53125 10.953125 \r\nQ 47.40625 15.53125 47.40625 23.390625 \r\nQ 47.40625 31.296875 43.53125 35.828125 \r\nQ 39.65625 40.375 33.015625 40.375 \r\nz\r\nM 52.59375 71.296875 \r\nL 52.59375 62.3125 \r\nQ 48.875 64.0625 45.09375 64.984375 \r\nQ 41.3125 65.921875 37.59375 65.921875 \r\nQ 27.828125 65.921875 22.671875 59.328125 \r\nQ 17.53125 52.734375 16.796875 39.40625 \r\nQ 19.671875 43.65625 24.015625 45.921875 \r\nQ 28.375 48.1875 33.59375 48.1875 \r\nQ 44.578125 48.1875 50.953125 41.515625 \r\nQ 57.328125 34.859375 57.328125 23.390625 \r\nQ 57.328125 12.15625 50.6875 5.359375 \r\nQ 44.046875 -1.421875 33.015625 -1.421875 \r\nQ 20.359375 -1.421875 13.671875 8.265625 \r\nQ 6.984375 17.96875 6.984375 36.375 \r\nQ 6.984375 53.65625 15.1875 63.9375 \r\nQ 23.390625 74.21875 37.203125 74.21875 \r\nQ 40.921875 74.21875 44.703125 73.484375 \r\nQ 48.484375 72.75 52.59375 71.296875 \r\nz\r\n\" id=\"DejaVuSans-54\"/>\r\n      </defs>\r\n      <g transform=\"translate(17.617325 109.835582)scale(0.1 -0.1)\">\r\n       <use xlink:href=\"#DejaVuSans-54\"/>\r\n      </g>\r\n     </g>\r\n    </g>\r\n    <g id=\"ytick_5\">\r\n     <g id=\"line2d_9\">\r\n      <g>\r\n       <use style=\"stroke:#000000;stroke-width:0.8;\" x=\"30.979825\" xlink:href=\"#m01cd246256\" y=\"136.447552\"/>\r\n      </g>\r\n     </g>\r\n     <g id=\"text_9\">\r\n      <!-- 8 -->\r\n      <defs>\r\n       <path d=\"M 31.78125 34.625 \r\nQ 24.75 34.625 20.71875 30.859375 \r\nQ 16.703125 27.09375 16.703125 20.515625 \r\nQ 16.703125 13.921875 20.71875 10.15625 \r\nQ 24.75 6.390625 31.78125 6.390625 \r\nQ 38.8125 6.390625 42.859375 10.171875 \r\nQ 46.921875 13.96875 46.921875 20.515625 \r\nQ 46.921875 27.09375 42.890625 30.859375 \r\nQ 38.875 34.625 31.78125 34.625 \r\nz\r\nM 21.921875 38.8125 \r\nQ 15.578125 40.375 12.03125 44.71875 \r\nQ 8.5 49.078125 8.5 55.328125 \r\nQ 8.5 64.0625 14.71875 69.140625 \r\nQ 20.953125 74.21875 31.78125 74.21875 \r\nQ 42.671875 74.21875 48.875 69.140625 \r\nQ 55.078125 64.0625 55.078125 55.328125 \r\nQ 55.078125 49.078125 51.53125 44.71875 \r\nQ 48 40.375 41.703125 38.8125 \r\nQ 48.828125 37.15625 52.796875 32.3125 \r\nQ 56.78125 27.484375 56.78125 20.515625 \r\nQ 56.78125 9.90625 50.3125 4.234375 \r\nQ 43.84375 -1.421875 31.78125 -1.421875 \r\nQ 19.734375 -1.421875 13.25 4.234375 \r\nQ 6.78125 9.90625 6.78125 20.515625 \r\nQ 6.78125 27.484375 10.78125 32.3125 \r\nQ 14.796875 37.15625 21.921875 38.8125 \r\nz\r\nM 18.3125 54.390625 \r\nQ 18.3125 48.734375 21.84375 45.5625 \r\nQ 25.390625 42.390625 31.78125 42.390625 \r\nQ 38.140625 42.390625 41.71875 45.5625 \r\nQ 45.3125 48.734375 45.3125 54.390625 \r\nQ 45.3125 60.0625 41.71875 63.234375 \r\nQ 38.140625 66.40625 31.78125 66.40625 \r\nQ 25.390625 66.40625 21.84375 63.234375 \r\nQ 18.3125 60.0625 18.3125 54.390625 \r\nz\r\n\" id=\"DejaVuSans-56\"/>\r\n      </defs>\r\n      <g transform=\"translate(17.617325 140.246771)scale(0.1 -0.1)\">\r\n       <use xlink:href=\"#DejaVuSans-56\"/>\r\n      </g>\r\n     </g>\r\n    </g>\r\n    <g id=\"ytick_6\">\r\n     <g id=\"line2d_10\">\r\n      <g>\r\n       <use style=\"stroke:#000000;stroke-width:0.8;\" x=\"30.979825\" xlink:href=\"#m01cd246256\" y=\"166.858741\"/>\r\n      </g>\r\n     </g>\r\n     <g id=\"text_10\">\r\n      <!-- 10 -->\r\n      <defs>\r\n       <path d=\"M 12.40625 8.296875 \r\nL 28.515625 8.296875 \r\nL 28.515625 63.921875 \r\nL 10.984375 60.40625 \r\nL 10.984375 69.390625 \r\nL 28.421875 72.90625 \r\nL 38.28125 72.90625 \r\nL 38.28125 8.296875 \r\nL 54.390625 8.296875 \r\nL 54.390625 0 \r\nL 12.40625 0 \r\nz\r\n\" id=\"DejaVuSans-49\"/>\r\n      </defs>\r\n      <g transform=\"translate(11.254825 170.65796)scale(0.1 -0.1)\">\r\n       <use xlink:href=\"#DejaVuSans-49\"/>\r\n       <use x=\"63.623047\" xlink:href=\"#DejaVuSans-48\"/>\r\n      </g>\r\n     </g>\r\n    </g>\r\n    <g id=\"ytick_7\">\r\n     <g id=\"line2d_11\">\r\n      <g>\r\n       <use style=\"stroke:#000000;stroke-width:0.8;\" x=\"30.979825\" xlink:href=\"#m01cd246256\" y=\"197.26993\"/>\r\n      </g>\r\n     </g>\r\n     <g id=\"text_11\">\r\n      <!-- 12 -->\r\n      <g transform=\"translate(11.254825 201.069149)scale(0.1 -0.1)\">\r\n       <use xlink:href=\"#DejaVuSans-49\"/>\r\n       <use x=\"63.623047\" xlink:href=\"#DejaVuSans-50\"/>\r\n      </g>\r\n     </g>\r\n    </g>\r\n   </g>\r\n   <g id=\"patch_3\">\r\n    <path d=\"M 30.979825 204.872727 \r\nL 30.979825 7.2 \r\n\" style=\"fill:none;stroke:#000000;stroke-linecap:square;stroke-linejoin:miter;stroke-width:0.8;\"/>\r\n   </g>\r\n   <g id=\"patch_4\">\r\n    <path d=\"M 167.830175 204.872727 \r\nL 167.830175 7.2 \r\n\" style=\"fill:none;stroke:#000000;stroke-linecap:square;stroke-linejoin:miter;stroke-width:0.8;\"/>\r\n   </g>\r\n   <g id=\"patch_5\">\r\n    <path d=\"M 30.979825 204.872727 \r\nL 167.830175 204.872727 \r\n\" style=\"fill:none;stroke:#000000;stroke-linecap:square;stroke-linejoin:miter;stroke-width:0.8;\"/>\r\n   </g>\r\n   <g id=\"patch_6\">\r\n    <path d=\"M 30.979825 7.2 \r\nL 167.830175 7.2 \r\n\" style=\"fill:none;stroke:#000000;stroke-linecap:square;stroke-linejoin:miter;stroke-width:0.8;\"/>\r\n   </g>\r\n  </g>\r\n  <g id=\"axes_2\">\r\n   <g id=\"patch_7\">\r\n    <path d=\"M 258.179026 204.872727 \r\nL 427.612792 204.872727 \r\nL 427.612792 7.2 \r\nL 258.179026 7.2 \r\nz\r\n\" style=\"fill:#ffffff;\"/>\r\n   </g>\r\n   <g clip-path=\"url(#pfffc387df0)\">\r\n    <image height=\"198\" id=\"imagee8928aa4f8\" transform=\"scale(1 -1)translate(0 -198)\" width=\"170\" x=\"258.179026\" xlink:href=\"data:image/png;base64,\r\niVBORw0KGgoAAAANSUhEUgAAAKoAAADGCAYAAABCQBujAAAABHNCSVQICAgIfAhkiAAAAyZJREFUeJzt3bFJpF0YhuFvljUwMzBVxMgGFLEIG9EybMASrMAOTDUwMDQxMbUHZxv4wZ93Z0dvuK784TvCzYkOzmq9Xq8X+OF+ffcB4P8QKglCJUGoJAiVBKGSIFQShEqCUEkQKglCJUGoJAiVBKGSIFQShEqCUEkQKglCJUGoJAiVBKGSIFQShEqCUEkQKglCJeH3tj/4/v4+2l1fX4+/+fDwMNrt7OyMdpeXl6Pd7e3taHd+fj7a7e3tjXbLsixPT0/j7YQblQShkiBUEoRKglBJECoJQiVBqCQIlQShkiBUEoRKglBJWG37l/tOT09Hu+fn5w2f5OeZvoL6+PgY7fb390e7ZfF6Cv6TUEkQKglCJUGoJAiVBKGSIFQShEqCUEkQKglCJUGoJAiVhPE/SXt8fBztps/1zs7ORrtlWZa7u7vR7vDwcLR7eXkZ7a6urka7t7e30e5vnvltmxuVBKGSIFQShEqCUEkQKglCJUGoJAiVBKGSIFQShEqCUEkYv556fX3d5Dm+dHNzM96enJxs8CRfu7i4GO3u7+9Hu+Pj49GuxI1KglBJECoJQiVBqCQIlQShkiBUEoRKglBJECoJQiVBqCSMX09Nf9Zw6ujoaKvf+w7Tv/Hg4GCzB/mB3KgkCJUEoZIgVBKESoJQSRAqCUIlQagkCJUEoZIgVBKESsL49dTn5+cmz/Gl1Wq11e+V7O7ufvcR/jk3KglCJUGoJAiVBKGSIFQShEqCUEkQKglCJUGoJAiVBKGSIFQShEqCUEkQKglCJUGoJAiVBKGSIFQShEqCUEkQKglCJUGoJAiVBKGSIFQShEqCUEkQKglCJUGoJAiVBKGSIFQShEqCUEkQKglCJUGoJAiVBKGSIFQShEqCUEkQKglCJUGoJAiVBKGSIFQShEqCUEkQKglCJUGoJAiVBKGSIFQShEqCUEkQKglCJUGoJAiVBKGSIFQSVuv1ev3dh4CvuFFJECoJQiVBqCQIlQShkiBUEoRKglBJECoJQiVBqCQIlQShkiBUEoRKglBJECoJQiVBqCQIlQShkiBUEoRKglBJECoJQiXhD/UuP0EoWJH/AAAAAElFTkSuQmCC\" y=\"-6.872727\"/>\r\n   </g>\r\n   <g id=\"matplotlib.axis_3\">\r\n    <g id=\"xtick_5\">\r\n     <g id=\"line2d_12\">\r\n      <g>\r\n       <use style=\"stroke:#000000;stroke-width:0.8;\" x=\"265.238766\" xlink:href=\"#md76cca97f3\" y=\"204.872727\"/>\r\n      </g>\r\n     </g>\r\n     <g id=\"text_12\">\r\n      <!-- 0.0 -->\r\n      <g transform=\"translate(257.287204 219.471165)scale(0.1 -0.1)\">\r\n       <use xlink:href=\"#DejaVuSans-48\"/>\r\n       <use x=\"63.623047\" xlink:href=\"#DejaVuSans-46\"/>\r\n       <use x=\"95.410156\" xlink:href=\"#DejaVuSans-48\"/>\r\n      </g>\r\n     </g>\r\n    </g>\r\n    <g id=\"xtick_6\">\r\n     <g id=\"line2d_13\">\r\n      <g>\r\n       <use style=\"stroke:#000000;stroke-width:0.8;\" x=\"300.537468\" xlink:href=\"#md76cca97f3\" y=\"204.872727\"/>\r\n      </g>\r\n     </g>\r\n     <g id=\"text_13\">\r\n      <!-- 2.5 -->\r\n      <g transform=\"translate(292.585905 219.471165)scale(0.1 -0.1)\">\r\n       <use xlink:href=\"#DejaVuSans-50\"/>\r\n       <use x=\"63.623047\" xlink:href=\"#DejaVuSans-46\"/>\r\n       <use x=\"95.410156\" xlink:href=\"#DejaVuSans-53\"/>\r\n      </g>\r\n     </g>\r\n    </g>\r\n    <g id=\"xtick_7\">\r\n     <g id=\"line2d_14\">\r\n      <g>\r\n       <use style=\"stroke:#000000;stroke-width:0.8;\" x=\"335.836169\" xlink:href=\"#md76cca97f3\" y=\"204.872727\"/>\r\n      </g>\r\n     </g>\r\n     <g id=\"text_14\">\r\n      <!-- 5.0 -->\r\n      <g transform=\"translate(327.884606 219.471165)scale(0.1 -0.1)\">\r\n       <use xlink:href=\"#DejaVuSans-53\"/>\r\n       <use x=\"63.623047\" xlink:href=\"#DejaVuSans-46\"/>\r\n       <use x=\"95.410156\" xlink:href=\"#DejaVuSans-48\"/>\r\n      </g>\r\n     </g>\r\n    </g>\r\n    <g id=\"xtick_8\">\r\n     <g id=\"line2d_15\">\r\n      <g>\r\n       <use style=\"stroke:#000000;stroke-width:0.8;\" x=\"371.13487\" xlink:href=\"#md76cca97f3\" y=\"204.872727\"/>\r\n      </g>\r\n     </g>\r\n     <g id=\"text_15\">\r\n      <!-- 7.5 -->\r\n      <g transform=\"translate(363.183308 219.471165)scale(0.1 -0.1)\">\r\n       <use xlink:href=\"#DejaVuSans-55\"/>\r\n       <use x=\"63.623047\" xlink:href=\"#DejaVuSans-46\"/>\r\n       <use x=\"95.410156\" xlink:href=\"#DejaVuSans-53\"/>\r\n      </g>\r\n     </g>\r\n    </g>\r\n    <g id=\"xtick_9\">\r\n     <g id=\"line2d_16\">\r\n      <g>\r\n       <use style=\"stroke:#000000;stroke-width:0.8;\" x=\"406.433571\" xlink:href=\"#md76cca97f3\" y=\"204.872727\"/>\r\n      </g>\r\n     </g>\r\n     <g id=\"text_16\">\r\n      <!-- 10.0 -->\r\n      <g transform=\"translate(395.300759 219.471165)scale(0.1 -0.1)\">\r\n       <use xlink:href=\"#DejaVuSans-49\"/>\r\n       <use x=\"63.623047\" xlink:href=\"#DejaVuSans-48\"/>\r\n       <use x=\"127.246094\" xlink:href=\"#DejaVuSans-46\"/>\r\n       <use x=\"159.033203\" xlink:href=\"#DejaVuSans-48\"/>\r\n      </g>\r\n     </g>\r\n    </g>\r\n   </g>\r\n   <g id=\"matplotlib.axis_4\">\r\n    <g id=\"ytick_8\">\r\n     <g id=\"line2d_17\">\r\n      <g>\r\n       <use style=\"stroke:#000000;stroke-width:0.8;\" x=\"258.179026\" xlink:href=\"#m01cd246256\" y=\"14.25974\"/>\r\n      </g>\r\n     </g>\r\n     <g id=\"text_17\">\r\n      <!-- 0 -->\r\n      <g transform=\"translate(244.816526 18.058959)scale(0.1 -0.1)\">\r\n       <use xlink:href=\"#DejaVuSans-48\"/>\r\n      </g>\r\n     </g>\r\n    </g>\r\n    <g id=\"ytick_9\">\r\n     <g id=\"line2d_18\">\r\n      <g>\r\n       <use style=\"stroke:#000000;stroke-width:0.8;\" x=\"258.179026\" xlink:href=\"#m01cd246256\" y=\"42.498701\"/>\r\n      </g>\r\n     </g>\r\n     <g id=\"text_18\">\r\n      <!-- 2 -->\r\n      <g transform=\"translate(244.816526 46.29792)scale(0.1 -0.1)\">\r\n       <use xlink:href=\"#DejaVuSans-50\"/>\r\n      </g>\r\n     </g>\r\n    </g>\r\n    <g id=\"ytick_10\">\r\n     <g id=\"line2d_19\">\r\n      <g>\r\n       <use style=\"stroke:#000000;stroke-width:0.8;\" x=\"258.179026\" xlink:href=\"#m01cd246256\" y=\"70.737662\"/>\r\n      </g>\r\n     </g>\r\n     <g id=\"text_19\">\r\n      <!-- 4 -->\r\n      <g transform=\"translate(244.816526 74.536881)scale(0.1 -0.1)\">\r\n       <use xlink:href=\"#DejaVuSans-52\"/>\r\n      </g>\r\n     </g>\r\n    </g>\r\n    <g id=\"ytick_11\">\r\n     <g id=\"line2d_20\">\r\n      <g>\r\n       <use style=\"stroke:#000000;stroke-width:0.8;\" x=\"258.179026\" xlink:href=\"#m01cd246256\" y=\"98.976623\"/>\r\n      </g>\r\n     </g>\r\n     <g id=\"text_20\">\r\n      <!-- 6 -->\r\n      <g transform=\"translate(244.816526 102.775842)scale(0.1 -0.1)\">\r\n       <use xlink:href=\"#DejaVuSans-54\"/>\r\n      </g>\r\n     </g>\r\n    </g>\r\n    <g id=\"ytick_12\">\r\n     <g id=\"line2d_21\">\r\n      <g>\r\n       <use style=\"stroke:#000000;stroke-width:0.8;\" x=\"258.179026\" xlink:href=\"#m01cd246256\" y=\"127.215584\"/>\r\n      </g>\r\n     </g>\r\n     <g id=\"text_21\">\r\n      <!-- 8 -->\r\n      <g transform=\"translate(244.816526 131.014803)scale(0.1 -0.1)\">\r\n       <use xlink:href=\"#DejaVuSans-56\"/>\r\n      </g>\r\n     </g>\r\n    </g>\r\n    <g id=\"ytick_13\">\r\n     <g id=\"line2d_22\">\r\n      <g>\r\n       <use style=\"stroke:#000000;stroke-width:0.8;\" x=\"258.179026\" xlink:href=\"#m01cd246256\" y=\"155.454545\"/>\r\n      </g>\r\n     </g>\r\n     <g id=\"text_22\">\r\n      <!-- 10 -->\r\n      <g transform=\"translate(238.454026 159.253764)scale(0.1 -0.1)\">\r\n       <use xlink:href=\"#DejaVuSans-49\"/>\r\n       <use x=\"63.623047\" xlink:href=\"#DejaVuSans-48\"/>\r\n      </g>\r\n     </g>\r\n    </g>\r\n    <g id=\"ytick_14\">\r\n     <g id=\"line2d_23\">\r\n      <g>\r\n       <use style=\"stroke:#000000;stroke-width:0.8;\" x=\"258.179026\" xlink:href=\"#m01cd246256\" y=\"183.693506\"/>\r\n      </g>\r\n     </g>\r\n     <g id=\"text_23\">\r\n      <!-- 12 -->\r\n      <g transform=\"translate(238.454026 187.492725)scale(0.1 -0.1)\">\r\n       <use xlink:href=\"#DejaVuSans-49\"/>\r\n       <use x=\"63.623047\" xlink:href=\"#DejaVuSans-50\"/>\r\n      </g>\r\n     </g>\r\n    </g>\r\n   </g>\r\n   <g id=\"patch_8\">\r\n    <path d=\"M 258.179026 204.872727 \r\nL 258.179026 7.2 \r\n\" style=\"fill:none;stroke:#000000;stroke-linecap:square;stroke-linejoin:miter;stroke-width:0.8;\"/>\r\n   </g>\r\n   <g id=\"patch_9\">\r\n    <path d=\"M 427.612792 204.872727 \r\nL 427.612792 7.2 \r\n\" style=\"fill:none;stroke:#000000;stroke-linecap:square;stroke-linejoin:miter;stroke-width:0.8;\"/>\r\n   </g>\r\n   <g id=\"patch_10\">\r\n    <path d=\"M 258.179026 204.872727 \r\nL 427.612792 204.872727 \r\n\" style=\"fill:none;stroke:#000000;stroke-linecap:square;stroke-linejoin:miter;stroke-width:0.8;\"/>\r\n   </g>\r\n   <g id=\"patch_11\">\r\n    <path d=\"M 258.179026 7.2 \r\nL 427.612792 7.2 \r\n\" style=\"fill:none;stroke:#000000;stroke-linecap:square;stroke-linejoin:miter;stroke-width:0.8;\"/>\r\n   </g>\r\n  </g>\r\n  <g id=\"axes_3\">\r\n   <g id=\"patch_12\">\r\n    <path d=\"M 26.925 442.08 \r\nL 171.885 442.08 \r\nL 171.885 244.407273 \r\nL 26.925 244.407273 \r\nz\r\n\" style=\"fill:#ffffff;\"/>\r\n   </g>\r\n   <g clip-path=\"url(#p811741efce)\">\r\n    <image height=\"198\" id=\"image961268fff0\" transform=\"scale(1 -1)translate(0 -198)\" width=\"145\" x=\"26.925\" xlink:href=\"data:image/png;base64,\r\niVBORw0KGgoAAAANSUhEUgAAAJEAAADGCAYAAADSU2JsAAAABHNCSVQICAgIfAhkiAAAA6pJREFUeJzt3S1OQ1kcxuHTyQhME1AIDEgSPprgERCCxLAGWABsogoSwmKqsQ0IHAKSKlDFgevsYCb/885AJ3ke/+Zc8csxN7cdLBaLRYPAH7/9APz/iYiYiIiJiJiIiImImIiIiYiYiIiJiJiIiImI2J+//QD8s52dna7dyspKeTOdTssbNxExERETETERERMRMRERExExERETETERERMRMRERExExERETETERERMRMRERExExERETETERERMRMRERExExERETETERERMRMRERExExERETETERERMRMRERExExERETETERERMRMRERExExERETETERERMRMRERExExERETETEREfuxPxKezWZdu6urq/JmMpmUN4PBoLw5OTkpb+7v78ubZecmIiYiYiIiJiJiIiImImIiIiYiYiIiJiJiIiImImKDxWKxqI7m83n5oNFoVN601v/idlnt7e2VN9/f311nDYfD8mY6nZY3biJiIiImImIiIiYiYiIiJiJiIiImImIiIiYiYiIi1vUF7Hg8Lm96X6QeHx+XN7e3t+XN5uZmefP09FTeXFxclDcvLy/lTWutHRwcdO2q3ETERERMRMRERExExERETETERERMRMRERExExERETETEuj6j3t7eLh/08fFR3rTW2uvra3mzurraddZPeH5+Lm96Pr1ure8tvs+o+RUiIiYiYiIiJiJiIiImImIiIiYiYiIiJiJiIiLW9Rn129tbeXN4eNhz1FK/TO2xu7tb3qyvr/8HT/LvcRMRExExERETETERERMRMRERExExERETETERERMRsa4XsPyswWDw24/wt9xExERETETERERMRMRERExExERETETERERMRMRERKzrBezW1lZ50/PTtq219vn5Wd4s81ezPT9B/P7+3nXWxsZG167KTURMRMRERExExERETETERERMRMRERExExERETETEul7Anp2dlTfj8bjnqHZ+fl7e3NzclDc9L5UfHx/Lm8vLy/Jm2bmJiImImIiIiYiYiIiJiJiIiImImIiIiYiYiIiJiJiIiA0Wi8WiOprP5+WDRqNRedNaa7PZrGu3rPb398ubr6+vrrOGw2F50/O5u5uImIiIiYiYiIiJiJiIiImImIiIiYiYiIiJiJiIiHV9Rr22tlbePDw89BzVrq+vy5vJZFLe9PxZ7+npaXlzd3dX3hwdHZU3P8lNRExExERETETERERMRMRERExExERETETERERMRMT+AtQRcVBf791XAAAAAElFTkSuQmCC\" y=\"-244.08\"/>\r\n   </g>\r\n   <g id=\"matplotlib.axis_5\">\r\n    <g id=\"xtick_10\">\r\n     <g id=\"line2d_24\">\r\n      <g>\r\n       <use style=\"stroke:#000000;stroke-width:0.8;\" x=\"33.514091\" xlink:href=\"#md76cca97f3\" y=\"442.08\"/>\r\n      </g>\r\n     </g>\r\n     <g id=\"text_24\">\r\n      <!-- 0 -->\r\n      <g transform=\"translate(30.332841 456.678437)scale(0.1 -0.1)\">\r\n       <use xlink:href=\"#DejaVuSans-48\"/>\r\n      </g>\r\n     </g>\r\n    </g>\r\n    <g id=\"xtick_11\">\r\n     <g id=\"line2d_25\">\r\n      <g>\r\n       <use style=\"stroke:#000000;stroke-width:0.8;\" x=\"99.405\" xlink:href=\"#md76cca97f3\" y=\"442.08\"/>\r\n      </g>\r\n     </g>\r\n     <g id=\"text_25\">\r\n      <!-- 5 -->\r\n      <g transform=\"translate(96.22375 456.678437)scale(0.1 -0.1)\">\r\n       <use xlink:href=\"#DejaVuSans-53\"/>\r\n      </g>\r\n     </g>\r\n    </g>\r\n    <g id=\"xtick_12\">\r\n     <g id=\"line2d_26\">\r\n      <g>\r\n       <use style=\"stroke:#000000;stroke-width:0.8;\" x=\"165.295909\" xlink:href=\"#md76cca97f3\" y=\"442.08\"/>\r\n      </g>\r\n     </g>\r\n     <g id=\"text_26\">\r\n      <!-- 10 -->\r\n      <g transform=\"translate(158.933409 456.678437)scale(0.1 -0.1)\">\r\n       <use xlink:href=\"#DejaVuSans-49\"/>\r\n       <use x=\"63.623047\" xlink:href=\"#DejaVuSans-48\"/>\r\n      </g>\r\n     </g>\r\n    </g>\r\n   </g>\r\n   <g id=\"matplotlib.axis_6\">\r\n    <g id=\"ytick_15\">\r\n     <g id=\"line2d_27\">\r\n      <g>\r\n       <use style=\"stroke:#000000;stroke-width:0.8;\" x=\"26.925\" xlink:href=\"#m01cd246256\" y=\"250.996364\"/>\r\n      </g>\r\n     </g>\r\n     <g id=\"text_27\">\r\n      <!-- 0 -->\r\n      <g transform=\"translate(13.5625 254.795582)scale(0.1 -0.1)\">\r\n       <use xlink:href=\"#DejaVuSans-48\"/>\r\n      </g>\r\n     </g>\r\n    </g>\r\n    <g id=\"ytick_16\">\r\n     <g id=\"line2d_28\">\r\n      <g>\r\n       <use style=\"stroke:#000000;stroke-width:0.8;\" x=\"26.925\" xlink:href=\"#m01cd246256\" y=\"277.352727\"/>\r\n      </g>\r\n     </g>\r\n     <g id=\"text_28\">\r\n      <!-- 2 -->\r\n      <g transform=\"translate(13.5625 281.151946)scale(0.1 -0.1)\">\r\n       <use xlink:href=\"#DejaVuSans-50\"/>\r\n      </g>\r\n     </g>\r\n    </g>\r\n    <g id=\"ytick_17\">\r\n     <g id=\"line2d_29\">\r\n      <g>\r\n       <use style=\"stroke:#000000;stroke-width:0.8;\" x=\"26.925\" xlink:href=\"#m01cd246256\" y=\"303.709091\"/>\r\n      </g>\r\n     </g>\r\n     <g id=\"text_29\">\r\n      <!-- 4 -->\r\n      <g transform=\"translate(13.5625 307.50831)scale(0.1 -0.1)\">\r\n       <use xlink:href=\"#DejaVuSans-52\"/>\r\n      </g>\r\n     </g>\r\n    </g>\r\n    <g id=\"ytick_18\">\r\n     <g id=\"line2d_30\">\r\n      <g>\r\n       <use style=\"stroke:#000000;stroke-width:0.8;\" x=\"26.925\" xlink:href=\"#m01cd246256\" y=\"330.065455\"/>\r\n      </g>\r\n     </g>\r\n     <g id=\"text_30\">\r\n      <!-- 6 -->\r\n      <g transform=\"translate(13.5625 333.864673)scale(0.1 -0.1)\">\r\n       <use xlink:href=\"#DejaVuSans-54\"/>\r\n      </g>\r\n     </g>\r\n    </g>\r\n    <g id=\"ytick_19\">\r\n     <g id=\"line2d_31\">\r\n      <g>\r\n       <use style=\"stroke:#000000;stroke-width:0.8;\" x=\"26.925\" xlink:href=\"#m01cd246256\" y=\"356.421818\"/>\r\n      </g>\r\n     </g>\r\n     <g id=\"text_31\">\r\n      <!-- 8 -->\r\n      <g transform=\"translate(13.5625 360.221037)scale(0.1 -0.1)\">\r\n       <use xlink:href=\"#DejaVuSans-56\"/>\r\n      </g>\r\n     </g>\r\n    </g>\r\n    <g id=\"ytick_20\">\r\n     <g id=\"line2d_32\">\r\n      <g>\r\n       <use style=\"stroke:#000000;stroke-width:0.8;\" x=\"26.925\" xlink:href=\"#m01cd246256\" y=\"382.778182\"/>\r\n      </g>\r\n     </g>\r\n     <g id=\"text_32\">\r\n      <!-- 10 -->\r\n      <g transform=\"translate(7.2 386.577401)scale(0.1 -0.1)\">\r\n       <use xlink:href=\"#DejaVuSans-49\"/>\r\n       <use x=\"63.623047\" xlink:href=\"#DejaVuSans-48\"/>\r\n      </g>\r\n     </g>\r\n    </g>\r\n    <g id=\"ytick_21\">\r\n     <g id=\"line2d_33\">\r\n      <g>\r\n       <use style=\"stroke:#000000;stroke-width:0.8;\" x=\"26.925\" xlink:href=\"#m01cd246256\" y=\"409.134545\"/>\r\n      </g>\r\n     </g>\r\n     <g id=\"text_33\">\r\n      <!-- 12 -->\r\n      <g transform=\"translate(7.2 412.933764)scale(0.1 -0.1)\">\r\n       <use xlink:href=\"#DejaVuSans-49\"/>\r\n       <use x=\"63.623047\" xlink:href=\"#DejaVuSans-50\"/>\r\n      </g>\r\n     </g>\r\n    </g>\r\n    <g id=\"ytick_22\">\r\n     <g id=\"line2d_34\">\r\n      <g>\r\n       <use style=\"stroke:#000000;stroke-width:0.8;\" x=\"26.925\" xlink:href=\"#m01cd246256\" y=\"435.490909\"/>\r\n      </g>\r\n     </g>\r\n     <g id=\"text_34\">\r\n      <!-- 14 -->\r\n      <g transform=\"translate(7.2 439.290128)scale(0.1 -0.1)\">\r\n       <use xlink:href=\"#DejaVuSans-49\"/>\r\n       <use x=\"63.623047\" xlink:href=\"#DejaVuSans-52\"/>\r\n      </g>\r\n     </g>\r\n    </g>\r\n   </g>\r\n   <g id=\"patch_13\">\r\n    <path d=\"M 26.925 442.08 \r\nL 26.925 244.407273 \r\n\" style=\"fill:none;stroke:#000000;stroke-linecap:square;stroke-linejoin:miter;stroke-width:0.8;\"/>\r\n   </g>\r\n   <g id=\"patch_14\">\r\n    <path d=\"M 171.885 442.08 \r\nL 171.885 244.407273 \r\n\" style=\"fill:none;stroke:#000000;stroke-linecap:square;stroke-linejoin:miter;stroke-width:0.8;\"/>\r\n   </g>\r\n   <g id=\"patch_15\">\r\n    <path d=\"M 26.925 442.08 \r\nL 171.885 442.08 \r\n\" style=\"fill:none;stroke:#000000;stroke-linecap:square;stroke-linejoin:miter;stroke-width:0.8;\"/>\r\n   </g>\r\n   <g id=\"patch_16\">\r\n    <path d=\"M 26.925 244.407273 \r\nL 171.885 244.407273 \r\n\" style=\"fill:none;stroke:#000000;stroke-linecap:square;stroke-linejoin:miter;stroke-width:0.8;\"/>\r\n   </g>\r\n  </g>\r\n  <g id=\"axes_4\">\r\n   <g id=\"patch_17\">\r\n    <path d=\"M 274.945909 442.08 \r\nL 410.845909 442.08 \r\nL 410.845909 244.407273 \r\nL 274.945909 244.407273 \r\nz\r\n\" style=\"fill:#ffffff;\"/>\r\n   </g>\r\n   <g clip-path=\"url(#pf4584dd945)\">\r\n    <image height=\"198\" id=\"imageca1ab4af1a\" transform=\"scale(1 -1)translate(0 -198)\" width=\"136\" x=\"274.945909\" xlink:href=\"data:image/png;base64,\r\niVBORw0KGgoAAAANSUhEUgAAAIgAAADGCAYAAAAJ6MhOAAAABHNCSVQICAgIfAhkiAAAAshJREFUeJzt3DFKZFEQQNHuQTBxB0auxESMzMWgMTR0CWamJi7BXRi6DRHdhZE9ocnMhRJ6+sOcE9fnPeFSyaNdb7fb7Qr+4te+L8CyCYQkEJJASAIhCYQkEJJASAIhCYQkEJJASAIhCYQkEJJASAIhCYQkEJJASAIhCYQkEJJASAfTD56ensaHbDab0fzz8/No/uzsbDS/VNO/4/X1dXzG+/v7aN4GIQmEJBCSQEgCIQmEJBCSQEgCIQmEJBCSQEgCIQmEJBCSQEgCIQmEJBCSQEgCIQmEJBCSQEgCIQmEJBCSQEgCIQmEJBCSQEgCIQmEJBCSQEgCIQmEJBCSQEgCIQmEJBCSQEgCIQmEJBCSQEgCIQmEJBCSQEgCIQmEJBCSQEgCIQmEJBCSQEgCIR3s+wJ/8vn5ue8r7MXX19dofr1e7+gm32wQkkBIAiEJhCQQkkBIAiEJhCQQkkBIAiEt8i3m5eVlNH9xcbGjm/xbHx8fo/mjo6Md3eSbDUISCEkgJIGQBEISCEkgJIGQBEISCEkgpEW+xTw8PIzmj4+Px2dcXl6O5g8PD8dnPD4+jubf3t5G81dXV6P5n7BBSAIhCYQkEJJASAIhCYQkEJJASAIhCYQkENIiH+umD2m3t7fjM37yza5N/yndzc3Njm7yzQYhCYQkEJJASAIhCYQkEJJASAIhCYQkENIi32Kur69H8+fn5+Mz7u/vR/PTHzWtVqvVycnJaP7u7m40f3p6Opr/CRuEJBCSQEgCIQmEJBCSQEgCIQmEJBCSQEgCIS3ysW5qs9n8k2/+RzYISSAkgZAEQhIISSAkgZAEQhIISSAkgZAEQhIISSAkgZAEQhIISSAkgZAEQhIISSAkgZAEQhIISSAkgZAEQhIISSAkgZAEQhIISSAkgZAEQhIISSAkgZAEQhIISSAkgZAEQhIISSAkgZAEQvoNYwo1pREkwi4AAAAASUVORK5CYII=\" y=\"-244.08\"/>\r\n   </g>\r\n   <g id=\"matplotlib.axis_7\">\r\n    <g id=\"xtick_13\">\r\n     <g id=\"line2d_35\">\r\n      <g>\r\n       <use style=\"stroke:#000000;stroke-width:0.8;\" x=\"281.123182\" xlink:href=\"#md76cca97f3\" y=\"442.08\"/>\r\n      </g>\r\n     </g>\r\n     <g id=\"text_35\">\r\n      <!-- 0 -->\r\n      <g transform=\"translate(277.941932 456.678437)scale(0.1 -0.1)\">\r\n       <use xlink:href=\"#DejaVuSans-48\"/>\r\n      </g>\r\n     </g>\r\n    </g>\r\n    <g id=\"xtick_14\">\r\n     <g id=\"line2d_36\">\r\n      <g>\r\n       <use style=\"stroke:#000000;stroke-width:0.8;\" x=\"342.895909\" xlink:href=\"#md76cca97f3\" y=\"442.08\"/>\r\n      </g>\r\n     </g>\r\n     <g id=\"text_36\">\r\n      <!-- 5 -->\r\n      <g transform=\"translate(339.714659 456.678437)scale(0.1 -0.1)\">\r\n       <use xlink:href=\"#DejaVuSans-53\"/>\r\n      </g>\r\n     </g>\r\n    </g>\r\n    <g id=\"xtick_15\">\r\n     <g id=\"line2d_37\">\r\n      <g>\r\n       <use style=\"stroke:#000000;stroke-width:0.8;\" x=\"404.668636\" xlink:href=\"#md76cca97f3\" y=\"442.08\"/>\r\n      </g>\r\n     </g>\r\n     <g id=\"text_37\">\r\n      <!-- 10 -->\r\n      <g transform=\"translate(398.306136 456.678437)scale(0.1 -0.1)\">\r\n       <use xlink:href=\"#DejaVuSans-49\"/>\r\n       <use x=\"63.623047\" xlink:href=\"#DejaVuSans-48\"/>\r\n      </g>\r\n     </g>\r\n    </g>\r\n   </g>\r\n   <g id=\"matplotlib.axis_8\">\r\n    <g id=\"ytick_23\">\r\n     <g id=\"line2d_38\">\r\n      <g>\r\n       <use style=\"stroke:#000000;stroke-width:0.8;\" x=\"274.945909\" xlink:href=\"#m01cd246256\" y=\"250.584545\"/>\r\n      </g>\r\n     </g>\r\n     <g id=\"text_38\">\r\n      <!-- 0 -->\r\n      <g transform=\"translate(261.583409 254.383764)scale(0.1 -0.1)\">\r\n       <use xlink:href=\"#DejaVuSans-48\"/>\r\n      </g>\r\n     </g>\r\n    </g>\r\n    <g id=\"ytick_24\">\r\n     <g id=\"line2d_39\">\r\n      <g>\r\n       <use style=\"stroke:#000000;stroke-width:0.8;\" x=\"274.945909\" xlink:href=\"#m01cd246256\" y=\"275.293636\"/>\r\n      </g>\r\n     </g>\r\n     <g id=\"text_39\">\r\n      <!-- 2 -->\r\n      <g transform=\"translate(261.583409 279.092855)scale(0.1 -0.1)\">\r\n       <use xlink:href=\"#DejaVuSans-50\"/>\r\n      </g>\r\n     </g>\r\n    </g>\r\n    <g id=\"ytick_25\">\r\n     <g id=\"line2d_40\">\r\n      <g>\r\n       <use style=\"stroke:#000000;stroke-width:0.8;\" x=\"274.945909\" xlink:href=\"#m01cd246256\" y=\"300.002727\"/>\r\n      </g>\r\n     </g>\r\n     <g id=\"text_40\">\r\n      <!-- 4 -->\r\n      <g transform=\"translate(261.583409 303.801946)scale(0.1 -0.1)\">\r\n       <use xlink:href=\"#DejaVuSans-52\"/>\r\n      </g>\r\n     </g>\r\n    </g>\r\n    <g id=\"ytick_26\">\r\n     <g id=\"line2d_41\">\r\n      <g>\r\n       <use style=\"stroke:#000000;stroke-width:0.8;\" x=\"274.945909\" xlink:href=\"#m01cd246256\" y=\"324.711818\"/>\r\n      </g>\r\n     </g>\r\n     <g id=\"text_41\">\r\n      <!-- 6 -->\r\n      <g transform=\"translate(261.583409 328.511037)scale(0.1 -0.1)\">\r\n       <use xlink:href=\"#DejaVuSans-54\"/>\r\n      </g>\r\n     </g>\r\n    </g>\r\n    <g id=\"ytick_27\">\r\n     <g id=\"line2d_42\">\r\n      <g>\r\n       <use style=\"stroke:#000000;stroke-width:0.8;\" x=\"274.945909\" xlink:href=\"#m01cd246256\" y=\"349.420909\"/>\r\n      </g>\r\n     </g>\r\n     <g id=\"text_42\">\r\n      <!-- 8 -->\r\n      <g transform=\"translate(261.583409 353.220128)scale(0.1 -0.1)\">\r\n       <use xlink:href=\"#DejaVuSans-56\"/>\r\n      </g>\r\n     </g>\r\n    </g>\r\n    <g id=\"ytick_28\">\r\n     <g id=\"line2d_43\">\r\n      <g>\r\n       <use style=\"stroke:#000000;stroke-width:0.8;\" x=\"274.945909\" xlink:href=\"#m01cd246256\" y=\"374.13\"/>\r\n      </g>\r\n     </g>\r\n     <g id=\"text_43\">\r\n      <!-- 10 -->\r\n      <g transform=\"translate(255.220909 377.929219)scale(0.1 -0.1)\">\r\n       <use xlink:href=\"#DejaVuSans-49\"/>\r\n       <use x=\"63.623047\" xlink:href=\"#DejaVuSans-48\"/>\r\n      </g>\r\n     </g>\r\n    </g>\r\n    <g id=\"ytick_29\">\r\n     <g id=\"line2d_44\">\r\n      <g>\r\n       <use style=\"stroke:#000000;stroke-width:0.8;\" x=\"274.945909\" xlink:href=\"#m01cd246256\" y=\"398.839091\"/>\r\n      </g>\r\n     </g>\r\n     <g id=\"text_44\">\r\n      <!-- 12 -->\r\n      <g transform=\"translate(255.220909 402.63831)scale(0.1 -0.1)\">\r\n       <use xlink:href=\"#DejaVuSans-49\"/>\r\n       <use x=\"63.623047\" xlink:href=\"#DejaVuSans-50\"/>\r\n      </g>\r\n     </g>\r\n    </g>\r\n    <g id=\"ytick_30\">\r\n     <g id=\"line2d_45\">\r\n      <g>\r\n       <use style=\"stroke:#000000;stroke-width:0.8;\" x=\"274.945909\" xlink:href=\"#m01cd246256\" y=\"423.548182\"/>\r\n      </g>\r\n     </g>\r\n     <g id=\"text_45\">\r\n      <!-- 14 -->\r\n      <g transform=\"translate(255.220909 427.347401)scale(0.1 -0.1)\">\r\n       <use xlink:href=\"#DejaVuSans-49\"/>\r\n       <use x=\"63.623047\" xlink:href=\"#DejaVuSans-52\"/>\r\n      </g>\r\n     </g>\r\n    </g>\r\n   </g>\r\n   <g id=\"patch_18\">\r\n    <path d=\"M 274.945909 442.08 \r\nL 274.945909 244.407273 \r\n\" style=\"fill:none;stroke:#000000;stroke-linecap:square;stroke-linejoin:miter;stroke-width:0.8;\"/>\r\n   </g>\r\n   <g id=\"patch_19\">\r\n    <path d=\"M 410.845909 442.08 \r\nL 410.845909 244.407273 \r\n\" style=\"fill:none;stroke:#000000;stroke-linecap:square;stroke-linejoin:miter;stroke-width:0.8;\"/>\r\n   </g>\r\n   <g id=\"patch_20\">\r\n    <path d=\"M 274.945909 442.08 \r\nL 410.845909 442.08 \r\n\" style=\"fill:none;stroke:#000000;stroke-linecap:square;stroke-linejoin:miter;stroke-width:0.8;\"/>\r\n   </g>\r\n   <g id=\"patch_21\">\r\n    <path d=\"M 274.945909 244.407273 \r\nL 410.845909 244.407273 \r\n\" style=\"fill:none;stroke:#000000;stroke-linecap:square;stroke-linejoin:miter;stroke-width:0.8;\"/>\r\n   </g>\r\n  </g>\r\n </g>\r\n <defs>\r\n  <clipPath id=\"p5eb60f071f\">\r\n   <rect height=\"197.672727\" width=\"136.85035\" x=\"30.979825\" y=\"7.2\"/>\r\n  </clipPath>\r\n  <clipPath id=\"pfffc387df0\">\r\n   <rect height=\"197.672727\" width=\"169.433766\" x=\"258.179026\" y=\"7.2\"/>\r\n  </clipPath>\r\n  <clipPath id=\"p811741efce\">\r\n   <rect height=\"197.672727\" width=\"144.96\" x=\"26.925\" y=\"244.407273\"/>\r\n  </clipPath>\r\n  <clipPath id=\"pf4584dd945\">\r\n   <rect height=\"197.672727\" width=\"135.9\" x=\"274.945909\" y=\"244.407273\"/>\r\n  </clipPath>\r\n </defs>\r\n</svg>\r\n",
      "image/png": "[encoded data removed]"
     },
     "metadata": {
      "needs_background": "light"
     }
    }
   ],
   "source": [
    "from matplotlib import pyplot as plt\n",
    "plt.rcParams[\"figure.figsize\"] = (16, 9)\n",
    "plt.rcParams[\"image.cmap\"] = 'gray'\n",
    "\n",
    "img = utils.read_img('haystack.png')\n",
    "i_z = utils.read_img('letter-z.png')\n",
    "i_u = utils.read_img('letter-u.png')\n",
    "i_q = utils.read_img('letter-q.png')\n",
    "i_h = utils.read_img('letter-h.png')\n",
    "i_pattern = utils.read_img('word-pattern.png')\n",
    "\n",
    "fig = plt.figure(figsize=(8, 8))\n",
    "\n",
    "fig.add_subplot(2, 2, 1)\n",
    "plt.imshow(i_z)\n",
    "\n",
    "fig.add_subplot(2, 2, 2)\n",
    "plt.imshow(i_u)\n",
    "\n",
    "fig.add_subplot(2, 2, 3)\n",
    "plt.imshow(i_q)\n",
    "\n",
    "fig.add_subplot(2, 2, 4)\n",
    "plt.imshow(i_h)\n",
    "\n",
    "plt.show()"
   ]
  },
  {
   "cell_type": "code",
   "execution_count": 28,
   "metadata": {},
   "outputs": [],
   "source": []
  },
  {
   "cell_type": "code",
   "execution_count": null,
   "metadata": {},
   "outputs": [],
   "source": []
  }
 ],
 "metadata": {
  "language_info": {
   "codemirror_mode": {
    "name": "ipython",
    "version": 3
   },
   "file_extension": ".py",
   "mimetype": "text/x-python",
   "name": "python",
   "nbconvert_exporter": "python",
   "pygments_lexer": "ipython3",
   "version": "3.7.7-final"
  },
  "orig_nbformat": 2,
  "kernelspec": {
   "name": "python3",
   "display_name": "Python 3"
  }
 },
 "nbformat": 4,
 "nbformat_minor": 2
}