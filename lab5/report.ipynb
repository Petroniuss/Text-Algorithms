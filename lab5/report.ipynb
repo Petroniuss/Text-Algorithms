{
 "cells": [
  {
   "cell_type": "code",
   "execution_count": 1,
   "metadata": {},
   "outputs": [],
   "source": [
    "import aho_corasik"
   ]
  },
  {
   "cell_type": "code",
   "execution_count": 2,
   "metadata": {
    "tags": [
     "outputPrepend",
     "outputPrepend",
     "outputPrepend",
     "outputPrepend",
     "outputPrepend",
     "outputPrepend",
     "outputPrepend"
    ]
   },
   "outputs": [
    {
     "output_type": "stream",
     "name": "stdout",
     "text": "---Root---\nNode#0, v = ROOT, output = NoT Accepting, fail = 0\n Node#1, v = s, output = NoT Accepting, fail = 0\n  Node#2, v = e, output = NoT Accepting, fail = 7\n   Node#3, v = a, output = NoT Accepting, fail = 8\n    Node#4, v = r, output = {Accepting(1)}, fail = 9\n     Node#5, v = c, output = NoT Accepting, fail = 12\n      Node#6, v = h, output = {Accepting(2), Accepting(0)}, fail = 13\n Node#7, v = e, output = NoT Accepting, fail = 0\n  Node#8, v = a, output = NoT Accepting, fail = 10\n   Node#9, v = r, output = {Accepting(1)}, fail = 11\n Node#10, v = a, output = NoT Accepting, fail = 0\n  Node#11, v = r, output = NoT Accepting, fail = 0\n   Node#12, v = c, output = NoT Accepting, fail = 14\n    Node#13, v = h, output = {Accepting(2)}, fail = 15\n Node#14, v = c, output = NoT Accepting, fail = 0\n  Node#15, v = h, output = NoT Accepting, fail = 0\n   Node#16, v = a, output = NoT Accepting, fail = 10\n    Node#17, v = r, output = NoT Accepting, fail = 11\n     Node#18, v = t, output = {Accepting(3)}, fail = 0\n\nNode#9, v = r, output = {Accepting(1)}, fail = 11\n\n"
    }
   ],
   "source": [
    "y = \"ear\"\n",
    "x = ['search', 'ear', 'arch', 'chart']\n",
    "root = aho_corasik.pre_aho_corasik(x)\n",
    "print(root)\n",
    "node = aho_corasik.aho_corasik(y, x)\n",
    "print(node.print_rec(0))"
   ]
  },
  {
   "cell_type": "code",
   "execution_count": null,
   "metadata": {},
   "outputs": [],
   "source": []
  }
 ],
 "metadata": {
  "language_info": {
   "codemirror_mode": {
    "name": "ipython",
    "version": 3
   },
   "file_extension": ".py",
   "mimetype": "text/x-python",
   "name": "python",
   "nbconvert_exporter": "python",
   "pygments_lexer": "ipython3",
   "version": "3.7.7-final"
  },
  "orig_nbformat": 2,
  "kernelspec": {
   "name": "python3",
   "display_name": "Python 3"
  }
 },
 "nbformat": 4,
 "nbformat_minor": 2
}