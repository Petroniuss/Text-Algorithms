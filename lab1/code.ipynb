{
 "cells": [
  {
   "cell_type": "code",
   "execution_count": 1,
   "metadata": {},
   "outputs": [],
   "source": [
    "def naive(text: str, pattern: str): \n",
    "    n = len(text)\n",
    "    m = len(pattern)\n",
    "    \n",
    "    for s in range(n - m + 1):\n",
    "        if(text[s:s + m] == pattern):\n",
    "            yield s"
   ]
  },
  {
   "cell_type": "code",
   "execution_count": 2,
   "metadata": {},
   "outputs": [],
   "source": [
    "def transition_function(pattern, alphabet):\n",
    "    m = len(pattern)\n",
    "    result = []\n",
    "    for q in range(m + 1):\n",
    "        result.append({})\n",
    "        for a in alphabet:\n",
    "            k = min(m + 1, q + 2)\n",
    "            while True:\n",
    "                k = k - 1\n",
    "                pqa = pattern[:q] + a\n",
    "                pk = pattern[:k]\n",
    "                if(pk == pqa[len(pqa) - k:]):\n",
    "                    break\n",
    "                    \n",
    "            result[q][a] = k\n",
    "    \n",
    "    return result \n",
    "\n",
    "def finite_automaton_matcher(text, pattern, alphabet, delta):\n",
    "    m = len(pattern)\n",
    "    n = len(text)\n",
    "    q, count = 0, 0\n",
    "    for i in range(n):\n",
    "        if(text[i] not in alphabet):\n",
    "            q = 0\n",
    "        else:\n",
    "            q = delta[q][text[i]]\n",
    "            if q == m:\n",
    "                yield i\n",
    "    \n",
    "    return count"
   ]
  },
  {
   "cell_type": "code",
   "execution_count": 3,
   "metadata": {},
   "outputs": [],
   "source": [
    "def prefix_function(pattern):\n",
    "    pi = [0]\n",
    "    k = 0\n",
    "    for q in range(1, len(pattern)):\n",
    "        while(k > 0 and pattern[k] != pattern[q]):\n",
    "            k = pi[k-1]\n",
    "        if(pattern[k] == pattern[q]):\n",
    "            k = k + 1\n",
    "        pi.append(k)\n",
    "    return pi\n",
    "\n",
    "def kmp_string_matching(text, pattern, pi):\n",
    "    q = 0\n",
    "    for i in range(0, len(text)):\n",
    "        while(q > 0 and pattern[q] != text[i]):\n",
    "            q = pi[q-1]\n",
    "        if(pattern[q] == text[i]):\n",
    "            q = q + 1\n",
    "        if(q == len(pattern)):\n",
    "            yield (i + 1 - q)\n",
    "            q = pi[q - 1]"
   ]
  },
  {
   "cell_type": "code",
   "execution_count": 4,
   "metadata": {},
   "outputs": [],
   "source": [
    "import time\n",
    "\n",
    "def test(filename: str, P: str, alg = finite_automaton_matcher):\n",
    "    with open(filename, \"r\", encoding = \"utf-8\") as file:\n",
    "        start_time = time.time()\n",
    "        count = 0\n",
    "        for line in file.readlines():\n",
    "            count = count + len(list(alg(line, P)))\n",
    "        \n",
    "        end_time = time.time()\n",
    "        running_time = end_time - start_time\n",
    "        \n",
    "        print(f\"Found {count} repetitions. Running time: {running_time} s.\")"
   ]
  },
  {
   "cell_type": "code",
   "execution_count": 5,
   "metadata": {},
   "outputs": [],
   "source": [
    "import functools\n",
    "\n",
    "def test_suite(filename, pattern, print_pattern = True):\n",
    "    pattern_str = pattern\n",
    "    if not print_pattern:\n",
    "        pattern_str = '...'\n",
    "        \n",
    "    print(f\"Searching through '{filename}' looking for '{pattern_str}'\", end = \"\\n\" + \"-\" * 50 + \"\\n\")\n",
    "    alph = {letter for letter in pattern}\n",
    "    trans_func = transition_function(pattern, alph)\n",
    "    automaton = functools.partial(finite_automaton_matcher, alphabet = alph, delta = trans_func)\n",
    "\n",
    "    pref = prefix_function(pattern)\n",
    "    kmp = functools.partial(kmp_string_matching, pi = pref)\n",
    "\n",
    "    print(\"Naive\", end = \" - \")\n",
    "    test(filename, pattern, alg = naive)\n",
    "    print(\"Finite Automaton\", end = \" - \")\n",
    "    test(filename, pattern, alg = automaton)\n",
    "    print(\"Knuth-Morris-Pratt\", end = \" - \")\n",
    "    test(filename, pattern, alg = kmp)\n",
    "    print(\"-\" * 50)"
   ]
  },
  {
   "cell_type": "code",
   "execution_count": 6,
   "metadata": {},
   "outputs": [
    {
     "name": "stdout",
     "output_type": "stream",
     "text": [
      "Searching through 'simple.txt' looking for '...'\n",
      "--------------------------------------------------\n",
      "Naive - Found 1 repetitions. Running time: 0.00010323524475097656 s.\n",
      "Finite Automaton - Found 1 repetitions. Running time: 9.274482727050781e-05 s.\n",
      "Knuth-Morris-Pratt - Found 1 repetitions. Running time: 0.00019359588623046875 s.\n",
      "--------------------------------------------------\n"
     ]
    }
   ],
   "source": [
    "filename = \"simple.txt\"\n",
    "pattern  = \"ala\"\n",
    "\n",
    "test_suite(filename, pattern, print_pattern = False)"
   ]
  },
  {
   "cell_type": "code",
   "execution_count": 7,
   "metadata": {},
   "outputs": [
    {
     "name": "stdout",
     "output_type": "stream",
     "text": [
      "Searching through '1997_714.txt' looking for 'art'\n",
      "--------------------------------------------------\n",
      "Naive - Found 273 repetitions. Running time: 0.07299017906188965 s.\n",
      "Finite Automaton - Found 273 repetitions. Running time: 0.0279695987701416 s.\n",
      "Knuth-Morris-Pratt - Found 273 repetitions. Running time: 0.055002689361572266 s.\n",
      "--------------------------------------------------\n"
     ]
    }
   ],
   "source": [
    "filename = \"1997_714.txt\"\n",
    "pattern = \"art\"\n",
    "\n",
    "test_suite(filename, pattern)"
   ]
  },
  {
   "cell_type": "code",
   "execution_count": 8,
   "metadata": {},
   "outputs": [
    {
     "name": "stdout",
     "output_type": "stream",
     "text": [
      "Searching through 'wikipedia-tail-kruszwil.txt' looking for 'kruszwil'\n",
      "--------------------------------------------------\n",
      "Naive - Found 13 repetitions. Running time: 54.75539994239807 s.\n",
      "Finite Automaton - Found 13 repetitions. Running time: 41.58528780937195 s.\n",
      "Knuth-Morris-Pratt - Found 13 repetitions. Running time: 72.26392960548401 s.\n",
      "--------------------------------------------------\n"
     ]
    }
   ],
   "source": [
    "## Takes huge amount of time..\n",
    "filename = \"wikipedia-tail-kruszwil.txt\"\n",
    "pattern = 'kruszwil'\n",
    "\n",
    "test_suite(filename, pattern)"
   ]
  },
  {
   "cell_type": "code",
   "execution_count": 9,
   "metadata": {},
   "outputs": [],
   "source": [
    "def edge_case_test(n, frac, filename = \"edge.txt\"):\n",
    "    with open(filename, \"w\") as file:\n",
    "        for i in range(n):\n",
    "            file.write(\"a\")\n",
    "        file.write(\"b\")\n",
    "    \n",
    "    pattern = (int(frac * n)) * \"a\" + \"b\"               \n",
    "\n",
    "    return filename, pattern"
   ]
  },
  {
   "cell_type": "markdown",
   "metadata": {},
   "source": [
    "## Ex 6.\n",
    "\n",
    "Chosen text consists of n (the bigger n the bigger difference in runtime) 'a's and 'b' at the end. Pattern is the same except it has only fraction of 'a's at the beggining.\n",
    "\n",
    "The idea behind this is:\n",
    "Naive algorithm at each character will have to run through the whole pattern only to see that it fails due to b at the end. Automaton on the other hand (once it consumes all 'a's from pattern) with each character will perform only one comparsion - is next char b. Kmp works similarly except it does not know as much about pattern as automaton algorithm so it has to perform more operations on each character but still less than naive algorithm."
   ]
  },
  {
   "cell_type": "code",
   "execution_count": 16,
   "metadata": {},
   "outputs": [
    {
     "name": "stdout",
     "output_type": "stream",
     "text": [
      "Searching through 'edge.txt' looking for '...'\n",
      "--------------------------------------------------\n",
      "Naive - Found 1 repetitions. Running time: 0.08985710144042969 s.\n",
      "Finite Automaton - Found 1 repetitions. Running time: 0.015736818313598633 s.\n",
      "Knuth-Morris-Pratt - Found 1 repetitions. Running time: 0.045162200927734375 s.\n",
      "--------------------------------------------------\n"
     ]
    }
   ],
   "source": [
    "filename, pattern = edge_case_test(100000, .12)\n",
    "\n",
    "test_suite(filename, pattern, print_pattern = False)"
   ]
  },
  {
   "cell_type": "markdown",
   "metadata": {},
   "source": [
    "## Ex 7.\n",
    "\n",
    "We simply take some arbitrary long pattern and O(Sigma * m^3) vs O(m) takes care of the rest ;)"
   ]
  },
  {
   "cell_type": "code",
   "execution_count": 11,
   "metadata": {},
   "outputs": [
    {
     "name": "stdout",
     "output_type": "stream",
     "text": [
      "KMP preprocessing: 0.0009152889251708984s\n",
      "Automaton preprocessing: 3.493818521499634s\n"
     ]
    }
   ],
   "source": [
    "def run(alg, arg):\n",
    "    start_time = time.time()\n",
    "    alg(arg)\n",
    "    end_time = time.time()\n",
    "    running_time = end_time - start_time\n",
    "    \n",
    "    return running_time\n",
    "\n",
    "pattern = 2000 * \"a\" + 1000 * \"b\"\n",
    "alph = {letter for letter in pattern}\n",
    "preftime = run(prefix_function, pattern)\n",
    "transtime  = run(functools.partial(transition_function, alphabet = alph), pattern)\n",
    "\n",
    "print(f\"KMP preprocessing: {preftime}s\")\n",
    "print(f\"Automaton preprocessing: {transtime}s\")"
   ]
  },
  {
   "cell_type": "code",
   "execution_count": null,
   "metadata": {},
   "outputs": [],
   "source": []
  }
 ],
 "metadata": {
  "kernelspec": {
   "display_name": "Python 3",
   "language": "python",
   "name": "python3"
  },
  "language_info": {
   "codemirror_mode": {
    "name": "ipython",
    "version": 3
   },
   "file_extension": ".py",
   "mimetype": "text/x-python",
   "name": "python",
   "nbconvert_exporter": "python",
   "pygments_lexer": "ipython3",
   "version": "3.7.6"
  }
 },
 "nbformat": 4,
 "nbformat_minor": 2
}
