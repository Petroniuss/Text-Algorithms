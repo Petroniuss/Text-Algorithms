{
 "cells": [
  {
   "cell_type": "code",
   "execution_count": 1,
   "metadata": {},
   "outputs": [],
   "source": [
    "def naive(text: str, pattern: str): \n",
    "    n = len(text)\n",
    "    m = len(pattern)\n",
    "    \n",
    "    for s in range(n - m + 1):\n",
    "        if(text[s:s + m] == pattern):\n",
    "            yield s"
   ]
  },
  {
   "cell_type": "code",
   "execution_count": 2,
   "metadata": {},
   "outputs": [],
   "source": [
    "def transition_function(pattern, alphabet):\n",
    "    m = len(pattern)\n",
    "    result = []\n",
    "    for q in range(m + 1):\n",
    "        result.append({})\n",
    "        for a in alphabet:\n",
    "            k = min(m + 1, q + 2)\n",
    "            while True:\n",
    "                k = k - 1\n",
    "                pqa = pattern[:q] + a\n",
    "                pk = pattern[:k]\n",
    "                if(pk == pqa[len(pqa) - k:]):\n",
    "                    break\n",
    "                    \n",
    "            result[q][a] = k\n",
    "    \n",
    "    return result \n",
    "\n",
    "def finite_automaton_matcher(text, pattern, alphabet, delta):\n",
    "    m = len(pattern)\n",
    "    n = len(text)\n",
    "    q, count = 0, 0\n",
    "    for i in range(n):\n",
    "        if(text[i] not in alphabet):\n",
    "            q = 0\n",
    "        else:\n",
    "            q = delta[q][text[i]]\n",
    "            if q == m:\n",
    "                yield i\n",
    "    \n",
    "    return count"
   ]
  },
  {
   "cell_type": "code",
   "execution_count": 3,
   "metadata": {},
   "outputs": [],
   "source": [
    "def prefix_function(pattern):\n",
    "    pi = [0]\n",
    "    k = 0\n",
    "    for q in range(1, len(pattern)):\n",
    "        while(k > 0 and pattern[k] != pattern[q]):\n",
    "            k = pi[k-1]\n",
    "        if(pattern[k] == pattern[q]):\n",
    "            k = k + 1\n",
    "        pi.append(k)\n",
    "    return pi\n",
    "\n",
    "def kmp_string_matching(text, pattern, pi):\n",
    "    q = 0\n",
    "    for i in range(0, len(text)):\n",
    "        while(q > 0 and pattern[q] != text[i]):\n",
    "            q = pi[q-1]\n",
    "        if(pattern[q] == text[i]):\n",
    "            q = q + 1\n",
    "        if(q == len(pattern)):\n",
    "            yield (i + 1 - q)\n",
    "            q = pi[q - 1]"
   ]
  },
  {
   "cell_type": "code",
   "execution_count": 4,
   "metadata": {},
   "outputs": [
    {
     "data": {
      "text/plain": [
       "[0, 0, 1, 2, 3, 0, 1]"
      ]
     },
     "execution_count": 4,
     "metadata": {},
     "output_type": "execute_result"
    }
   ],
   "source": [
    "transition_function(\"abab\", {\"a\", \"b\", \"c\"})\n",
    "\n",
    "prefix_function(\"ababaca\")"
   ]
  },
  {
   "cell_type": "code",
   "execution_count": 5,
   "metadata": {},
   "outputs": [],
   "source": [
    "import time\n",
    "\n",
    "def test(filename: str, P: str, alg = finite_automaton_matcher):\n",
    "    with open(filename, \"r\", encoding = \"utf-8\") as file:\n",
    "        start_time = time.time()\n",
    "        count = 0\n",
    "        for line in file.readlines():\n",
    "            count = count + len(list(alg(line, P)))\n",
    "        \n",
    "        end_time = time.time()\n",
    "        running_time = end_time - start_time\n",
    "        \n",
    "        print(f\"Found {count} repetitions. Running time: {running_time} s.\")"
   ]
  },
  {
   "cell_type": "code",
   "execution_count": 6,
   "metadata": {},
   "outputs": [],
   "source": [
    "filename = \"1997_714.txt\"\n",
    "pattern = \"art\""
   ]
  },
  {
   "cell_type": "code",
   "execution_count": 7,
   "metadata": {},
   "outputs": [
    {
     "name": "stdout",
     "output_type": "stream",
     "text": [
      "Naive - Found 273 repetitions. Running time: 0.046922922134399414 s.\n",
      "Finite Automaton - Found 273 repetitions. Running time: 0.025949716567993164 s.\n",
      "Knuth-Morris-Pratt - Found 273 repetitions. Running time: 0.05413389205932617 s.\n"
     ]
    }
   ],
   "source": [
    "import functools\n",
    "\n",
    "alph = {letter for letter in pattern}\n",
    "trans_func = transition_function(pattern, alph)\n",
    "automaton = functools.partial(finite_automaton_matcher, alphabet = alph, delta = trans_func)\n",
    "\n",
    "pref = prefix_function(pattern)\n",
    "kmp = functools.partial(kmp_string_matching, pi = pref)\n",
    "\n",
    "print(\"Naive\", end = \" - \")\n",
    "test(filename, pattern, alg = naive)\n",
    "print(\"Finite Automaton\", end = \" - \")\n",
    "test(filename, pattern, alg = automaton)\n",
    "print(\"Knuth-Morris-Pratt\", end = \" - \")\n",
    "test(filename, pattern, alg = kmp)"
   ]
  },
  {
   "cell_type": "code",
   "execution_count": 8,
   "metadata": {},
   "outputs": [],
   "source": [
    "### Takes huge amount of time..\n",
    "\n",
    "# filename = \"tokens-with-entities.tsv\"\n",
    "# pattern = 'Kruszwil'\n",
    "\n",
    "# test(filename, pattern, alg = naive)"
   ]
  },
  {
   "cell_type": "code",
   "execution_count": 30,
   "metadata": {},
   "outputs": [],
   "source": [
    "def edge_case_test(n, frac, filename = \"edge.txt\"):\n",
    "    with open(filename, \"a\") as file:\n",
    "        for i in range(n):\n",
    "            file.write(\"a\")\n",
    "        file.write(\"b\")\n",
    "    \n",
    "    pattern = (int(frac * n)) * \"a\" + \"b\"               \n",
    "    return filename, pattern"
   ]
  },
  {
   "cell_type": "code",
   "execution_count": 31,
   "metadata": {},
   "outputs": [],
   "source": [
    "filename, pattern = edge_case_test(10000, .5)"
   ]
  },
  {
   "cell_type": "code",
   "execution_count": 33,
   "metadata": {},
   "outputs": [
    {
     "name": "stdout",
     "output_type": "stream",
     "text": [
      "Chosen text consists of n (the bigger n the bigger difference in runtime) 'a's and 'b' at the end. Pattern is the same except it has only fraction of 'a's at the beggining.\n",
      "Naive - Found 1 repetitions. Running time: 0.002994060516357422 s.\n",
      "Finite Automaton - Found 1 repetitions. Running time: 0.0009968280792236328 s.\n",
      "Knuth-Morris-Pratt - Found 1 repetitions. Running time: 0.003007650375366211 s.\n"
     ]
    }
   ],
   "source": [
    "import functools\n",
    "\n",
    "print(\"Chosen text consists of n (the bigger n the bigger difference in runtime) 'a's and 'b' at the end. Pattern is the same except it has only fraction of 'a's at the beggining.\")\n",
    "\n",
    "alph = {letter for letter in pattern}\n",
    "trans_func = transition_function(pattern, alph)\n",
    "automaton = functools.partial(finite_automaton_matcher, alphabet = alph, delta = trans_func)\n",
    "\n",
    "pref = prefix_function(pattern)\n",
    "kmp = functools.partial(kmp_string_matching, pi = pref)\n",
    "\n",
    "print(\"Naive\", end = \" - \")\n",
    "test(filename, pattern, alg = naive)\n",
    "print(\"Finite Automaton\", end = \" - \")\n",
    "test(filename, pattern, alg = automaton)\n",
    "print(\"Knuth-Morris-Pratt\", end = \" - \")\n",
    "test(filename, pattern, alg = automaton)"
   ]
  },
  {
   "cell_type": "code",
   "execution_count": 12,
   "metadata": {},
   "outputs": [
    {
     "name": "stdout",
     "output_type": "stream",
     "text": [
      "We simply take long pattern and O(Sigma * m^3) (vs O(m) in kmp) takes care of the rest ;)\n",
      "Prefix function: 0.003987789154052734\n",
      "Transition function 5.133466958999634\n"
     ]
    }
   ],
   "source": [
    "def run(alg, arg):\n",
    "    start_time = time.time()\n",
    "    alg(arg)\n",
    "    end_time = time.time()\n",
    "    running_time = end_time - start_time\n",
    "    \n",
    "    return running_time\n",
    "\n",
    "pattern = 2000 * \"a\" + 1000 * \"b\"\n",
    "alph = {letter for letter in pattern}\n",
    "preftime = run(prefix_function, pattern)\n",
    "transtime  = run(functools.partial(transition_function, alphabet = alph), pattern)\n",
    "\n",
    "print(\"We simply take long pattern and O(Sigma * m^3) (vs O(m) in kmp) takes care of the rest ;)\")\n",
    "\n",
    "print(f\"Prefix function: {preftime}\")\n",
    "print(f\"Transition function {transtime}\")"
   ]
  },
  {
   "cell_type": "code",
   "execution_count": null,
   "metadata": {},
   "outputs": [],
   "source": []
  }
 ],
 "metadata": {
  "kernelspec": {
   "display_name": "Python 3",
   "language": "python",
   "name": "python3"
  },
  "language_info": {
   "codemirror_mode": {
    "name": "ipython",
    "version": 3
   },
   "file_extension": ".py",
   "mimetype": "text/x-python",
   "name": "python",
   "nbconvert_exporter": "python",
   "pygments_lexer": "ipython3",
   "version": "3.7.5"
  }
 },
 "nbformat": 4,
 "nbformat_minor": 2
}
