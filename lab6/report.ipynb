{
 "cells": [
  {
   "cell_type": "code",
   "execution_count": 1,
   "metadata": {},
   "outputs": [],
   "source": [
    "import kmr"
   ]
  },
  {
   "cell_type": "code",
   "execution_count": 2,
   "metadata": {},
   "outputs": [
    {
     "output_type": "execute_result",
     "data": {
      "text/plain": "([1, 4, 2, 0, 3, 1], {0: 3, 1: 0, 2: 2, 3: 4, 4: 1})"
     },
     "metadata": {},
     "execution_count": 2
    }
   ],
   "source": [
    "seq = [(1, 2), (3, 1), (2, 2), (1, 1), (2, 3), (1, 2)]\n",
    "\n",
    "kmr.sort_rename(seq)"
   ]
  },
  {
   "cell_type": "code",
   "execution_count": 3,
   "metadata": {},
   "outputs": [
    {
     "output_type": "stream",
     "name": "stdout",
     "text": "names\n1 [1, 2, 2, 1, 2, 2, 1, 2, 1]\n2 [1, 4, 3, 1, 4, 3, 1, 3, 2]\n4 [2, 7, 5, 2, 7, 4, 1, 6, 3]\npos\n1 [1, 2]\n2 [1, 9, 3, 2]\n4 [7, 1, 9, 6, 3, 8, 2]\n"
    }
   ],
   "source": [
    "text = \"abbabbaba\"\n",
    "dbf = kmr.kmr(text)\n",
    "\n",
    "kmr.show_dbf(dbf, text)"
   ]
  },
  {
   "cell_type": "code",
   "execution_count": 4,
   "metadata": {},
   "outputs": [
    {
     "output_type": "execute_result",
     "data": {
      "text/plain": "[0, 1, 2, 3, 4]"
     },
     "metadata": {},
     "execution_count": 4
    }
   ],
   "source": [
    "list(kmr.basic_search('a', 'aaaaa'))"
   ]
  },
  {
   "cell_type": "code",
   "execution_count": 11,
   "metadata": {},
   "outputs": [
    {
     "output_type": "stream",
     "name": "stdout",
     "text": "names\n1 [1, 2, 1, 1, 2, 2, 1, 1]\n2 [2, 4, 1, 2, 5, 4, 1, 3]\n4 [3, 6, 1, 4, 8, 7, 2, 5]\npos\n1 [1, 2]\n2 [3, 1, 8, 2, 5]\n4 [3, 7, 1, 4, 8, 2, 6, 5]\n"
    },
    {
     "output_type": "execute_result",
     "data": {
      "text/plain": "[4]"
     },
     "metadata": {},
     "execution_count": 11
    }
   ],
   "source": [
    "text = \"abaabbaa\"\n",
    "dbf = kmr.kmr(text)\n",
    "kmr.show_dbf(dbf, text)\n",
    "\n",
    "# kmr.bin_search_name('bbaa', text, dbf) + 1\n",
    "list(kmr.efficient_search('bbaa', text, dbf))"
   ]
  },
  {
   "cell_type": "code",
   "execution_count": null,
   "metadata": {},
   "outputs": [],
   "source": []
  }
 ],
 "metadata": {
  "language_info": {
   "codemirror_mode": {
    "name": "ipython",
    "version": 3
   },
   "file_extension": ".py",
   "mimetype": "text/x-python",
   "name": "python",
   "nbconvert_exporter": "python",
   "pygments_lexer": "ipython3",
   "version": "3.7.7-final"
  },
  "orig_nbformat": 2,
  "kernelspec": {
   "name": "python3",
   "display_name": "Python 3"
  }
 },
 "nbformat": 4,
 "nbformat_minor": 2
}