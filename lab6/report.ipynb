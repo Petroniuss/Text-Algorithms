{
 "cells": [
  {
   "cell_type": "markdown",
   "metadata": {},
   "source": [
    "# Karp-Miller-Rosenberg Algorithm (KMR)\n",
    "\n",
    "## Constructing DBF\n",
    "\n",
    "DBF consists of name and pos (sometimes referred as first_entry) tables\n",
    "\n",
    "Note that I start indexing from 0 (conventionally)"
   ]
  },
  {
   "cell_type": "code",
   "execution_count": 1,
   "metadata": {},
   "outputs": [
    {
     "output_type": "execute_result",
     "data": {
      "text/plain": "([1, 4, 2, 0, 3, 1], {0: 3, 1: 0, 2: 2, 3: 4, 4: 1})"
     },
     "metadata": {},
     "execution_count": 1
    }
   ],
   "source": [
    "import kmr\n",
    "\n",
    "seq = [(1, 2), (3, 1), (2, 2), (1, 1), (2, 3), (1, 2)]\n",
    "\n",
    "kmr.sort_rename(seq)"
   ]
  },
  {
   "cell_type": "code",
   "execution_count": 2,
   "metadata": {},
   "outputs": [
    {
     "output_type": "stream",
     "name": "stdout",
     "text": "\nnames\n1 [0, 1, 1, 0, 1, 1, 0, 1, 0]\n2 [0, 3, 2, 0, 3, 2, 0, 2, 1]\n4 [1, 6, 4, 1, 6, 3, 0, 5, 2]\n\npos\n1 [1, 2]\n2 [1, 9, 3, 2]\n4 [7, 1, 9, 6, 3, 8, 2]\n"
    }
   ],
   "source": [
    "text = \"abbabbaba\"\n",
    "dbf = kmr.kmr(text)\n",
    "\n",
    "kmr.show_dbf(dbf, text)"
   ]
  },
  {
   "cell_type": "code",
   "execution_count": 3,
   "metadata": {},
   "outputs": [
    {
     "output_type": "stream",
     "name": "stdout",
     "text": "\nnames\n1 [0, 1, 1, 0, 1, 1, 0, 1, 0]\n2 [0, 3, 2, 0, 3, 2, 0, 2, 1]\n4 [1, 6, 4, 1, 6, 3, 0, 5, 2]\n\npos\n1 [1, 2]\n2 [1, 9, 3, 2]\n4 [7, 1, 9, 6, 3, 8, 2]\n"
    }
   ],
   "source": [
    "text = \"abbabbaba\"\n",
    "dbf = kmr.kmr(text)\n",
    "\n",
    "kmr.show_dbf(dbf, text)"
   ]
  },
  {
   "cell_type": "code",
   "execution_count": 4,
   "metadata": {},
   "outputs": [
    {
     "output_type": "stream",
     "name": "stdout",
     "text": "\nnames\n1 [0, 1, 0, 0, 1, 1, 0, 0]\n2 [1, 3, 0, 1, 4, 3, 0, 2]\n4 [2, 5, 0, 3, 7, 6, 1, 4]\n\npos\n1 [1, 2]\n2 [3, 1, 8, 2, 5]\n4 [3, 7, 1, 4, 8, 2, 6, 5]\n"
    }
   ],
   "source": [
    "text = \"abaabbaa\"\n",
    "dbf = kmr.kmr(text)\n",
    "kmr.show_dbf(dbf, text)"
   ]
  },
  {
   "cell_type": "markdown",
   "metadata": {},
   "source": [
    "Looking good.."
   ]
  },
  {
   "cell_type": "markdown",
   "metadata": {},
   "source": [
    "## Searching \n",
    "\n",
    "I have included two implementations:\n",
    "- basic - constructs DBF(pattern&text) for each search which yields $O(n \\cdot log(m))$ space and time complexity ($log(m)$ since it only needs part of DBF)\n",
    "- efficient - uses constructed DBF and by using binary search finds the name for pattern in O($m \\cdot log(n))$ and having that name it traverses name table searching for other occurencs. This implementations yields $O(n\\cdot log(n))$ space complexity and time complexity for constructing DBF, but $O(m \\cdot log(n) + n)$ for every following search.\n",
    "\n",
    " Note that while I was construcing pos table I could store all positions instead of just the first one, which would slighlty increase space usage (we'd still stay in $O(nlogn)$) but essentially it's a tradeoff between space and time. I chose (slighlty) bigger runtime using (slightly) less space.\n",
    "\n",
    "Well searching uses basic facts mentioned at the lecture so there's no point in bringing it up again. \n",
    "- n = len(text)\n",
    "- m = len(pattern)\n",
    "\n",
    "Below I have shown few examples.."
   ]
  },
  {
   "cell_type": "code",
   "execution_count": 5,
   "metadata": {},
   "outputs": [
    {
     "output_type": "stream",
     "name": "stdout",
     "text": "[0, 1, 2, 3]\n[0, 1, 2, 3]\n"
    }
   ],
   "source": [
    "text = 'aaaa'\n",
    "pattern = 'a'\n",
    "\n",
    "print(list(kmr.basic_search(pattern, text)))\n",
    "\n",
    "dbf = kmr.kmr(text)\n",
    "print(list(kmr.efficient_search(pattern, text, dbf)))"
   ]
  },
  {
   "cell_type": "code",
   "execution_count": 6,
   "metadata": {},
   "outputs": [
    {
     "output_type": "stream",
     "name": "stdout",
     "text": "[0, 3]\n[0, 3]\n"
    }
   ],
   "source": [
    "text = \"abaabbaa\"\n",
    "pattern = 'ab'\n",
    "\n",
    "print(list(kmr.basic_search(pattern, text)))\n",
    "\n",
    "dbf = kmr.kmr(text)\n",
    "print(list(kmr.efficient_search(pattern, text, dbf)))"
   ]
  },
  {
   "cell_type": "code",
   "execution_count": 7,
   "metadata": {},
   "outputs": [
    {
     "output_type": "stream",
     "name": "stdout",
     "text": "[4]\n[4]\n"
    }
   ],
   "source": [
    "## Example for pattern whose length is not power of 2. Note that we use previously construced dbf for efficient search\n",
    "pattern = 'bba'\n",
    "\n",
    "print(list(kmr.basic_search(pattern, text)))\n",
    "print(list(kmr.efficient_search(pattern, text, dbf)))"
   ]
  },
  {
   "cell_type": "code",
   "execution_count": 8,
   "metadata": {},
   "outputs": [
    {
     "output_type": "stream",
     "name": "stdout",
     "text": "[23]\n[23]\n"
    }
   ],
   "source": [
    "text = \"ahdshsajkfdabhabfdasfarfqewa\"\n",
    "pattern = 'fqewa'\n",
    "\n",
    "print(list(kmr.basic_search(pattern, text)))\n",
    "\n",
    "dbf = kmr.kmr(text)\n",
    "print(list(kmr.efficient_search(pattern, text, dbf)))"
   ]
  },
  {
   "cell_type": "markdown",
   "metadata": {},
   "source": [
    "Looking good.."
   ]
  },
  {
   "cell_type": "markdown",
   "metadata": {},
   "source": [
    "## Time benchmarks for constructing DBF"
   ]
  },
  {
   "cell_type": "code",
   "execution_count": 9,
   "metadata": {
    "tags": [
     "outputPrepend"
    ]
   },
   "outputs": [],
   "source": [
    "def read_text(filename):\n",
    "    with open('resources' + '/' + filename, encoding='utf-8') as file:\n",
    "        return file.read()\n",
    "\n",
    "text1 = read_text('1997_714.txt')\n",
    "text2 = read_text('romeo-i-julia-700.txt')\n",
    "text3  = read_text('zad6')\n",
    "\n",
    "texts = [text1, text2, text3]\n",
    "names = ['1997', 'romeo', 'zad6']"
   ]
  },
  {
   "cell_type": "code",
   "execution_count": 10,
   "metadata": {},
   "outputs": [
    {
     "output_type": "stream",
     "name": "stdout",
     "text": "Testing zad6\n\nDBF: \n33.6 ms ± 1.38 ms per loop (mean ± std. dev. of 7 runs, 10 loops each)\nSuffix Tree: \n7.29 ms ± 339 µs per loop (mean ± std. dev. of 7 runs, 100 loops each)\n------------------------------------------------\nTesting romeo\n\nDBF: \n850 ms ± 46.6 ms per loop (mean ± std. dev. of 7 runs, 1 loop each)\nSuffix Tree: \n113 ms ± 4.71 ms per loop (mean ± std. dev. of 7 runs, 10 loops each)\n------------------------------------------------\nTesting 1997\n\nDBF: \n24.8 s ± 1.71 s per loop (mean ± std. dev. of 7 runs, 1 loop each)\nSuffix Tree: \n2.79 s ± 201 ms per loop (mean ± std. dev. of 7 runs, 1 loop each)\n------------------------------------------------\n"
    }
   ],
   "source": [
    "from suffix_tree import SuffixTree\n",
    "\n",
    "for i in range(2, -1, -1):\n",
    "    print(f'Testing {names[i]}', end='\\n\\n')\n",
    "    print('DBF: ')\n",
    "    %timeit kmr.kmr(texts[i])\n",
    "    print('Suffix Tree: ')\n",
    "    %timeit SuffixTree(texts[i])\n",
    "    print('-' * 48)"
   ]
  },
  {
   "cell_type": "markdown",
   "metadata": {},
   "source": [
    "We can see the difference in running time: O(n) for suffix trees and $O(n \\cdot log(n))$ for DBF"
   ]
  },
  {
   "cell_type": "markdown",
   "metadata": {},
   "source": [
    "## Space benchmarks\n",
    "\n",
    "I guess the easiest way to do it was to serialize object to file and measure the size of file - so that's what I did. Of course that way it'll not be exactly the same size as python object's but we'll still be able to see order of magnitude of size."
   ]
  },
  {
   "cell_type": "code",
   "execution_count": 12,
   "metadata": {},
   "outputs": [],
   "source": [
    "import pickle\n",
    "import os\n",
    "\n",
    "def dump(serializable, name):\n",
    "    path = 'resources/' + name + '.pickle'\n",
    "    with open(path, \"wb\") as file:\n",
    "        pickle.dump(serializable, file)\n",
    "\n",
    "    return path\n",
    "\n",
    "def filesize_kb(path):\n",
    "    return os.stat(path).st_size / 1024"
   ]
  },
  {
   "cell_type": "code",
   "execution_count": 21,
   "metadata": {},
   "outputs": [
    {
     "output_type": "stream",
     "name": "stdout",
     "text": "Testing zad6\n\nDBF size:      66.1142578125 kB\nTextfile size: 0.9248046875 kB\nRatio:         71.48996832101373\n------------------------------------------------\nTesting romeo\n\nDBF size:      1512.265625 kB\nTextfile size: 13.875 kB\nRatio:         108.99211711711712\n------------------------------------------------\nTesting 1997\n\nDBF size:      52697.1455078125 kB\nTextfile size: 248.1767578125 kB\nRatio:         212.33715023235865\n------------------------------------------------\n"
    }
   ],
   "source": [
    "textfile_size = []\n",
    "for filename in ['1997_714.txt', 'romeo-i-julia-700.txt', 'zad6']:\n",
    "    path = 'resources' + '/' + filename\n",
    "    textfile_size.append(filesize_kb(path))\n",
    "\n",
    "for i in range(2, -1, -1):\n",
    "    print(f'Testing {names[i]}', end='\\n\\n')\n",
    "    dbf = kmr.kmr(texts[i])\n",
    "    \n",
    "    dbf_size = filesize_kb(dump(dbf, names[i]))\n",
    "    text_size = textfile_size[i]\n",
    "\n",
    "    print(f'DBF size:      {dbf_size} kB')\n",
    "    print(f'Textfile size: {text_size} kB')\n",
    "    print(f'Ratio:         {dbf_size / text_size}')\n",
    "\n",
    "    print('-' * 48)"
   ]
  },
  {
   "cell_type": "markdown",
   "metadata": {},
   "source": [
    "We can see that even without storing all positions of name, we consume a lot of space, so this is probably not a good idea to use this algorithm on vast textfiles."
   ]
  },
  {
   "cell_type": "markdown",
   "metadata": {},
   "source": [
    "## Time comparison with KMP"
   ]
  },
  {
   "cell_type": "code",
   "execution_count": 22,
   "metadata": {},
   "outputs": [],
   "source": [
    "db1 = kmr.kmr(text1)\n",
    "db2 = kmr.kmr(text2)\n",
    "db3 = kmr.kmr(text3)"
   ]
  },
  {
   "cell_type": "code",
   "execution_count": 60,
   "metadata": {},
   "outputs": [],
   "source": [
    "from kmp import KMPSearch\n",
    "\n",
    "def benchmark(text, pattern, dbf, name, show_result = True):\n",
    "    print(f'Testing {name}', end='\\n\\n')\n",
    "    \n",
    "    if show_result:\n",
    "        print('KMR result: ', end = '')\n",
    "        print(list(kmr.efficient_search(pattern, text, dbf)))\n",
    "\n",
    "        print('KMP result: ', end = '')\n",
    "        print(list(KMPSearch(pattern, text)))\n",
    "    else:\n",
    "        print('KMR result: ', end = '')\n",
    "        print(len(list(kmr.efficient_search(pattern, text, dbf))), 'matches')\n",
    "\n",
    "        print('KMP result: ', end = '')\n",
    "        print(len(list(KMPSearch(pattern, text))), 'matches')\n",
    "\n",
    "    print('KMR time:')\n",
    "    %timeit list(kmr.efficient_search(pattern, text, dbf))\n",
    "\n",
    "    print('KMP time:')\n",
    "    %timeit list(KMPSearch(pattern, text))\n",
    "\n",
    "    print('-' * 64)\n"
   ]
  },
  {
   "cell_type": "code",
   "execution_count": 61,
   "metadata": {},
   "outputs": [
    {
     "output_type": "stream",
     "name": "stdout",
     "text": "Testing romeo\n\nKMR result: 644 matches\nKMP result: 644 matches\nKMR time:\n1.09 ms ± 5.97 µs per loop (mean ± std. dev. of 7 runs, 1000 loops each)\nKMP time:\n3.36 ms ± 42.4 µs per loop (mean ± std. dev. of 7 runs, 100 loops each)\n----------------------------------------------------------------\n"
    }
   ],
   "source": [
    "text = text2\n",
    "dbf = db2\n",
    "pattern = 'a'\n",
    "\n",
    "benchmark(text, pattern, dbf, names[1], False)"
   ]
  },
  {
   "cell_type": "code",
   "execution_count": 50,
   "metadata": {},
   "outputs": [
    {
     "output_type": "stream",
     "name": "stdout",
     "text": "Testing zad6\n\nKMR result: [113, 245, 300, 401, 484]\nKMP result: [113, 245, 300, 401, 484]\nKMR time:\n211 µs ± 23.7 µs per loop (mean ± std. dev. of 7 runs, 1000 loops each)\nKMP time:\n252 µs ± 10.4 µs per loop (mean ± std. dev. of 7 runs, 1000 loops each)\n----------------------------------------------------------------\n"
    }
   ],
   "source": [
    "text = text3\n",
    "dbf = db3\n",
    "pattern = 'DBF'\n",
    "\n",
    "benchmark(text, pattern, dbf, names[2])"
   ]
  },
  {
   "cell_type": "code",
   "execution_count": 52,
   "metadata": {},
   "outputs": [
    {
     "output_type": "stream",
     "name": "stdout",
     "text": "Testing romeo\n\nKMR result: [134, 627]\nKMP result: [134, 627]\nKMR time:\n3.52 ms ± 144 µs per loop (mean ± std. dev. of 7 runs, 100 loops each)\nKMP time:\n4.08 ms ± 442 µs per loop (mean ± std. dev. of 7 runs, 100 loops each)\n----------------------------------------------------------------\n"
    }
   ],
   "source": [
    "text = text2\n",
    "dbf = db2\n",
    "pattern = 'PARYS'\n",
    "\n",
    "benchmark(text, pattern, dbf, names[1])"
   ]
  },
  {
   "cell_type": "code",
   "execution_count": 82,
   "metadata": {},
   "outputs": [
    {
     "output_type": "stream",
     "name": "stdout",
     "text": "Testing 1997\n\nKMR result: 1 matches\nKMP result: 1 matches\nKMR time:\n75.3 ms ± 2.04 ms per loop (mean ± std. dev. of 7 runs, 10 loops each)\nKMP time:\n65.8 ms ± 630 µs per loop (mean ± std. dev. of 7 runs, 10 loops each)\n----------------------------------------------------------------\n"
    }
   ],
   "source": [
    "text = text1\n",
    "dbf = db1\n",
    "pattern = 'Osoby fizyczne'\n",
    "\n",
    "benchmark(text, pattern, dbf, names[0], False)\n"
   ]
  },
  {
   "cell_type": "code",
   "execution_count": 83,
   "metadata": {},
   "outputs": [
    {
     "output_type": "stream",
     "name": "stdout",
     "text": "Testing 1997\n\nKMR result: 67 matches\nKMP result: 67 matches\nKMR time:\n74.1 ms ± 659 µs per loop (mean ± std. dev. of 7 runs, 10 loops each)\nKMP time:\n64.6 ms ± 805 µs per loop (mean ± std. dev. of 7 runs, 10 loops each)\n----------------------------------------------------------------\n"
    }
   ],
   "source": [
    "text = text1\n",
    "dbf = db1\n",
    "pattern = 'podatku'\n",
    "\n",
    "benchmark(text, pattern, dbf, names[0], False)\n"
   ]
  },
  {
   "cell_type": "code",
   "execution_count": 75,
   "metadata": {},
   "outputs": [
    {
     "output_type": "stream",
     "name": "stdout",
     "text": "Testing 1997\n\nKMR result: [9728]\nKMP result: [9728]\nKMR time:\n130 ms ± 11.2 ms per loop (mean ± std. dev. of 7 runs, 10 loops each)\nKMP time:\n86.7 ms ± 13.8 ms per loop (mean ± std. dev. of 7 runs, 10 loops each)\n----------------------------------------------------------------\n"
    }
   ],
   "source": [
    "pattern = 'Ryczałt od przychodów ewidencjonowanych opłacają również podatnicy, którzy\\n  w roku poprzedzającym rok podatkowy prowadzili działalność samodzielnie lub\\n  w formie spółki, z której przychody były opodatkowane wyłącznie w formie\\n  karty podatkowej, lub za część roku były opodatkowane w formie karty\\n  podatkowej i za część roku na ogólnych zasadach, a łączne przychody w roku\\n  poprzedzającym rok podatkowy nie przekroczyły kwoty 400.000 zł;'\n",
    "\n",
    "text = text1\n",
    "dbf = db1\n",
    "\n",
    "benchmark(text, pattern, dbf, names[0])"
   ]
  },
  {
   "cell_type": "code",
   "execution_count": 77,
   "metadata": {},
   "outputs": [
    {
     "output_type": "stream",
     "name": "stdout",
     "text": "Testing 1997\n\nKMR result: 62 matches\nKMP result: 62 matches\nKMR time:\n84.6 ms ± 6.68 ms per loop (mean ± std. dev. of 7 runs, 10 loops each)\nKMP time:\n88 ms ± 7.45 ms per loop (mean ± std. dev. of 7 runs, 10 loops each)\n----------------------------------------------------------------\n"
    }
   ],
   "source": [
    "text = text1\n",
    "dbf = db1\n",
    "pattern = 'ala'\n",
    "\n",
    "benchmark(text, pattern, dbf, names[0], False)\n"
   ]
  },
  {
   "cell_type": "markdown",
   "metadata": {},
   "source": [
    "### Conclusion\n",
    "\n",
    "Well for one thing it looks like our implementation is correct. For short patterns KMR turned out to be faster than KMP, for others special, longer ones (like this long sentence above) KMR turned out to be slower. Well this might be becasuse I didn't store all positions (which as we can see wasn't needed to beat KMP for smaller patterns). If we look at asymptotic time complexity we can see why this is the case: \n",
    "\n",
    "$$\n",
    "    O(n + m) \\text{ vs } O(n + m \\cdot log(n))\n",
    "$$\n",
    "\n",
    "If we were to remember all positions (in pos table) then we'd have\n",
    "\n",
    "$$\n",
    "    O(m \\cdot log(n))\n",
    "$$\n",
    "\n",
    "But as I said previously this is just a tradeoff between space and time.\n",
    "\n",
    "Overall bcs of huge space complexity and long preprocessing (DBF constructing) time it does not make sense to use KMR for pattern matching, but variations to this algorithm have other applications."
   ]
  },
  {
   "cell_type": "code",
   "execution_count": null,
   "metadata": {},
   "outputs": [],
   "source": []
  }
 ],
 "metadata": {
  "language_info": {
   "codemirror_mode": {
    "name": "ipython",
    "version": 3
   },
   "file_extension": ".py",
   "mimetype": "text/x-python",
   "name": "python",
   "nbconvert_exporter": "python",
   "pygments_lexer": "ipython3",
   "version": "3.7.7-final"
  },
  "orig_nbformat": 2,
  "kernelspec": {
   "name": "python3",
   "display_name": "Python 3"
  }
 },
 "nbformat": 4,
 "nbformat_minor": 2
}