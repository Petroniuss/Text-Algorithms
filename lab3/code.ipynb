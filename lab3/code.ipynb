{
 "nbformat": 4,
 "nbformat_minor": 2,
 "metadata": {
  "language_info": {
   "name": "python",
   "codemirror_mode": {
    "name": "ipython",
    "version": 3
   },
   "version": "3.7.6-final"
  },
  "orig_nbformat": 2,
  "file_extension": ".py",
  "mimetype": "text/x-python",
  "name": "python",
  "npconvert_exporter": "python",
  "pygments_lexer": "ipython3",
  "version": 3,
  "kernelspec": {
   "name": "python3",
   "display_name": "Python 3"
  }
 },
 "cells": [
  {
   "cell_type": "code",
   "execution_count": 1,
   "metadata": {},
   "outputs": [
    {
     "output_type": "execute_result",
     "data": {
      "text/plain": "-----HUFFMAN TREE-----\n#11\n0 -> #5 a\n1 -> #6\n 0 -> #2\n  0 -> #1 c\n  1 -> #1 d\n 1 -> #4\n  0 -> #2 r\n  1 -> #2 b"
     },
     "metadata": {},
     "execution_count": 1
    }
   ],
   "source": [
    "from static_huffman import static_huffman, encode, decode\n",
    "\n",
    "root = static_huffman(\"abracadabra\")\n",
    "root"
   ]
  },
  {
   "cell_type": "code",
   "execution_count": 4,
   "metadata": {},
   "outputs": [
    {
     "output_type": "stream",
     "name": "stdout",
     "text": "bitarray('01111100100010101111100')\n"
    }
   ],
   "source": [
    "encoded = encode(\"abracadabra\")\n",
    "print(encoded)"
   ]
  },
  {
   "cell_type": "code",
   "execution_count": 5,
   "metadata": {},
   "outputs": [
    {
     "output_type": "stream",
     "name": "stdout",
     "text": "abracadabra\n"
    }
   ],
   "source": [
    "decoded = decode(encoded, root)\n",
    "print(decoded)"
   ]
  },
  {
   "cell_type": "code",
   "execution_count": null,
   "metadata": {},
   "outputs": [],
   "source": []
  }
 ]
}