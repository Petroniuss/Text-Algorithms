{
 "nbformat": 4,
 "nbformat_minor": 2,
 "metadata": {
  "language_info": {
   "name": "python",
   "codemirror_mode": {
    "name": "ipython",
    "version": 3
   },
   "version": "3.7.6-final"
  },
  "orig_nbformat": 2,
  "file_extension": ".py",
  "mimetype": "text/x-python",
  "name": "python",
  "npconvert_exporter": "python",
  "pygments_lexer": "ipython3",
  "version": 3,
  "kernelspec": {
   "name": "python3",
   "display_name": "Python 3"
  }
 },
 "cells": [
  {
   "cell_type": "code",
   "execution_count": 1,
   "metadata": {},
   "outputs": [],
   "source": [
    "from static_huff import static_huffman\n",
    "from adaptive_huff import adaptive_huffman_encode\n",
    "\n",
    "import static_huff\n",
    "import adaptive_huff"
   ]
  },
  {
   "cell_type": "code",
   "execution_count": 2,
   "metadata": {},
   "outputs": [
    {
     "output_type": "execute_result",
     "data": {
      "text/plain": "-----HUFFMAN TREE-----\n#11\n0 -> #5 a\n1 -> #6\n 0 -> #2\n  0 -> #1 c\n  1 -> #1 d\n 1 -> #4\n  0 -> #2 r\n  1 -> #2 b"
     },
     "metadata": {},
     "execution_count": 2
    }
   ],
   "source": [
    "root = static_huffman(\"abracadabra\")\n",
    "root"
   ]
  },
  {
   "cell_type": "code",
   "execution_count": 3,
   "metadata": {},
   "outputs": [
    {
     "output_type": "stream",
     "name": "stdout",
     "text": "bitarray('01111100100010101111100')\n"
    }
   ],
   "source": [
    "encoded = static_huff.encode(\"abracadabra\")\n",
    "print(encoded)"
   ]
  },
  {
   "cell_type": "code",
   "execution_count": 4,
   "metadata": {},
   "outputs": [
    {
     "output_type": "stream",
     "name": "stdout",
     "text": "abracadabra\n"
    }
   ],
   "source": [
    "decoded = static_huff.decode(encoded, root)\n",
    "print(decoded)"
   ]
  },
  {
   "cell_type": "code",
   "execution_count": 7,
   "metadata": {},
   "outputs": [
    {
     "output_type": "stream",
     "name": "stdout",
     "text": "-----HUFFMAN TREE-----\n#{ W=1, N=9 }\n 0 -> #{ W=0, N=7 } => NYT\n 1 -> #{ W=1, N=8 } => a\nLeaves: {'NYT': #{ W=0, N=7 } => NYT, 'a': #{ W=1, N=8 } => a}\nWeight Classes: {0: {#{ W=0, N=7 } => NYT}, 1: {#{ W=1, N=8 } => a, #{ W=1, N=9 }}}\n----------------------\n-----HUFFMAN TREE-----\n#{ W=2, N=9 }\n 0 -> #{ W=0, N=7 } => NYT\n 1 -> #{ W=2, N=8 } => a\nLeaves: {'NYT': #{ W=0, N=7 } => NYT, 'a': #{ W=2, N=8 } => a}\nWeight Classes: {0: {#{ W=0, N=7 } => NYT}, 1: set(), 2: {#{ W=2, N=8 } => a, #{ W=2, N=9 }}}\n----------------------\n-----HUFFMAN TREE-----\n#{ W=3, N=9 }\n 0 -> #{ W=1, N=7 }\n  0 -> #{ W=0, N=5 } => NYT\n  1 -> #{ W=1, N=6 } => r\n 1 -> #{ W=2, N=8 } => a\nLeaves: {'NYT': #{ W=0, N=5 } => NYT, 'a': #{ W=2, N=8 } => a, 'r': #{ W=1, N=6 } => r}\nWeight Classes: {0: {#{ W=0, N=5 } => NYT}, 1: {#{ W=1, N=6 } => r, #{ W=1, N=7 }}, 2: {#{ W=2, N=8 } => a}, 3: {#{ W=3, N=9 }}}\n----------------------\n-----HUFFMAN TREE-----\n#{ W=4, N=9 }\n 0 -> #{ W=2, N=7 }\n  0 -> #{ W=1, N=5 }\n   0 -> #{ W=0, N=3 } => NYT\n   1 -> #{ W=1, N=4 } => d\n  1 -> #{ W=1, N=6 } => r\n 1 -> #{ W=2, N=8 } => a\nLeaves: {'NYT': #{ W=0, N=3 } => NYT, 'a': #{ W=2, N=8 } => a, 'r': #{ W=1, N=6 } => r, 'd': #{ W=1, N=4 } => d}\nWeight Classes: {0: {#{ W=0, N=3 } => NYT}, 1: {#{ W=1, N=6 } => r, #{ W=1, N=4 } => d, #{ W=1, N=5 }}, 2: {#{ W=2, N=8 } => a, #{ W=2, N=7 }}, 3: set(), 4: {#{ W=4, N=9 }}}\n----------------------\nSwapping!\nToUpdate:  #{ W=1, N=5 }\n 0 -> #{ W=1, N=3 }\n  0 -> #{ W=0, N=1 } => NYT\n  1 -> #{ W=1, N=2 } => v\n 1 -> #{ W=1, N=4 } => d\nMAX #{ W=1, N=6 } => r\nnode_parent #{ W=2, N=7 }\n 0 -> #{ W=1, N=6 }\n  0 -> #{ W=1, N=3 }\n   0 -> #{ W=0, N=1 } => NYT\n   1 -> #{ W=1, N=2 } => v\n  1 -> #{ W=1, N=4 } => d\n 1 -> #{ W=1, N=5 } => r\nmax_parent #{ W=2, N=7 }\n 0 -> #{ W=1, N=6 }\n  0 -> #{ W=1, N=3 }\n   0 -> #{ W=0, N=1 } => NYT\n   1 -> #{ W=1, N=2 } => v\n  1 -> #{ W=1, N=4 } => d\n 1 -> #{ W=1, N=5 } => r\nAfter swap -----HUFFMAN TREE-----\n#{ W=4, N=9 }\n 0 -> #{ W=2, N=7 }\n  0 -> #{ W=1, N=5 } => r\n  1 -> #{ W=1, N=6 }\n   0 -> #{ W=1, N=3 }\n    0 -> #{ W=0, N=1 } => NYT\n    1 -> #{ W=1, N=2 } => v\n   1 -> #{ W=1, N=4 } => d\n 1 -> #{ W=2, N=8 } => a\nLeaves: {'NYT': #{ W=0, N=1 } => NYT, 'a': #{ W=2, N=8 } => a, 'r': #{ W=1, N=5 } => r, 'd': #{ W=1, N=4 } => d, 'v': #{ W=1, N=2 } => v}\nWeight Classes: {0: {#{ W=0, N=1 } => NYT}, 1: {#{ W=1, N=6 }, #{ W=1, N=2 } => v, #{ W=1, N=3 }, #{ W=1, N=5 } => r, #{ W=1, N=4 } => d}, 2: {#{ W=2, N=8 } => a, #{ W=2, N=7 }}, 3: set(), 4: {#{ W=4, N=9 }}}\n---------------------- ***\nSwapping!\nToUpdate:  #{ W=2, N=7 }\n 0 -> #{ W=1, N=5 } => r\n 1 -> #{ W=2, N=6 }\n  0 -> #{ W=1, N=3 }\n   0 -> #{ W=0, N=1 } => NYT\n   1 -> #{ W=1, N=2 } => v\n  1 -> #{ W=1, N=4 } => d\nMAX #{ W=2, N=8 } => a\nnode_parent #{ W=4, N=9 }\n 0 -> #{ W=2, N=8 }\n  0 -> #{ W=1, N=5 } => r\n  1 -> #{ W=2, N=6 }\n   0 -> #{ W=1, N=3 }\n    0 -> #{ W=0, N=1 } => NYT\n    1 -> #{ W=1, N=2 } => v\n   1 -> #{ W=1, N=4 } => d\n 1 -> #{ W=2, N=7 } => a\nmax_parent #{ W=4, N=9 }\n 0 -> #{ W=2, N=8 }\n  0 -> #{ W=1, N=5 } => r\n  1 -> #{ W=2, N=6 }\n   0 -> #{ W=1, N=3 }\n    0 -> #{ W=0, N=1 } => NYT\n    1 -> #{ W=1, N=2 } => v\n   1 -> #{ W=1, N=4 } => d\n 1 -> #{ W=2, N=7 } => a\nAfter swap -----HUFFMAN TREE-----\n#{ W=4, N=9 }\n 0 -> #{ W=2, N=7 } => a\n 1 -> #{ W=2, N=8 }\n  0 -> #{ W=1, N=5 } => r\n  1 -> #{ W=2, N=6 }\n   0 -> #{ W=1, N=3 }\n    0 -> #{ W=0, N=1 } => NYT\n    1 -> #{ W=1, N=2 } => v\n   1 -> #{ W=1, N=4 } => d\nLeaves: {'NYT': #{ W=0, N=1 } => NYT, 'a': #{ W=2, N=7 } => a, 'r': #{ W=1, N=5 } => r, 'd': #{ W=1, N=4 } => d, 'v': #{ W=1, N=2 } => v}\nWeight Classes: {0: {#{ W=0, N=1 } => NYT}, 1: {#{ W=1, N=2 } => v, #{ W=1, N=3 }, #{ W=1, N=5 } => r, #{ W=1, N=4 } => d}, 2: {#{ W=2, N=7 } => a, #{ W=2, N=8 }, #{ W=2, N=6 }}, 3: set(), 4: {#{ W=4, N=9 }}}\n---------------------- ***\n-----HUFFMAN TREE-----\n#{ W=5, N=9 }\n 0 -> #{ W=2, N=7 } => a\n 1 -> #{ W=3, N=8 }\n  0 -> #{ W=1, N=5 } => r\n  1 -> #{ W=2, N=6 }\n   0 -> #{ W=1, N=3 }\n    0 -> #{ W=0, N=1 } => NYT\n    1 -> #{ W=1, N=2 } => v\n   1 -> #{ W=1, N=4 } => d\nLeaves: {'NYT': #{ W=0, N=1 } => NYT, 'a': #{ W=2, N=7 } => a, 'r': #{ W=1, N=5 } => r, 'd': #{ W=1, N=4 } => d, 'v': #{ W=1, N=2 } => v}\nWeight Classes: {0: {#{ W=0, N=1 } => NYT}, 1: {#{ W=1, N=2 } => v, #{ W=1, N=3 }, #{ W=1, N=5 } => r, #{ W=1, N=4 } => d}, 2: {#{ W=2, N=7 } => a, #{ W=2, N=6 }}, 3: {#{ W=3, N=8 }}, 4: set(), 5: {#{ W=5, N=9 }}}\n----------------------\n-----HUFFMAN TREE-----\n#{ W=6, N=9 }\n 0 -> #{ W=3, N=7 } => a\n 1 -> #{ W=3, N=8 }\n  0 -> #{ W=1, N=5 } => r\n  1 -> #{ W=2, N=6 }\n   0 -> #{ W=1, N=3 }\n    0 -> #{ W=0, N=1 } => NYT\n    1 -> #{ W=1, N=2 } => v\n   1 -> #{ W=1, N=4 } => d\nLeaves: {'NYT': #{ W=0, N=1 } => NYT, 'a': #{ W=3, N=7 } => a, 'r': #{ W=1, N=5 } => r, 'd': #{ W=1, N=4 } => d, 'v': #{ W=1, N=2 } => v}\nWeight Classes: {0: {#{ W=0, N=1 } => NYT}, 1: {#{ W=1, N=2 } => v, #{ W=1, N=3 }, #{ W=1, N=5 } => r, #{ W=1, N=4 } => d}, 2: {#{ W=2, N=6 }}, 3: {#{ W=3, N=7 } => a, #{ W=3, N=8 }}, 4: set(), 5: set(), 6: {#{ W=6, N=9 }}}\n----------------------\nSwapping!\nToUpdate:  #{ W=3, N=7 } => a\nMAX #{ W=3, N=8 }\n 0 -> #{ W=1, N=5 } => r\n 1 -> #{ W=2, N=6 }\n  0 -> #{ W=1, N=3 }\n   0 -> #{ W=0, N=1 } => NYT\n   1 -> #{ W=1, N=2 } => v\n  1 -> #{ W=1, N=4 } => d\nnode_parent #{ W=6, N=9 }\n 0 -> #{ W=3, N=8 } => a\n 1 -> #{ W=3, N=7 }\n  0 -> #{ W=1, N=5 } => r\n  1 -> #{ W=2, N=6 }\n   0 -> #{ W=1, N=3 }\n    0 -> #{ W=0, N=1 } => NYT\n    1 -> #{ W=1, N=2 } => v\n   1 -> #{ W=1, N=4 } => d\nmax_parent #{ W=6, N=9 }\n 0 -> #{ W=3, N=8 } => a\n 1 -> #{ W=3, N=7 }\n  0 -> #{ W=1, N=5 } => r\n  1 -> #{ W=2, N=6 }\n   0 -> #{ W=1, N=3 }\n    0 -> #{ W=0, N=1 } => NYT\n    1 -> #{ W=1, N=2 } => v\n   1 -> #{ W=1, N=4 } => d\nAfter swap -----HUFFMAN TREE-----\n#{ W=6, N=9 }\n 0 -> #{ W=3, N=7 }\n  0 -> #{ W=1, N=5 } => r\n  1 -> #{ W=2, N=6 }\n   0 -> #{ W=1, N=3 }\n    0 -> #{ W=0, N=1 } => NYT\n    1 -> #{ W=1, N=2 } => v\n   1 -> #{ W=1, N=4 } => d\n 1 -> #{ W=3, N=8 } => a\nLeaves: {'NYT': #{ W=0, N=1 } => NYT, 'a': #{ W=3, N=8 } => a, 'r': #{ W=1, N=5 } => r, 'd': #{ W=1, N=4 } => d, 'v': #{ W=1, N=2 } => v}\nWeight Classes: {0: {#{ W=0, N=1 } => NYT}, 1: {#{ W=1, N=2 } => v, #{ W=1, N=3 }, #{ W=1, N=5 } => r, #{ W=1, N=4 } => d}, 2: {#{ W=2, N=6 }}, 3: {#{ W=3, N=8 } => a, #{ W=3, N=7 }}, 4: set(), 5: set(), 6: {#{ W=6, N=9 }}}\n---------------------- ***\n-----HUFFMAN TREE-----\n#{ W=7, N=9 }\n 0 -> #{ W=3, N=7 }\n  0 -> #{ W=1, N=5 } => r\n  1 -> #{ W=2, N=6 }\n   0 -> #{ W=1, N=3 }\n    0 -> #{ W=0, N=1 } => NYT\n    1 -> #{ W=1, N=2 } => v\n   1 -> #{ W=1, N=4 } => d\n 1 -> #{ W=4, N=8 } => a\nLeaves: {'NYT': #{ W=0, N=1 } => NYT, 'a': #{ W=4, N=8 } => a, 'r': #{ W=1, N=5 } => r, 'd': #{ W=1, N=4 } => d, 'v': #{ W=1, N=2 } => v}\nWeight Classes: {0: {#{ W=0, N=1 } => NYT}, 1: {#{ W=1, N=2 } => v, #{ W=1, N=3 }, #{ W=1, N=5 } => r, #{ W=1, N=4 } => d}, 2: {#{ W=2, N=6 }}, 3: {#{ W=3, N=7 }}, 4: {#{ W=4, N=8 } => a}, 5: set(), 6: set(), 7: {#{ W=7, N=9 }}}\n----------------------\n"
    }
   ],
   "source": [
    "## FIXME => swapping part!\n",
    "\n",
    "text = \"aardvaa\" # here propery is broken!\n",
    "adaptive_huff.adaptive_huffman_encode(text, N = 9)\n",
    "pass"
   ]
  },
  {
   "cell_type": "code",
   "execution_count": null,
   "metadata": {},
   "outputs": [],
   "source": []
  }
 ]
}