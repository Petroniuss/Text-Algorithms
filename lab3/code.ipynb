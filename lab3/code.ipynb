{
 "nbformat": 4,
 "nbformat_minor": 2,
 "metadata": {
  "language_info": {
   "name": "python",
   "codemirror_mode": {
    "name": "ipython",
    "version": 3
   },
   "version": "3.7.6-final"
  },
  "orig_nbformat": 2,
  "file_extension": ".py",
  "mimetype": "text/x-python",
  "name": "python",
  "npconvert_exporter": "python",
  "pygments_lexer": "ipython3",
  "version": 3,
  "kernelspec": {
   "name": "python3",
   "display_name": "Python 3"
  }
 },
 "cells": [
  {
   "cell_type": "code",
   "execution_count": 3,
   "metadata": {},
   "outputs": [],
   "source": [
    "from static_huff import static_huffman\n",
    "from adaptive_huff import adaptive_huffman\n",
    "from bitarray import bitarray\n",
    "\n",
    "import static_huff\n",
    "import adaptive_huff"
   ]
  },
  {
   "cell_type": "markdown",
   "metadata": {},
   "source": [
    "## Static Huffman Showcase"
   ]
  },
  {
   "cell_type": "code",
   "execution_count": 4,
   "metadata": {},
   "outputs": [
    {
     "output_type": "execute_result",
     "data": {
      "text/plain": "-----HUFFMAN TREE-----\n#11\n 0 -> #5 => a\n 1 -> #6\n  0 -> #2\n   0 -> #1 => c\n   1 -> #1 => d\n  1 -> #4\n   0 -> #2 => r\n   1 -> #2 => b"
     },
     "metadata": {},
     "execution_count": 4
    }
   ],
   "source": [
    "static_huffman(\"abracadabra\")"
   ]
  },
  {
   "cell_type": "code",
   "execution_count": 5,
   "metadata": {},
   "outputs": [
    {
     "output_type": "stream",
     "name": "stdout",
     "text": "abracadabra\n"
    }
   ],
   "source": [
    "text = \"abracadabra\"\n",
    "encoded, root = static_huff.encode(text)\n",
    "decoded = static_huff.decode(encoded, root)\n",
    "\n",
    "print(decoded)"
   ]
  },
  {
   "cell_type": "markdown",
   "metadata": {},
   "source": [
    "## Adaptive huffman showcase"
   ]
  },
  {
   "cell_type": "code",
   "execution_count": 6,
   "metadata": {},
   "outputs": [
    {
     "output_type": "execute_result",
     "data": {
      "text/plain": "-----HUFFMAN TREE-----\n#{ W=11, N=11 }\n 0 -> #{ W=5, N=9 } => a\n 1 -> #{ W=6, N=10 }\n  0 -> #{ W=2, N=7 }\n   0 -> #{ W=1, N=3 }\n    0 -> #{ W=0, N=1 } => NYT\n    1 -> #{ W=1, N=2 } => d\n   1 -> #{ W=1, N=4 } => c\n  1 -> #{ W=4, N=8 }\n   0 -> #{ W=2, N=5 } => r\n   1 -> #{ W=2, N=6 } => b"
     },
     "metadata": {},
     "execution_count": 6
    }
   ],
   "source": [
    "adaptive_huff.adaptive_huffman(text, N = 11)"
   ]
  },
  {
   "cell_type": "code",
   "execution_count": 7,
   "metadata": {},
   "outputs": [
    {
     "output_type": "stream",
     "name": "stdout",
     "text": "abracadabra\n"
    }
   ],
   "source": [
    "bits = adaptive_huff.encode(text)\n",
    "decoded = adaptive_huff.decode(bits)\n",
    "\n",
    "print(decoded)"
   ]
  },
  {
   "cell_type": "markdown",
   "metadata": {},
   "source": [
    "## Generating test files"
   ]
  },
  {
   "cell_type": "code",
   "execution_count": 8,
   "metadata": {},
   "outputs": [],
   "source": [
    "import string\n",
    "import random\n",
    "\n",
    "def rand_char():\n",
    "    return random.choice(string.ascii_lowercase)\n",
    "\n",
    "def generate_txt_file(filename, size):\n",
    "    characters = size\n",
    "    characters_per_line = 100\n",
    "    with open(filename, \"w\", encoding = 'ascii') as file:\n",
    "        counter = 1\n",
    "        while counter < characters:\n",
    "            line = ''\n",
    "            while ((counter % characters_per_line) != 0) and counter < characters:\n",
    "                counter += 1\n",
    "                line += rand_char()    \n",
    "\n",
    "            line += '\\n'\n",
    "            counter += 1\n",
    "            file.write(line)\n",
    "\n",
    "\n",
    "test_files = ['./resources/file1.txt', './resources/file2.txt', './resources/file3.txt', './resources/file4.txt']\n",
    "\n",
    "compress_to_static_huff = ['./resources/file1.shf', './resources/file2.shf', './resources/file3.shf', './resources/file4.shf']\n",
    "\n",
    "decompress_to_static_huff = ['./resources/file1_shf.txt', './resources/file2_shf.txt', './resources/file3_shf.txt', './resources/file4_shf.txt']\n",
    "\n",
    "compress_to_adaptive_huff = ['./resources/file1.adhf', './resources/file2.adhf', './resources/file3.adhf', './resources/file4.adhf']\n",
    "\n",
    "decompress_to_adaptive_huff = ['./resources/file1_adhf.txt', './resources/file2_adhf.txt', './resources/file3_adhf.txt', './resources/file4_adhf.txt']\n",
    "\n",
    "for i, file in enumerate(test_files):\n",
    "    generate_txt_file(file, 10 ** (i + 3))"
   ]
  },
  {
   "cell_type": "code",
   "execution_count": 9,
   "metadata": {},
   "outputs": [
    {
     "output_type": "stream",
     "name": "stdout",
     "text": "5083\n"
    }
   ],
   "source": [
    "adaptive_huff.compress_file(test_files[0], compress_to_adaptive_huff[0])"
   ]
  },
  {
   "cell_type": "code",
   "execution_count": 10,
   "metadata": {},
   "outputs": [
    {
     "output_type": "stream",
     "name": "stdout",
     "text": "5083\n"
    }
   ],
   "source": [
    "adaptive_huff.decompress_file(compress_to_adaptive_huff[0], decompress_to_adaptive_huff[0])"
   ]
  },
  {
   "cell_type": "code",
   "execution_count": null,
   "metadata": {},
   "outputs": [],
   "source": []
  }
 ]
}