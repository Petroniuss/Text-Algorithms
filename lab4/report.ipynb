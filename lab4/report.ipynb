{
 "cells": [
  {
   "cell_type": "markdown",
   "metadata": {},
   "source": [
    "# Edit distance  \n",
    "\n",
    "Please note that the visualization is an animation, so it's necessary \n",
    "to run cells with `import` and `visualize`."
   ]
  },
  {
   "cell_type": "code",
   "execution_count": 1,
   "metadata": {},
   "outputs": [
    {
     "output_type": "execute_result",
     "data": {
      "text/plain": "array([[0., 1., 2., 3., 4., 5., 6.],\n       [1., 0., 1., 2., 3., 4., 5.],\n       [2., 1., 0., 1., 2., 3., 4.],\n       [3., 2., 1., 1., 2., 3., 3.]])"
     },
     "metadata": {},
     "execution_count": 1
    }
   ],
   "source": [
    "from edit import edit_table, edit_distance, visualize\n",
    "\n",
    "x, y = 'ala', 'alicja'\n",
    "edit_table(x, y)"
   ]
  },
  {
   "cell_type": "code",
   "execution_count": 2,
   "metadata": {},
   "outputs": [
    {
     "output_type": "execute_result",
     "data": {
      "text/plain": "3.0"
     },
     "metadata": {},
     "execution_count": 2
    }
   ],
   "source": [
    "edit_distance(x,y)"
   ]
  },
  {
   "cell_type": "code",
   "execution_count": 3,
   "metadata": {},
   "outputs": [
    {
     "output_type": "stream",
     "name": "stdout",
     "text": "------------------------\nalicja\n      ↑\nalicja\n      ↑\n------------------------\nDONE.. edit distance: 3\n"
    }
   ],
   "source": [
    "visualize(x, y, sleep_for=1.2)"
   ]
  },
  {
   "cell_type": "markdown",
   "metadata": {},
   "source": [
    "## Examples"
   ]
  },
  {
   "cell_type": "code",
   "execution_count": 4,
   "metadata": {},
   "outputs": [
    {
     "name": "stdout",
     "output_type": "stream",
     "text": [
      "------------------------\n",
      "kloc\n",
      "    ↑\n",
      "kloc\n",
      "    ↑\n",
      "------------------------\n",
      "DONE.. edit distance: 2\n"
     ]
    }
   ],
   "source": [
    "x, y = 'los', 'kloc'\n",
    "visualize(x, y)"
   ]
  },
  {
   "cell_type": "code",
   "execution_count": 5,
   "metadata": {},
   "outputs": [
    {
     "name": "stdout",
     "output_type": "stream",
     "text": [
      "------------------------\n",
      "Lodz\n",
      "    ↑\n",
      "Lodz\n",
      "    ↑\n",
      "------------------------\n",
      "DONE.. edit distance: 3\n"
     ]
    }
   ],
   "source": [
    "x, y = 'Łódź', 'Lodz'\n",
    "visualize(x, y)"
   ]
  },
  {
   "cell_type": "code",
   "execution_count": 6,
   "metadata": {},
   "outputs": [
    {
     "name": "stdout",
     "output_type": "stream",
     "text": [
      "------------------------\n",
      "quintessence\n",
      "            ↑\n",
      "quintessence\n",
      "            ↑\n",
      "------------------------\n",
      "DONE.. edit distance: 5\n"
     ]
    }
   ],
   "source": [
    "x, y = 'kwintesencja', 'quintessence'\n",
    "visualize(x, y)"
   ]
  },
  {
   "cell_type": "code",
   "execution_count": 8,
   "metadata": {},
   "outputs": [
    {
     "name": "stdout",
     "output_type": "stream",
     "text": [
      "------------------------\n",
      "ATGAGGCTCTGGCCCCTG\n",
      "                  ↑\n",
      "ATGAGGCTCTGGCCCCTG\n",
      "                  ↑\n",
      "------------------------\n",
      "DONE.. edit distance: 7\n"
     ]
    }
   ],
   "source": [
    "x, y = 'ATGAATCTTACCGCCTCG', 'ATGAGGCTCTGGCCCCTG'\n",
    "visualize(x, y)"
   ]
  },
  {
   "cell_type": "markdown",
   "metadata": {},
   "source": [
    "# Longest common subsequence\n",
    "\n",
    "Example from wikipedia"
   ]
  },
  {
   "cell_type": "code",
   "execution_count": 2,
   "metadata": {},
   "outputs": [
    {
     "output_type": "execute_result",
     "data": {
      "text/plain": "array([[0., 0., 0., 0., 0., 0., 0., 0.],\n       [0., 0., 0., 0., 0., 0., 1., 1.],\n       [0., 1., 1., 1., 1., 1., 1., 1.],\n       [0., 1., 1., 2., 2., 2., 2., 2.],\n       [0., 1., 1., 2., 2., 2., 2., 2.],\n       [0., 1., 1., 2., 3., 3., 3., 3.],\n       [0., 1., 1., 2., 3., 3., 3., 4.],\n       [0., 1., 2., 2., 3., 3., 3., 4.]])"
     },
     "metadata": {},
     "execution_count": 2
    }
   ],
   "source": [
    "from lcs import lcs_table, lcs, diff_line\n",
    "\n",
    "x, y = 'XMJYAUZ', 'MZJAWXU'\n",
    "lcs_table(x, y)"
   ]
  },
  {
   "cell_type": "code",
   "execution_count": 3,
   "metadata": {},
   "outputs": [
    {
     "output_type": "execute_result",
     "data": {
      "text/plain": "'MJAU'"
     },
     "metadata": {},
     "execution_count": 3
    }
   ],
   "source": [
    "lcs(x, y, join = True)"
   ]
  },
  {
   "cell_type": "markdown",
   "metadata": {},
   "source": [
    "#### Line diff\n",
    "\n",
    "This one is just for fun."
   ]
  },
  {
   "cell_type": "code",
   "execution_count": 4,
   "metadata": {},
   "outputs": [
    {
     "output_type": "stream",
     "name": "stdout",
     "text": "<XMJYAUZ\n>MZJAWXU\n XMYAUZJWXUAU\n - ---- +++  \n\n"
    }
   ],
   "source": [
    "print(diff_line(x, y))"
   ]
  },
  {
   "cell_type": "markdown",
   "metadata": {},
   "source": [
    "# diff\n",
    "\n",
    "- Format of my diff corresponds to that described here: https://en.wikipedia.org/wiki/Diff#Usage.\n",
    "- Note that I am using ansi escape codes to get colored output, so if terminal (or whatever reads stdout) does not handle them, output might be messy.\n",
    "\n",
    "Below is simple example"
   ]
  },
  {
   "cell_type": "code",
   "execution_count": 5,
   "metadata": {},
   "outputs": [
    {
     "output_type": "execute_result",
     "data": {
      "text/plain": "['common', 'more_common']"
     },
     "metadata": {},
     "execution_count": 5
    }
   ],
   "source": [
    "x = ['common', 'outdated', 'more_common']\n",
    "y = ['new', 'common', 'more_common', 'more_new']\n",
    "\n",
    "lcs(x, y)"
   ]
  },
  {
   "cell_type": "code",
   "execution_count": 1,
   "metadata": {},
   "outputs": [
    {
     "output_type": "stream",
     "name": "stdout",
     "text": "0a1\u001b[32m\n> new\n\u001b[0m2d3\u001b[31m\n< outdated\n\u001b[0m3a4\u001b[32m\n> more_new\n\u001b[0m\n"
    }
   ],
   "source": [
    "from lcs import diff\n",
    "\n",
    "x = ['common', 'outdated', 'more_common']\n",
    "y = ['new', 'common', 'more_common', 'more_new']\n",
    "\n",
    "print(diff(x, y))"
   ]
  },
  {
   "cell_type": "markdown",
   "metadata": {},
   "source": [
    "### Example from wikipedia\n",
    "[https://en.wikipedia.org/wiki/Diff#Usage]\n",
    "\n",
    "There is a subtle difference:\n",
    "- I don't use 'c' as in change instead I have 'd' (delete) followed by 'a' (append).\n",
    "\n",
    "Program can also be used from command line: \n",
    "- `python lcs.py \"resources/original.txt\" \"resources/new.txt\"`"
   ]
  },
  {
   "cell_type": "code",
   "execution_count": 2,
   "metadata": {},
   "outputs": [
    {
     "output_type": "stream",
     "name": "stdout",
     "text": "0a1,6\u001b[32m\n> This is an important\n> notice! It should\n> therefore be located at\n> the beginning of this\n> document!\n> \n\u001b[0m11,15d17\u001b[31m\n< This paragraph contains\n< text that is outdated.\n< It will be deleted in the\n< near future.\n< \n\u001b[0m17d18\u001b[31m\n< check this dokument. On\n\u001b[0m16a18\u001b[32m\n> check this document. On\n\u001b[0m24a26,29\u001b[32m\n> \n> This paragraph contains\n> important new additions\n> to this document.\n\u001b[0m\n"
    }
   ],
   "source": [
    "from lcs import diff_files\n",
    "\n",
    "original = 'resources/original.txt'\n",
    "new = 'resources/new.txt'\n",
    "\n",
    "diff_files(original, new)"
   ]
  },
  {
   "cell_type": "code",
   "execution_count": null,
   "metadata": {},
   "outputs": [],
   "source": []
  }
 ],
 "metadata": {
  "kernelspec": {
   "display_name": "Python 3",
   "language": "python",
   "name": "python3"
  },
  "language_info": {
   "codemirror_mode": {
    "name": "ipython",
    "version": 3
   },
   "file_extension": ".py",
   "mimetype": "text/x-python",
   "name": "python",
   "nbconvert_exporter": "python",
   "pygments_lexer": "ipython3",
   "version": "3.7.7-final"
  }
 },
 "nbformat": 4,
 "nbformat_minor": 2
}