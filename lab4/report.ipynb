{
 "cells": [
  {
   "cell_type": "markdown",
   "metadata": {},
   "source": [
    "# Edit distance  \n",
    "\n",
    "Please note that the visualization is an animation, so it's necessary \n",
    "to run cells with `import` and `visualize`.\n",
    "\n",
    "- If animatin is too slow, You can customize it by specyfing sleep_for (seconds) parameter"
   ]
  },
  {
   "cell_type": "code",
   "execution_count": 9,
   "metadata": {},
   "outputs": [
    {
     "output_type": "execute_result",
     "data": {
      "text/plain": "array([[0., 1., 2., 3., 4., 5., 6.],\n       [1., 0., 1., 2., 3., 4., 5.],\n       [2., 1., 0., 1., 2., 3., 4.],\n       [3., 2., 1., 1., 2., 3., 3.]])"
     },
     "metadata": {},
     "execution_count": 9
    }
   ],
   "source": [
    "from edit import edit_table, edit_distance, visualize\n",
    "\n",
    "x, y = 'ala', 'alicja'\n",
    "edit_table(x, y)"
   ]
  },
  {
   "cell_type": "code",
   "execution_count": 10,
   "metadata": {},
   "outputs": [
    {
     "output_type": "execute_result",
     "data": {
      "text/plain": "3.0"
     },
     "metadata": {},
     "execution_count": 10
    }
   ],
   "source": [
    "edit_distance(x,y)"
   ]
  },
  {
   "cell_type": "code",
   "execution_count": 15,
   "metadata": {},
   "outputs": [
    {
     "output_type": "stream",
     "name": "stdout",
     "text": "------------------------\nalicja\n      ↑\nalicja\n      ↑\n------------------------\nDONE.. edit distance: 3\n"
    }
   ],
   "source": [
    "visualize(x, y, sleep_for=1.2)"
   ]
  },
  {
   "cell_type": "markdown",
   "metadata": {},
   "source": [
    "## Examples"
   ]
  },
  {
   "cell_type": "code",
   "execution_count": 4,
   "metadata": {},
   "outputs": [
    {
     "name": "stdout",
     "output_type": "stream",
     "text": [
      "------------------------\n",
      "kloc\n",
      "    ↑\n",
      "kloc\n",
      "    ↑\n",
      "------------------------\n",
      "DONE.. edit distance: 2\n"
     ]
    }
   ],
   "source": [
    "x, y = 'los', 'kloc'\n",
    "visualize(x, y)"
   ]
  },
  {
   "cell_type": "code",
   "execution_count": 5,
   "metadata": {},
   "outputs": [
    {
     "name": "stdout",
     "output_type": "stream",
     "text": [
      "------------------------\n",
      "Lodz\n",
      "    ↑\n",
      "Lodz\n",
      "    ↑\n",
      "------------------------\n",
      "DONE.. edit distance: 3\n"
     ]
    }
   ],
   "source": [
    "x, y = 'Łódź', 'Lodz'\n",
    "visualize(x, y)"
   ]
  },
  {
   "cell_type": "code",
   "execution_count": 6,
   "metadata": {},
   "outputs": [
    {
     "name": "stdout",
     "output_type": "stream",
     "text": [
      "------------------------\n",
      "quintessence\n",
      "            ↑\n",
      "quintessence\n",
      "            ↑\n",
      "------------------------\n",
      "DONE.. edit distance: 5\n"
     ]
    }
   ],
   "source": [
    "x, y = 'kwintesencja', 'quintessence'\n",
    "visualize(x, y)"
   ]
  },
  {
   "cell_type": "code",
   "execution_count": 8,
   "metadata": {},
   "outputs": [
    {
     "name": "stdout",
     "output_type": "stream",
     "text": [
      "------------------------\n",
      "ATGAGGCTCTGGCCCCTG\n",
      "                  ↑\n",
      "ATGAGGCTCTGGCCCCTG\n",
      "                  ↑\n",
      "------------------------\n",
      "DONE.. edit distance: 7\n"
     ]
    }
   ],
   "source": [
    "x, y = 'ATGAATCTTACCGCCTCG', 'ATGAGGCTCTGGCCCCTG'\n",
    "visualize(x, y)"
   ]
  },
  {
   "cell_type": "markdown",
   "metadata": {},
   "source": [
    "# Longest common subsequence\n",
    "\n",
    "Example from wikipedia"
   ]
  },
  {
   "cell_type": "code",
   "execution_count": 2,
   "metadata": {},
   "outputs": [
    {
     "output_type": "execute_result",
     "data": {
      "text/plain": "array([[0., 0., 0., 0., 0., 0., 0., 0.],\n       [0., 0., 0., 0., 0., 0., 1., 1.],\n       [0., 1., 1., 1., 1., 1., 1., 1.],\n       [0., 1., 1., 2., 2., 2., 2., 2.],\n       [0., 1., 1., 2., 2., 2., 2., 2.],\n       [0., 1., 1., 2., 3., 3., 3., 3.],\n       [0., 1., 1., 2., 3., 3., 3., 4.],\n       [0., 1., 2., 2., 3., 3., 3., 4.]])"
     },
     "metadata": {},
     "execution_count": 2
    }
   ],
   "source": [
    "from lcs import lcs_table, lcs, diff_line\n",
    "\n",
    "x, y = 'XMJYAUZ', 'MZJAWXU'\n",
    "lcs_table(x, y)"
   ]
  },
  {
   "cell_type": "code",
   "execution_count": 3,
   "metadata": {},
   "outputs": [
    {
     "output_type": "execute_result",
     "data": {
      "text/plain": "'MJAU'"
     },
     "metadata": {},
     "execution_count": 3
    }
   ],
   "source": [
    "lcs(x, y, join = True)"
   ]
  },
  {
   "cell_type": "markdown",
   "metadata": {},
   "source": [
    "#### Line diff\n",
    "\n",
    "This one is just for fun."
   ]
  },
  {
   "cell_type": "code",
   "execution_count": 4,
   "metadata": {},
   "outputs": [
    {
     "output_type": "stream",
     "name": "stdout",
     "text": "<XMJYAUZ\n>MZJAWXU\n XMYAUZJWXUAU\n - ---- +++  \n\n"
    }
   ],
   "source": [
    "print(diff_line(x, y))"
   ]
  },
  {
   "cell_type": "markdown",
   "metadata": {},
   "source": [
    "# diff\n",
    "\n",
    "- Format of my diff corresponds to that described here: https://en.wikipedia.org/wiki/Diff#Usage.\n",
    "- Note that I am using ansi escape codes to get colored output, so if terminal (or whatever reads stdout) does not handle them, output might be messy.\n",
    "\n",
    "Below is simple example"
   ]
  },
  {
   "cell_type": "code",
   "execution_count": 5,
   "metadata": {},
   "outputs": [
    {
     "output_type": "execute_result",
     "data": {
      "text/plain": "['common', 'more_common']"
     },
     "metadata": {},
     "execution_count": 5
    }
   ],
   "source": [
    "x = ['common', 'outdated', 'more_common']\n",
    "y = ['new', 'common', 'more_common', 'more_new']\n",
    "\n",
    "lcs(x, y)"
   ]
  },
  {
   "cell_type": "code",
   "execution_count": 1,
   "metadata": {},
   "outputs": [
    {
     "output_type": "stream",
     "name": "stdout",
     "text": "0a1\u001b[32m\n> new\n\u001b[0m2d3\u001b[31m\n< outdated\n\u001b[0m3a4\u001b[32m\n> more_new\n\u001b[0m\n"
    }
   ],
   "source": [
    "from lcs import diff\n",
    "\n",
    "x = ['common', 'outdated', 'more_common']\n",
    "y = ['new', 'common', 'more_common', 'more_new']\n",
    "\n",
    "print(diff(x, y))"
   ]
  },
  {
   "cell_type": "markdown",
   "metadata": {},
   "source": [
    "### Example from wikipedia\n",
    "https://en.wikipedia.org/wiki/Diff#Usage\n",
    "\n",
    "There is a subtle difference though:\n",
    "- I don't use 'c' as in changed instead I have 'd' (delete) followed by 'a' (append).\n",
    "\n",
    "Program can also be used from command line: \n",
    "- `python lcs.py \"resources/original.txt\" \"resources/new.txt\"`"
   ]
  },
  {
   "cell_type": "code",
   "execution_count": 2,
   "metadata": {},
   "outputs": [
    {
     "output_type": "stream",
     "name": "stdout",
     "text": "0a1,6\u001b[32m\n> This is an important\n> notice! It should\n> therefore be located at\n> the beginning of this\n> document!\n> \n\u001b[0m11,15d17\u001b[31m\n< This paragraph contains\n< text that is outdated.\n< It will be deleted in the\n< near future.\n< \n\u001b[0m17d18\u001b[31m\n< check this dokument. On\n\u001b[0m16a18\u001b[32m\n> check this document. On\n\u001b[0m24a26,29\u001b[32m\n> \n> This paragraph contains\n> important new additions\n> to this document.\n\u001b[0m\nLength of longest common subsequence for resources/original.txt with 478 characters and resources/new.txt with 554 characters is 390\n"
    }
   ],
   "source": [
    "from lcs import diff_files, lcs_length_files\n",
    "\n",
    "original = 'resources/original.txt'\n",
    "new = 'resources/new.txt'\n",
    "\n",
    "diff_files(original, new)\n",
    "lcs_length_files(original, new)"
   ]
  },
  {
   "cell_type": "markdown",
   "metadata": {},
   "source": [
    "## Romeo i Julia\n",
    "\n",
    "To keep things simple I split text into lines before I delete approx 3% of tokens."
   ]
  },
  {
   "cell_type": "code",
   "execution_count": 3,
   "metadata": {},
   "outputs": [],
   "source": [
    "from spacy.tokenizer import Tokenizer\n",
    "from spacy.lang.pl import Polish\n",
    "from numpy.random import rand\n",
    "import spacy\n",
    "\n",
    "filename = 'resources/romeo-i-julia-700.txt'\n",
    "lines = None\n",
    "\n",
    "with open(filename, 'r', encoding = 'UTF-8') as file:\n",
    "    lines = file.read().splitlines()\n",
    "\n",
    "nlp = Polish()\n",
    "tokenizer = Tokenizer(nlp.vocab)"
   ]
  },
  {
   "cell_type": "code",
   "execution_count": 4,
   "metadata": {},
   "outputs": [],
   "source": [
    "def remove_rand_tokens(lines):\n",
    "    text = []\n",
    "    for doc in tokenizer.pipe(lines):\n",
    "        text.append(' '.join([token.text for token in doc if rand() <= .97]))\n",
    "\n",
    "    return text\n",
    "\n",
    "def save_lines(lines, filename):\n",
    "    with open(filename, 'w', encoding = 'UTF-8') as file:\n",
    "        file.write('\\n'.join(lines))"
   ]
  },
  {
   "cell_type": "code",
   "execution_count": 5,
   "metadata": {},
   "outputs": [],
   "source": [
    "lines1 = remove_rand_tokens(lines)\n",
    "file1  = 'resources/f1.txt'\n",
    "save_lines(lines1, file1)\n",
    "\n",
    "lines2 = remove_rand_tokens(lines)\n",
    "file2 = 'resources/f2.txt'\n",
    "save_lines(lines2, file2)"
   ]
  },
  {
   "cell_type": "markdown",
   "metadata": {},
   "source": [
    "### Length of lcs for romeo-700"
   ]
  },
  {
   "cell_type": "code",
   "execution_count": 6,
   "metadata": {},
   "outputs": [
    {
     "output_type": "stream",
     "name": "stdout",
     "text": "Length of longest common subsequence for resources/f1.txt with 12278 characters and resources/f2.txt with 12375 characters is 11972\n"
    }
   ],
   "source": [
    "from lcs import lcs_length_files\n",
    "\n",
    "lcs_length_files(file1, file2)"
   ]
  },
  {
   "cell_type": "markdown",
   "metadata": {},
   "source": [
    "### Diff of romeo-700"
   ]
  },
  {
   "cell_type": "code",
   "execution_count": 7,
   "metadata": {
    "tags": [
     "outputPrepend"
    ]
   },
   "outputs": [
    {
     "output_type": "stream",
     "name": "stdout",
     "text": "14d14\u001b[31m\n<   * STARZEC — brat Kapuleta\n\u001b[0m13a14\u001b[32m\n>   * STARZEC — stryjeczny brat Kapuleta\n\u001b[0m17d17\u001b[31m\n<   * BENWOLIO — synowiec Montekiego\n\u001b[0m16a17\u001b[32m\n>   * BENWOLIO — synowiec\n\u001b[0m21,22d21\u001b[31m\n<   BALTAZAR — służący Romea\n<   * SAMSON, GRZEGORZ — słudzy Kapuleta\n\u001b[0m20a21,22\u001b[32m\n>   * BALTAZAR — służący Romea\n> * SAMSON, GRZEGORZ — słudzy Kapuleta\n\u001b[0m28,29d28\u001b[31m\n<   * DOWÓDCA WARTY\n<   * PANI MONTEKI — małżonka Montekiego\n\u001b[0m27a28,29\u001b[32m\n>   DOWÓDCA WARTY\n>   * MONTEKI — małżonka Montekiego\n\u001b[0m32,33d32\u001b[31m\n<   * MARTA mamka Julii\n<   * Obywatele weroneńscy, różne osoby płci obojej, liczący się do przyjaciół obu domów, maski, straż wojskowa i inne osoby.\n\u001b[0m31a32,33\u001b[32m\n>   * MARTA — mamka Julii\n>   * Obywatele weroneńscy, różne osoby płci obojej, liczący się do obu domów, maski, straż wojskowa i inne osoby.\n\u001b[0m38d38\u001b[31m\n< Rzecz odbywa się przez większą część sztuki w przez część piątego aktu w Mantui.\n\u001b[0m37a38\u001b[32m\n> Rzecz odbywa się przez większą część sztuki w Weronie, przez część aktu w Mantui.\n\u001b[0m47d47\u001b[31m\n< Tam, gdzie się rzecz ta w Weronie,\n\u001b[0m46a47\u001b[32m\n> Tam, gdzie się rzecz ta rozgrywa, w Weronie,\n\u001b[0m49d49\u001b[31m\n< Plamiąc szlachetną krwią szlachetne dłonie\n\u001b[0m48a49\u001b[32m\n> Plamiąc szlachetną krwią szlachetne\n\u001b[0m52,54d52\u001b[31m\n< Pod najstraszliwszą gwiazd, kochanków dwoje;\n< Po pełnym przygód nieszczęśliwych bycie\n< Śmierć ich rodzicielskie boje.\n\u001b[0m51a52,54\u001b[32m\n> Pod najstraszliwszą z gwiazd, kochanków dwoje;\n> Po pełnym przygód nieszczęśliwych\n> Śmierć ich stłumiła rodzicielskie boje.\n\u001b[0m59d59\u001b[31m\n< Dwugodzinnego treścią przedstawienia,\n\u001b[0m58a59\u001b[32m\n> treścią przedstawienia,\n\u001b[0m61d61\u001b[31m\n< Które cierpliwymi względy,\n\u001b[0m60a61\u001b[32m\n> Które otoczcie cierpliwymi względy,\n\u001b[0m83d83\u001b[31m\n< Ma się rozumieć, bobyśmy byli zdziercami.\n\u001b[0m82a83\u001b[32m\n> Ma się rozumieć, bobyśmy zdziercami.\n\u001b[0m93d93\u001b[31m\n< Kto zechce zadrzeć z będzie musiał zadrżeć.\n\u001b[0m92a93\u001b[32m\n> Kto zechce zadrzeć z nami, będzie musiał zadrżeć.\n\u001b[0m95a96\u001b[32m\n> SAMSON\n\u001b[0m96a98\u001b[32m\n> Mam zwyczaj drapać zaraz, jak mię kto rozrucha.\n\u001b[0m98d100\u001b[31m\n< Mam zwyczaj drapać zaraz, mię kto rozrucha.\n\u001b[0m100d101\u001b[31m\n< \n\u001b[0m108d108\u001b[31m\n< Te psy z domu rozruchać mię mogą bardzo łatwo.\n\u001b[0m107a108\u001b[32m\n> Te psy z domu Montekich rozruchać mię mogą bardzo łatwo.\n\u001b[0m113d113\u001b[31m\n< Rozruchać się tyle znaczy co ruszyć się z miejsca; walecznym jest to stać nieporuszenie: pojmuję więc, że skutkiem się twego będzie -\n\u001b[0m112a113\u001b[32m\n> Rozruchać się tyle co ruszyć się z miejsca; być walecznym jest to stać nieporuszenie: pojmuję więc, że skutkiem rozruchania się twego będzie - drapnięcie.\n\u001b[0m118d118\u001b[31m\n< Te psy z domu Montekich rozruchać mię mogą tylko do stania na miejscu. Będę jak mur dla każdego mężczyzny i każdej z tego domu.\n\u001b[0m117a118\u001b[32m\n> Te psy z domu Montekich rozruchać mię mogą tylko do stania na miejscu. Będę jak mur dla każdego mężczyzny i każdej kobiety z tego domu.\n\u001b[0m123d123\u001b[31m\n< To właśnie pokazuje twoją słabą stronę; mur dla nikogo niestraszny tylko słabi go się trzymają.\n\u001b[0m122a123\u001b[32m\n> To właśnie pokazuje twoją słabą stronę; mur dla nikogo niestraszny i tylko słabi się trzymają.\n\u001b[0m133d133\u001b[31m\n< Spór jest tylko między naszymi panami i nami, ich ludźmi.\n\u001b[0m132a133\u001b[32m\n> Spór jest tylko między naszymi panami i między nami, ich ludźmi.\n\u001b[0m138d138\u001b[31m\n< Mniejsza mi o to, będę nieubłagany. Pobiwszy ludzi, wywrę wściekłość na kobietach: rzeź nimi sprawię.\n\u001b[0m137a138\u001b[32m\n> Mniejsza mi o to, będę nieubłagany. Pobiwszy ludzi, wywrę wściekłość na kobietach: rzeź między nimi sprawię.\n\u001b[0m153d153\u001b[31m\n< Tym lepiej, że się liczysz do zwierząt; bo gdybyś się do ryb, to byłbyś pewnie sztokfiszem. Weź no się za instrument, bo oto nadchodzi dwóch domowników Montekiego.\n\u001b[0m152a153\u001b[32m\n> Tym lepiej, że się liczysz do zwierząt; bo gdybyś się liczył do ryb, to byłbyś pewnie sztokfiszem. Weź no się za instrument, bo oto nadchodzi dwóch domowników Montekiego.\n\u001b[0m160d160\u001b[31m\n< Mój giwer już dobyty: zaczep ich, ja z tyłu.\n\u001b[0m159a160\u001b[32m\n> Mój giwer już dobyty: zaczep ich, ja stanę z tyłu.\n\u001b[0m185d185\u001b[31m\n< Marsa im przechodząc; niech go sobie, jak chcą, tłumaczą.\n\u001b[0m184a185\u001b[32m\n> Marsa im nastawię przechodząc; niech go sobie, jak chcą, tłumaczą.\n\u001b[0m188d188\u001b[31m\n< SAMSON\n\u001b[0m189a189\u001b[32m\n> \n\u001b[0m200d200\u001b[31m\n< Nie inaczej, się.\n\u001b[0m199a200\u001b[32m\n> Nie inaczej, skrzywiłem się.\n\u001b[0m210d210\u001b[31m\n< / do /\n\u001b[0m209a210\u001b[32m\n> / do Grzegorza /\n\u001b[0m220d220\u001b[31m\n< SAMSON\n\u001b[0m221a221\u001b[32m\n> \n\u001b[0m239d239\u001b[31m\n< Jeżeli jej szukasz, to jestem na waścine usługi. Mój pan tak dobry jak i wasz.\n\u001b[0m238a239\u001b[32m\n> Jeżeli szukasz, to jestem na waścine usługi. Mój pan tak dobry jak i wasz.\n\u001b[0m246a247\u001b[32m\n> SAMSON\n\u001b[0m247a249\u001b[32m\n> Niech i tak będzie.\n\u001b[0m249,250d251\u001b[31m\n< Niech tak będzie.\n< \n\u001b[0m258d258\u001b[31m\n< Powiedz: lepszy. nadchodzi jeden z krewnych mego pana.\n\u001b[0m257a258\u001b[32m\n> Powiedz: Oto nadchodzi jeden z krewnych mego pana.\n\u001b[0m273d273\u001b[31m\n< Dobądźcie mieczów, jeśli macie serca. Grzegorzu, o swoim pchnięciu.\n\u001b[0m272a273\u001b[32m\n> Dobądźcie jeśli macie serca. Grzegorzu, pamiętaj o swoim pchnięciu.\n\u001b[0m278d278\u001b[31m\n< Odstąpcie, głupcy; schowajcie miecze do Sami nie wiecie, co robicie.\n\u001b[0m277a278\u001b[32m\n> Odstąpcie, głupcy; schowajcie miecze do pochew. Sami nie wiecie, robicie.\n\u001b[0m294d294\u001b[31m\n< Albo wraz ze mną rozdziel nim tych\n\u001b[0m293a294\u001b[32m\n> Albo wraz ze mną rozdziel nim tych ludzi.\n\u001b[0m300d300\u001b[31m\n< Tego wyrazu, tak jak nienawidzę\n\u001b[0m299a300\u001b[32m\n> wyrazu, tak nienawidzę\n\u001b[0m310d310\u001b[31m\n< z Montekimi, precz z Kapuletami!\n\u001b[0m309a310\u001b[32m\n> Precz z Montekimi, precz z Kapuletami!\n\u001b[0m312d312\u001b[31m\n< / Wchodzą Kapulet Pani Kapulet /\n\u001b[0m311a312\u001b[32m\n> / Wchodzą Kapulet i Pani Kapulet /\n\u001b[0m317,318d317\u001b[31m\n< Co za hałas? Podajcie mi długi\n< Mój miecz!\n\u001b[0m316a317,318\u001b[32m\n> Co za hałas? Podajcie mi\n> Mój miecz! hej!\n\u001b[0m340d340\u001b[31m\n<                          Puść mnie,\n\u001b[0m339a340\u001b[32m\n>                          Puść mnie, pani.\n\u001b[0m345d345\u001b[31m\n< Nie puszczę cię na krok, gdy przed tobą.\n\u001b[0m344a345\u001b[32m\n> Nie puszczę cię na krok, gdy wróg przed tobą.\n\u001b[0m352d352\u001b[31m\n< Zapamiętali niesforni\n\u001b[0m351a352\u001b[32m\n> Zapamiętali niesforni poddani,\n\u001b[0m364d364\u001b[31m\n< Tak że wiekiem i zasługą\n\u001b[0m363a364\u001b[32m\n> Tak poważni i zasługą\n\u001b[0m368d368\u001b[31m\n< zardzewiałym ostrzem zardzewiałe\n\u001b[0m367a368\u001b[32m\n> By zardzewiałym ostrzem zardzewiałe\n\u001b[0m375d375\u001b[31m\n< Na ratusz, gdzie ci w tym względzie\n\u001b[0m374a375\u001b[32m\n> Na ratusz, gdzie ci dokładnie w tym względzie\n\u001b[0m385d385\u001b[31m\n< Kto wszczął tę nową zwadę? Mów, synowcze,\n\u001b[0m384a385\u001b[32m\n> Kto wszczął nową zwadę? Mów, synowcze,\n\u001b[0m389d389\u001b[31m\n< BENWOLIO\n\u001b[0m390a390\u001b[32m\n> \n\u001b[0m392d392\u001b[31m\n< wasi już się bili, kiedym nadszedł;\n\u001b[0m391a392\u001b[32m\n> I wasi już się bili, kiedym nadszedł;\n\u001b[0m399,400d399\u001b[31m\n< Cięcia pchnięcia zamieniali, zbiegł się\n< Większy tłum z obu stron walczono,\n\u001b[0m398a399,400\u001b[32m\n> Cięcia i pchnięcia zamieniali, zbiegł się\n> Większy tłum ludzi; z obu stron walczono,\n\u001b[0m412,413d412\u001b[31m\n< Godziną pierwej, wspaniałe słońce\n< W złotych się oknach wschodu ukazało,\n\u001b[0m411a412,413\u001b[32m\n> Godziną pierwej, nim wspaniałe słońce\n> złotych się oknach wschodu ukazało,\n\u001b[0m415d415\u001b[31m\n< W sykomorowy ów gaj, co się ciągnie\n\u001b[0m414a415\u001b[32m\n> W sykomorowy ów gaj, co się\n\u001b[0m417d417\u001b[31m\n< Tam, już tak rano, syn wasz się przechadzał.\n\u001b[0m416a417\u001b[32m\n> już tak rano, syn wasz się przechadzał.\n\u001b[0m419,420d419\u001b[31m\n< Lecz on, spostrzegłszy skrył się natychmiast\n< I w najciemniejszej ukrył gęstwinie.\n\u001b[0m418a419,420\u001b[32m\n> Lecz spostrzegłszy mię, skrył się natychmiast\n> I w najciemniejszej ukrył się gęstwinie.\n\u001b[0m436d436\u001b[31m\n< Zaczęło ściągać cienistą kotarę,\n\u001b[0m435a436\u001b[32m\n> Zaczęło cienistą kotarę,\n\u001b[0m438,439d438\u001b[31m\n< Co tchu zamykał się swoim pokoju;\n< Zasłaniał przed jasnym dnia blaskiem\n\u001b[0m437a438,439\u001b[32m\n> tchu zamykał się w swoim pokoju;\n> Zasłaniał okna przed jasnym dnia blaskiem\n\u001b[0m442d442\u001b[31m\n< Jeśli na to lekarstwo nie znajdzie.\n\u001b[0m441a442\u001b[32m\n> Jeśli się na to lekarstwo nie znajdzie.\n\u001b[0m447d447\u001b[31m\n< Szanowny stryju, znasz–że powód tego?\n\u001b[0m446a447\u001b[32m\n> Szanowny stryju, znasz–że tego?\n\u001b[0m457d457\u001b[31m\n< Wybadywał żeś go jakim sposobem?\n\u001b[0m456a457\u001b[32m\n> Wybadywał go jakim sposobem?\n\u001b[0m463d463\u001b[31m\n< Lecz on powiernik swych smutków.\n\u001b[0m462a463\u001b[32m\n> Lecz jedyny powiernik swych smutków.\n\u001b[0m468d468\u001b[31m\n< I swoją rozwinął przed słońcem.\n\u001b[0m467a468\u001b[32m\n> I pełność swoją rozwinął przed słońcem.\n\u001b[0m478d478\u001b[31m\n< Wyrwę mu z piersi cierpienia tajone.\n\u001b[0m477a478\u001b[32m\n> Wyrwę mu piersi cierpienia tajone.\n\u001b[0m483d483\u001b[31m\n< Obyś w tej sprawie, co serce rani,\n\u001b[0m482a483\u001b[32m\n> Obyś w tej co nam serce rani,\n\u001b[0m491d491\u001b[31m\n< Dzień dobry, bracie.\n\u001b[0m490a491\u001b[32m\n> Dzień dobry,\n\u001b[0m518d518\u001b[31m\n< Nieposiadanie tego, co je skraca.\n\u001b[0m517a518\u001b[32m\n> tego, co je skraca.\n\u001b[0m538d538\u001b[31m\n< Brak jej tam, skąd bym pragnął wzajemności.\n\u001b[0m537a538\u001b[32m\n> Brak jej tam, skąd pragnął wzajemności.\n\u001b[0m549,551d549\u001b[31m\n< Niestety! Czemuż, zasłoną na skroni,\n< Miłość oślep zawsze cel swój goni!\n< Gdzież dziś jeść będziem? Ach! tu podobno\n\u001b[0m548a549,551\u001b[32m\n> Niestety! Czemuż, z zasłoną na skroni,\n> Miłość na oślep zawsze cel swój goni!\n> Gdzież dziś jeść będziem? Ach! Był tu podobno\n\u001b[0m556d556\u001b[31m\n< Coś narodzone niczego! Pieszczoto\n\u001b[0m555a556\u001b[32m\n> Coś narodzone z niczego! Pieszczoto\n\u001b[0m558d558\u001b[31m\n< Szpetny chaosie wdzięków! Ciężki puchu!\n\u001b[0m557a558\u001b[32m\n> Szpetny wdzięków! Ciężki puchu!\n\u001b[0m585d585\u001b[31m\n< mi już ciężył mój smutek, ty jego\n\u001b[0m584a585\u001b[32m\n> Dość mi już ciężył mój smutek, ty jego\n\u001b[0m589,590d589\u001b[31m\n< mego serca. Miłość, przyjacielu,\n< To dym, co z parą westchnień się unosi;\n\u001b[0m588a589,590\u001b[32m\n> Dla mego serca. Miłość, przyjacielu,\n> dym, co z parą westchnień się unosi;\n\u001b[0m593d593\u001b[31m\n< Czymże jest więcej? Istnym amalgamem,\n\u001b[0m592a593\u001b[32m\n> Czymże jest więcej? Istnym\n\u001b[0m614d614\u001b[31m\n< Kogóż to kochasz? mów!\n\u001b[0m613a614\u001b[32m\n> Kogóż kochasz? mów!\n\u001b[0m619,620d619\u001b[31m\n<                          Przestań dręczyć.\n< wraz jęczyć i mówić?\n\u001b[0m618a619,620\u001b[32m\n>                          Przestań mię dręczyć.\n> Mam–że wraz jęczyć i mówić?\n\u001b[0m623d623\u001b[31m\n< BENWOLIO\n\u001b[0m624a624\u001b[32m\n> \n\u001b[0m626,627d626\u001b[31m\n< Tylko mi klucz dać do tego problemu,\n< Kogóż kochasz? Powiedz.\n\u001b[0m625a626,627\u001b[32m\n> Tylko mi klucz dać do tego\n> Kogóż to kochasz? Powiedz.\n\u001b[0m632d632\u001b[31m\n< Każ choremu\n\u001b[0m631a632\u001b[32m\n>                          Każ choremu\n\u001b[0m634,635d634\u001b[31m\n< Dobre dla tego, kto jest w tak złym stanie?\n< więc, kobietę kocham.\n\u001b[0m633a634,635\u001b[32m\n> Dobre dla tego, kto jest w złym stanie?\n> A więc, kobietę kocham.\n\u001b[0m646d646\u001b[31m\n< Biegle celujesz. I ta, którą kocham,\n\u001b[0m645a646\u001b[32m\n> Biegle celujesz. I ta, kocham,\n\u001b[0m652d652\u001b[31m\n<                          W piękny cel trafić najłatwiej.\n\u001b[0m651a652\u001b[32m\n>                          W piękny trafić najłatwiej.\n\u001b[0m658d658\u001b[31m\n< Kupida; ona ma naturę Diany;\n\u001b[0m657a658\u001b[32m\n> ona ma naturę Diany;\n\u001b[0m660,661d660\u001b[31m\n< Grotów miłości wcale się nie\n< z nawału zaklęć oblężniczych;\n\u001b[0m659a660,661\u001b[32m\n> Grotów miłości wcale się nie boi;\n> Szydzi z nawału zaklęć oblężniczych;\n\u001b[0m663d663\u001b[31m\n< Nawet złota wszechwładztwo nie zjedna.\n\u001b[0m662a663\u001b[32m\n> Nawet jej złota wszechwładztwo nie zjedna.\n\u001b[0m676,677d676\u001b[31m\n< Tak jest; i skąpstwo to jest marnotrawstwem,\n< Bo piękność, własna srogość strawia,\n\u001b[0m675a676,677\u001b[32m\n> Tak jest; skąpstwo to jest marnotrawstwem,\n> Bo piękność, którą własna srogość strawia,\n\u001b[0m680,681d680\u001b[31m\n< Zbyt mądrze piękna: stąd jest głazem.\n< Przysięgła nigdy nie kochać i dzięki\n\u001b[0m679a680,681\u001b[32m\n> Zbyt mądrze piękna: stąd istnym jest głazem.\n> nigdy nie kochać i dzięki\n\u001b[0m\n"
    }
   ],
   "source": [
    "diff_files(file1, file2)"
   ]
  },
  {
   "cell_type": "code",
   "execution_count": null,
   "metadata": {},
   "outputs": [],
   "source": []
  }
 ],
 "metadata": {
  "kernelspec": {
   "display_name": "Python 3",
   "language": "python",
   "name": "python3"
  },
  "language_info": {
   "codemirror_mode": {
    "name": "ipython",
    "version": 3
   },
   "file_extension": ".py",
   "mimetype": "text/x-python",
   "name": "python",
   "nbconvert_exporter": "python",
   "pygments_lexer": "ipython3",
   "version": "3.7.7-final"
  }
 },
 "nbformat": 4,
 "nbformat_minor": 2
}