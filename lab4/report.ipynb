{
 "cells": [
  {
   "cell_type": "markdown",
   "metadata": {},
   "source": [
    "# Edit distance  \n",
    "\n",
    "Please note that the visualization is an animation, so it's necessary \n",
    "to run cells with `import` and `visualize`."
   ]
  },
  {
   "cell_type": "code",
   "execution_count": 1,
   "metadata": {},
   "outputs": [
    {
     "output_type": "execute_result",
     "data": {
      "text/plain": "array([[0., 1., 2., 3., 4., 5., 6.],\n       [1., 0., 1., 2., 3., 4., 5.],\n       [2., 1., 0., 1., 2., 3., 4.],\n       [3., 2., 1., 1., 2., 3., 3.]])"
     },
     "metadata": {},
     "execution_count": 1
    }
   ],
   "source": [
    "from edit import edit_table, edit_distance, visualize\n",
    "\n",
    "x, y = 'ala', 'alicja'\n",
    "edit_table(x, y)"
   ]
  },
  {
   "cell_type": "code",
   "execution_count": 2,
   "metadata": {},
   "outputs": [
    {
     "output_type": "execute_result",
     "data": {
      "text/plain": "3.0"
     },
     "metadata": {},
     "execution_count": 2
    }
   ],
   "source": [
    "edit_distance(x,y)"
   ]
  },
  {
   "cell_type": "code",
   "execution_count": 3,
   "metadata": {},
   "outputs": [
    {
     "output_type": "stream",
     "name": "stdout",
     "text": "------------------------\nalicja\n      ↑\nalicja\n      ↑\n------------------------\nDONE.. edit distance: 3\n"
    }
   ],
   "source": [
    "visualize(x, y, sleep_for=1.2)"
   ]
  },
  {
   "cell_type": "markdown",
   "metadata": {},
   "source": [
    "## Examples"
   ]
  },
  {
   "cell_type": "code",
   "execution_count": 4,
   "metadata": {},
   "outputs": [
    {
     "name": "stdout",
     "output_type": "stream",
     "text": [
      "------------------------\n",
      "kloc\n",
      "    ↑\n",
      "kloc\n",
      "    ↑\n",
      "------------------------\n",
      "DONE.. edit distance: 2\n"
     ]
    }
   ],
   "source": [
    "x, y = 'los', 'kloc'\n",
    "visualize(x, y)"
   ]
  },
  {
   "cell_type": "code",
   "execution_count": 5,
   "metadata": {},
   "outputs": [
    {
     "name": "stdout",
     "output_type": "stream",
     "text": [
      "------------------------\n",
      "Lodz\n",
      "    ↑\n",
      "Lodz\n",
      "    ↑\n",
      "------------------------\n",
      "DONE.. edit distance: 3\n"
     ]
    }
   ],
   "source": [
    "x, y = 'Łódź', 'Lodz'\n",
    "visualize(x, y)"
   ]
  },
  {
   "cell_type": "code",
   "execution_count": 6,
   "metadata": {},
   "outputs": [
    {
     "name": "stdout",
     "output_type": "stream",
     "text": [
      "------------------------\n",
      "quintessence\n",
      "            ↑\n",
      "quintessence\n",
      "            ↑\n",
      "------------------------\n",
      "DONE.. edit distance: 5\n"
     ]
    }
   ],
   "source": [
    "x, y = 'kwintesencja', 'quintessence'\n",
    "visualize(x, y)"
   ]
  },
  {
   "cell_type": "code",
   "execution_count": 8,
   "metadata": {},
   "outputs": [
    {
     "name": "stdout",
     "output_type": "stream",
     "text": [
      "------------------------\n",
      "ATGAGGCTCTGGCCCCTG\n",
      "                  ↑\n",
      "ATGAGGCTCTGGCCCCTG\n",
      "                  ↑\n",
      "------------------------\n",
      "DONE.. edit distance: 7\n"
     ]
    }
   ],
   "source": [
    "x, y = 'ATGAATCTTACCGCCTCG', 'ATGAGGCTCTGGCCCCTG'\n",
    "visualize(x, y)"
   ]
  },
  {
   "cell_type": "markdown",
   "metadata": {},
   "source": [
    "# Longest common subsequence\n",
    "\n",
    "Example from wikipedia"
   ]
  },
  {
   "cell_type": "code",
   "execution_count": 2,
   "metadata": {},
   "outputs": [
    {
     "output_type": "execute_result",
     "data": {
      "text/plain": "array([[0., 0., 0., 0., 0., 0., 0., 0.],\n       [0., 0., 0., 0., 0., 0., 1., 1.],\n       [0., 1., 1., 1., 1., 1., 1., 1.],\n       [0., 1., 1., 2., 2., 2., 2., 2.],\n       [0., 1., 1., 2., 2., 2., 2., 2.],\n       [0., 1., 1., 2., 3., 3., 3., 3.],\n       [0., 1., 1., 2., 3., 3., 3., 4.],\n       [0., 1., 2., 2., 3., 3., 3., 4.]])"
     },
     "metadata": {},
     "execution_count": 2
    }
   ],
   "source": [
    "from lcs import lcs_table, lcs, diff_line\n",
    "\n",
    "x, y = 'XMJYAUZ', 'MZJAWXU'\n",
    "lcs_table(x, y)"
   ]
  },
  {
   "cell_type": "code",
   "execution_count": 3,
   "metadata": {},
   "outputs": [
    {
     "output_type": "execute_result",
     "data": {
      "text/plain": "'MJAU'"
     },
     "metadata": {},
     "execution_count": 3
    }
   ],
   "source": [
    "lcs(x, y, join = True)"
   ]
  },
  {
   "cell_type": "markdown",
   "metadata": {},
   "source": [
    "#### Line diff\n",
    "\n",
    "This one is just for fun."
   ]
  },
  {
   "cell_type": "code",
   "execution_count": 4,
   "metadata": {},
   "outputs": [
    {
     "output_type": "stream",
     "name": "stdout",
     "text": "<XMJYAUZ\n>MZJAWXU\n XMYAUZJWXUAU\n - ---- +++  \n\n"
    }
   ],
   "source": [
    "print(diff_line(x, y))"
   ]
  },
  {
   "cell_type": "markdown",
   "metadata": {},
   "source": [
    "# diff\n",
    "\n",
    "- Format of my diff corresponds to that described here: https://en.wikipedia.org/wiki/Diff#Usage.\n",
    "- Note that I am using ansi escape codes to get colored output, so if terminal (or whatever reads stdout) does not handle them, output might be messy.\n",
    "\n",
    "Below is simple example"
   ]
  },
  {
   "cell_type": "code",
   "execution_count": 5,
   "metadata": {},
   "outputs": [
    {
     "output_type": "execute_result",
     "data": {
      "text/plain": "['common', 'more_common']"
     },
     "metadata": {},
     "execution_count": 5
    }
   ],
   "source": [
    "x = ['common', 'outdated', 'more_common']\n",
    "y = ['new', 'common', 'more_common', 'more_new']\n",
    "\n",
    "lcs(x, y)"
   ]
  },
  {
   "cell_type": "code",
   "execution_count": 1,
   "metadata": {},
   "outputs": [
    {
     "output_type": "stream",
     "name": "stdout",
     "text": "0a1\u001b[32m\n> new\n\u001b[0m2d3\u001b[31m\n< outdated\n\u001b[0m3a4\u001b[32m\n> more_new\n\u001b[0m\n"
    }
   ],
   "source": [
    "from lcs import diff\n",
    "\n",
    "x = ['common', 'outdated', 'more_common']\n",
    "y = ['new', 'common', 'more_common', 'more_new']\n",
    "\n",
    "print(diff(x, y))"
   ]
  },
  {
   "cell_type": "markdown",
   "metadata": {},
   "source": [
    "### Example from wikipedia\n",
    "https://en.wikipedia.org/wiki/Diff#Usage\n",
    "\n",
    "There is a subtle difference:\n",
    "- I don't use 'c' as in changed instead I have 'd' (delete) followed by 'a' (append).\n",
    "\n",
    "Program can also be used from command line: \n",
    "- `python lcs.py \"resources/original.txt\" \"resources/new.txt\"`"
   ]
  },
  {
   "cell_type": "code",
   "execution_count": 1,
   "metadata": {},
   "outputs": [
    {
     "output_type": "stream",
     "name": "stdout",
     "text": "0a1,6\u001b[32m\n> This is an important\n> notice! It should\n> therefore be located at\n> the beginning of this\n> document!\n> \n\u001b[0m11,15d17\u001b[31m\n< This paragraph contains\n< text that is outdated.\n< It will be deleted in the\n< near future.\n< \n\u001b[0m17d18\u001b[31m\n< check this dokument. On\n\u001b[0m16a18\u001b[32m\n> check this document. On\n\u001b[0m24a26,29\u001b[32m\n> \n> This paragraph contains\n> important new additions\n> to this document.\n\u001b[0m\n"
    }
   ],
   "source": [
    "from lcs import diff_files\n",
    "\n",
    "original = 'resources/original.txt'\n",
    "new = 'resources/new.txt'\n",
    "\n",
    "diff_files(original, new)"
   ]
  },
  {
   "cell_type": "markdown",
   "metadata": {},
   "source": [
    "## Romeo i Julia\n",
    "\n",
    "To keep things simple I split text into lines before I delete approx 3% of tokens."
   ]
  },
  {
   "cell_type": "code",
   "execution_count": 2,
   "metadata": {},
   "outputs": [],
   "source": [
    "from spacy.tokenizer import Tokenizer\n",
    "from spacy.lang.pl import Polish\n",
    "from numpy.random import rand\n",
    "import spacy\n",
    "\n",
    "filename = 'resources/romeo-i-julia.txt'\n",
    "lines = None\n",
    "\n",
    "with open(filename, 'r', encoding = 'UTF-8') as file:\n",
    "    lines = file.read().splitlines()\n",
    "\n",
    "nlp = Polish()\n",
    "tokenizer = Tokenizer(nlp.vocab)"
   ]
  },
  {
   "cell_type": "code",
   "execution_count": 3,
   "metadata": {},
   "outputs": [],
   "source": [
    "def remove_rand_tokens(lines):\n",
    "    text = []\n",
    "    for doc in tokenizer.pipe(lines):\n",
    "        text.append(' '.join([token.text for token in doc if rand() <= .97]))\n",
    "\n",
    "    return text\n",
    "\n",
    "def save_lines(lines, filename):\n",
    "    with open(filename, 'w', encoding = 'UTF-8') as file:\n",
    "        file.write('\\n'.join(lines))"
   ]
  },
  {
   "cell_type": "code",
   "execution_count": 4,
   "metadata": {},
   "outputs": [],
   "source": [
    "lines1 = remove_rand_tokens(lines)\n",
    "file1  = 'resources/f1.txt'\n",
    "save_lines(lines1, file1)\n",
    "\n",
    "lines2 = remove_rand_tokens(lines)\n",
    "file2 = 'resources/f2.txt'\n",
    "save_lines(lines2, file2)"
   ]
  },
  {
   "cell_type": "code",
   "execution_count": 5,
   "metadata": {
    "tags": [
     "outputPrepend"
    ]
   },
   "outputs": [
    {
     "output_type": "stream",
     "name": "stdout",
     "text": "podobno schować dudy w miech i wynieść się za drzwi.\n\u001b[0m6062a6063\u001b[32m\n> Trzeba podobno schować dudy w miech i wynieść się za drzwi.\n\u001b[0m6069d6069\u001b[31m\n< Poczciwi ludzie, nie ma tu co robić.\n\u001b[0m6068a6069\u001b[32m\n> Poczciwi ludzie, nie ma tu robić.\n\u001b[0m6076d6076\u001b[31m\n< / Wchodzi Piotr. /\n\u001b[0m6075a6076\u001b[32m\n> / Piotr. /\n\u001b[0m6081d6081\u001b[31m\n< Zagrajcie mi na basetli, panowie zagrajcie mi na basetli, jeżeli mi dobrze życzycie.\n\u001b[0m6080a6081\u001b[32m\n> Zagrajcie mi na basetli, panowie muzykanci, zagrajcie mi na basetli, jeżeli mi dobrze życzycie.\n\u001b[0m6136d6136\u001b[31m\n< Schowaj, waćpan, swój rożen, a wydobądź lepiej swój dowcip.\n\u001b[0m6135a6136\u001b[32m\n> Schowaj, waćpan, swój rożen, a wydobądź swój dowcip.\n\u001b[0m6141d6141\u001b[31m\n< Strzeżcie się ostrza mego dowcipu, bo was przeszyje na wylot. Baczność!\n\u001b[0m6140a6141\u001b[32m\n> Strzeżcie się ostrza mego dowcipu, was przeszyje na wylot. Baczność!\n\u001b[0m6143d6143\u001b[31m\n< śpiewa /\n\u001b[0m6142a6143\u001b[32m\n> / śpiewa /\n\u001b[0m6150d6150\u001b[31m\n< Dlaczego srebrny dźwięk? Dlaczego muzyki srebrny dźwięk? Cóż waść to, mości Barania Kiszko?\n\u001b[0m6149a6150\u001b[32m\n> Dlaczego srebrny dźwięk? Dlaczego muzyki srebrny dźwięk? Cóż waść na to, mości Barania Kiszko?\n\u001b[0m6155d6155\u001b[31m\n< Już–ci dlatego, że srebro ma dźwięk miły.\n\u001b[0m6154a6155\u001b[32m\n> Już–ci dlatego, że srebro ma miły.\n\u001b[0m6170d6170\u001b[31m\n< Pleciesz także! A waść co tym sądzisz, mości Kaleczyuchu?\n\u001b[0m6169a6170\u001b[32m\n> Pleciesz także! A waść co o tym sądzisz, mości Kaleczyuchu?\n\u001b[0m6173d6173\u001b[31m\n< TRZECI MUZYKANT\n\u001b[0m6172a6173\u001b[32m\n> TRZECI\n\u001b[0m6180d6180\u001b[31m\n< O, przepraszam, zapomniałem, że jesteś śpiewakiem. No, to ja powiem za „Muzyki srebrny dźwięk” mówi się dlatego, że muzykanci rzadko kiedy złoto za muzykę dostają.\n\u001b[0m6179a6180\u001b[32m\n> O, przepraszam, zapomniałem, że jesteś śpiewakiem. No, to ja powiem za ciebie: „Muzyki srebrny dźwięk” mówi się że muzykanci rzadko kiedy złoto za muzykę dostają.\n\u001b[0m6195d6195\u001b[31m\n< Pal go kaci! Zejdźmy tam na dół wmieszać się między orszak żałobny i czekać, rychło co spadnie z półmiska.\n\u001b[0m6194a6195\u001b[32m\n> Pal go kaci! Zejdźmy tam na dół wmieszać się między orszak żałobny i czekać, rychło co z półmiska.\n\u001b[0m6202d6202\u001b[31m\n< AKT\n\u001b[0m6201a6202\u001b[32m\n> AKT PIĄTY\n\u001b[0m6216,6217d6216\u001b[31m\n< I duch mój przez dzień cały niezwyczajnie\n< Lekkim ziemię wznosi się polotem:\n\u001b[0m6215a6216,6217\u001b[32m\n> I duch mój przez cały niezwyczajnie\n> Lekkim nad ziemię wznosi się polotem:\n\u001b[0m6230,6231d6230\u001b[31m\n< Czy przynosisz list od Laurentego?\n< Co robi Julia? Czy zdrów jest mój ojciec?\n\u001b[0m6229a6230,6231\u001b[32m\n> Czy mi przynosisz list od Laurentego?\n> Co Julia? Czy zdrów jest mój ojciec?\n\u001b[0m6238d6238\u001b[31m\n< Wszystko więc dobrze, już źle nie jest;\n\u001b[0m6237a6238\u001b[32m\n> Wszystko więc dobrze, bo jej już źle nie\n\u001b[0m6244d6244\u001b[31m\n< Złą wieść przynoszę; wszakże uwiadomić\n\u001b[0m6243a6244\u001b[32m\n> wieść przynoszę; wszakże uwiadomić\n\u001b[0m6248d6248\u001b[31m\n< ROMEO\n\u001b[0m6250,6252d6249\u001b[31m\n< Maż to być prawdą? sobie z was, gwiazdy!\n< wiesz, gdzie mieszkam? Przynieś mi papieru\n< I atramentu, idź potem na pocztę\n\u001b[0m6249a6249,6252\u001b[32m\n> \n> Maż to być prawdą? Drwię sobie z was, gwiazdy!\n> Wszak wiesz, gdzie mieszkam? Przynieś mi papieru\n> I atramentu, idź potem pocztę\n\u001b[0m6285d6285\u001b[31m\n< Zły zamiar wnika w myśl zrozpaczonego!\n\u001b[0m6284a6285\u001b[32m\n> Zły zamiar wnika w zrozpaczonego!\n\u001b[0m6294,6295d6294\u001b[31m\n< Leżała tu i ówdzie zbieranina\n< flasz, słojów, zielonych czerepów,\n\u001b[0m6293a6294,6295\u001b[32m\n> Leżała tu i zbieranina\n> Próżnych flasz, słojów, zielonych czerepów,\n\u001b[0m6302d6302\u001b[31m\n< On by dostarczył mu jej. Myśl ta była,\n\u001b[0m6301a6302\u001b[32m\n> On by mu jej. Myśl ta była,\n\u001b[0m6306,6307d6306\u001b[31m\n< Jeżeli się nie mylę, tu on mieszka;\n< powodu święta kram jego zamknięty —\n\u001b[0m6305a6306,6307\u001b[32m\n> Jeżeli się nie mylę, tu mieszka;\n> Z powodu święta kram jego zamknięty\n\u001b[0m6315,6316d6315\u001b[31m\n<                          Któż to woła takim\n< głosem?\n\u001b[0m6314a6315,6316\u001b[32m\n>                          Któż to takim\n> Donośnym głosem?\n\u001b[0m6323,6324d6323\u001b[31m\n< Weź te dukatów, a daj mi\n< Drachmę trucizny takiej, co by mogła\n\u001b[0m6322a6323,6324\u001b[32m\n> Weź te czterdzieści dukatów, a daj mi\n> Drachmę takiej, co by mogła\n\u001b[0m6330d6330\u001b[31m\n< Z czeluści działa.\n\u001b[0m6329a6330\u001b[32m\n> czeluści działa.\n\u001b[0m6337d6337\u001b[31m\n< Każdego, co się waży go udzielić.\n\u001b[0m6336a6337\u001b[32m\n> Każdego, co się go udzielić.\n\u001b[0m6342d6342\u001b[31m\n< Tak bardzo jesteś biedny, tak cię srodze\n\u001b[0m6341a6342\u001b[32m\n> Tak bardzo jesteś biedny, tak cię\n\u001b[0m6345d6345\u001b[31m\n< Łatana nędza wisi na twym grzbiecie;\n\u001b[0m6344a6345\u001b[32m\n> Łatana nędza wisi na twym\n\u001b[0m6378d6378\u001b[31m\n< U grobu Julii, bo tam cię mam użyć.\n\u001b[0m6377a6378\u001b[32m\n> U grobu Julii, bo tam cię mam\n\u001b[0m6380d6380\u001b[31m\n< Rozchodzą się. /\n\u001b[0m6379a6380\u001b[32m\n> / Rozchodzą się. /\n\u001b[0m6389d6389\u001b[31m\n< JAN\n\u001b[0m6388a6389\u001b[32m\n> BRAT JAN\n\u001b[0m6391d6391\u001b[31m\n< / za sceną /\n\u001b[0m6390a6391\u001b[32m\n> / za sceną\n\u001b[0m6400d6400\u001b[31m\n< / otwiera drzwi /\n\u001b[0m6399a6400\u001b[32m\n> / drzwi /\n\u001b[0m6403d6403\u001b[31m\n< Ustną odpowiedź jego czy na piśmie?\n\u001b[0m6402a6403\u001b[32m\n> Ustną odpowiedź jego czy na\n\u001b[0m6405d6405\u001b[31m\n< / Wchodzi Jan. /\n\u001b[0m6404a6405\u001b[32m\n> / Wchodzi Brat Jan. /\n\u001b[0m6411d6411\u001b[31m\n< Naszej reguły, który miał iść ze mną\n\u001b[0m6410a6411\u001b[32m\n> Naszej reguły, który miał ze mną\n\u001b[0m6416d6416\u001b[31m\n< Drzwi i nie nas puścić na zewnątrz.\n\u001b[0m6415a6416\u001b[32m\n> Drzwi i nie chcieli nas puścić na zewnątrz.\n\u001b[0m6429d6429\u001b[31m\n< Wam go odesłać, tak nas pilnowano.\n\u001b[0m6428a6429\u001b[32m\n> Wam go odesłać, nas pilnowano.\n\u001b[0m6435,6436d6435\u001b[31m\n< Niedoręczenie go może fatalne\n< Skutki Biegnij, bracie Janie;\n\u001b[0m6434a6435,6436\u001b[32m\n> go może fatalne\n> Skutki sprowadzić. Biegnij, bracie Janie;\n\u001b[0m6441d6441\u001b[31m\n< BRAT JAN\n\u001b[0m6440a6441\u001b[32m\n> JAN\n\u001b[0m6450d6450\u001b[31m\n< Gniewać się na mnie będzie, żem\n\u001b[0m6449a6450\u001b[32m\n> Gniewać się na mnie będzie, żem Romea\n\u001b[0m6452,6453d6452\u001b[31m\n< Ale napiszę do niego raz jeszcze\n< I tu ją skryję do jego\n\u001b[0m6451a6452,6453\u001b[32m\n> Ale napiszę do raz jeszcze\n> I tu ją skryję do jego przybycia.\n\u001b[0m6456d6456\u001b[31m\n< / wychodzi /\n\u001b[0m6455a6456\u001b[32m\n> / wychodzi\n\u001b[0m6462d6462\u001b[31m\n< / Cmentarz, na nim grobowiec rodziny Kapuletów. Wchodzi Parys z Paziem, niosącym kwiaty pochodnię. /\n\u001b[0m6461a6462\u001b[32m\n> / Cmentarz, na nim grobowiec rodziny Kapuletów. Wchodzi Parys z Paziem, niosącym kwiaty i pochodnię. /\n\u001b[0m6464a6465\u001b[32m\n> PARYS\n\u001b[0m6466d6467\u001b[31m\n< \n\u001b[0m6468d6468\u001b[31m\n< Lub zgaś ją, nie chcę, żeby mię widziano.\n\u001b[0m6467a6468\u001b[32m\n> Lub zgaś ją, nie chcę, widziano.\n\u001b[0m6471d6471\u001b[31m\n< Usłyszysz czyje kroki na cmentarzu,\n\u001b[0m6470a6471\u001b[32m\n> Usłyszysz czyje kroki cmentarzu,\n\u001b[0m6476a6477\u001b[32m\n> PAŹ\n\u001b[0m6478d6479\u001b[31m\n< \n\u001b[0m6480d6480\u001b[31m\n< Wpośród cmentarza; spróbuję.\n\u001b[0m6479a6480\u001b[32m\n> Wpośród cmentarza; jednakże spróbuję.\n\u001b[0m6482d6482\u001b[31m\n< / oddala się /\n\u001b[0m6481a6482\u001b[32m\n> oddala się /\n\u001b[0m6488d6488\u001b[31m\n< Twe oblubieńcze Baldachimem\n\u001b[0m6487a6488\u001b[32m\n> Twe oblubieńcze łoże. Baldachimem\n\u001b[0m6492,6493d6492\u001b[31m\n< I tak co nocy na twoją\n< będę sypał i gorzkie łzy ronił.\n\u001b[0m6491a6492,6493\u001b[32m\n> I tak co nocy na twoją mogiłę\n> Kwiat będę sypał i gorzkie łzy ronił.\n\u001b[0m6495d6495\u001b[31m\n< / Paź gwiżdże.\n\u001b[0m6494a6495\u001b[32m\n> / Paź gwiżdże. /\n\u001b[0m6502d6502\u001b[31m\n< / się. Wchodzi Romeo i Baltazar z pochodnią, oskardem itp. /\n\u001b[0m6501a6502\u001b[32m\n> / Oddala się. Wchodzi Romeo i Baltazar z pochodnią, oskardem itp. /\n\u001b[0m6509d6509\u001b[31m\n< Daj no Co bądź tu usłyszysz\n\u001b[0m6508a6509\u001b[32m\n> Daj no pochodnię. Co bądź tu usłyszysz\n\u001b[0m6511d6511\u001b[31m\n< Miłe ci życie, pozostać z daleka\n\u001b[0m6510a6511\u001b[32m\n> Miłe ci życie, z daleka\n\u001b[0m6513d6513\u001b[31m\n< W to śmierci wejść chcę częścią po to,\n\u001b[0m6512a6513\u001b[32m\n> W to łoże śmierci wejść chcę częścią po to,\n\u001b[0m6515d6515\u001b[31m\n< Lecz głównie po to, aby z jej palca\n\u001b[0m6514a6515\u001b[32m\n> Lecz głównie po to, aby zdjąć z jej palca\n\u001b[0m6543,6544d6543\u001b[31m\n< Bądź jak bądź, stanę tu gdzie na uboczu,\n< Bo mu zły jakiś zamiar patrzy z oczu.\n\u001b[0m6542a6543,6544\u001b[32m\n> Bądź jak bądź, stanę tu na uboczu,\n> Bo mu zły zamiar patrzy z oczu.\n\u001b[0m6546d6546\u001b[31m\n< / oddala się /\n\u001b[0m6545a6546\u001b[32m\n> / oddala się\n\u001b[0m6563,6565d6563\u001b[31m\n< Żal, jak mniemają, sprowadził śmierć Julii;\n< I on tu przyszedł knuć jeszcze zamachy\n< Przeciw umarłym; muszę go powstrzymać,\n\u001b[0m6562a6563,6565\u001b[32m\n> Żal, jak mniemają, sprowadził śmierć\n> on tu przyszedł knuć jeszcze zamachy\n> Przeciw umarłym; muszę go\n\u001b[0m6588a6589\u001b[32m\n> PARYS\n\u001b[0m6590d6591\u001b[31m\n< \n\u001b[0m6597d6597\u001b[31m\n< Wyzywasz moją wściekłość, broń się\n\u001b[0m6596a6597\u001b[32m\n> Wyzywasz moją wściekłość, się zatem.\n\u001b[0m6613d6613\u001b[31m\n< Zabity jestem. O, jeśli masz\n\u001b[0m6612a6613\u001b[32m\n> Zabity jestem. O, jeśli masz litość,\n\u001b[0m6616d6616\u001b[31m\n< / umiera\n\u001b[0m6615a6616\u001b[32m\n> / umiera /\n\u001b[0m6623d6623\u001b[31m\n< Cóż to mi w drodze prawił mój służący?\n\u001b[0m6622a6623\u001b[32m\n> Cóż mi w drodze prawił mój służący?\n\u001b[0m6625,6626d6625\u001b[31m\n< Uwagi na to zwróciła; Parys,\n< Mówił, podobno miał zaślubić\n\u001b[0m6624a6625,6626\u001b[32m\n> Uwagi na to nie zwróciła; Parys,\n> Mówił, podobno miał zaślubić Julię.\n\u001b[0m6628d6628\u001b[31m\n< Czyli też jestem w obłąkaniu myśląc,\n\u001b[0m6627a6628\u001b[32m\n> Czyli też jestem w myśląc,\n\u001b[0m6634d6634\u001b[31m\n< W latarni raczej, bo Julia leży;\n\u001b[0m6633a6634\u001b[32m\n> W latarni raczej, bo tu Julia leży;\n\u001b[0m6642d6642\u001b[31m\n< Miewali chwile wesołe; ich stróże\n\u001b[0m6641a6642\u001b[32m\n> Miewali chwile wesołe; ich\n\u001b[0m6653,6655d6653\u001b[31m\n< Mogęż czym lepszym zadość uczynić,\n< Jak że ręką, co zabiła ciebie,\n< Przetnę dni co był twoim wrogiem?\n\u001b[0m6652a6653,6655\u001b[32m\n> Mogęż czym lepszym zadość ci uczynić,\n> Jak że tą ręką, co zabiła ciebie,\n> Przetnę dni tego, co był twoim wrogiem?\n\u001b[0m6663d6663\u001b[31m\n< nocy; tu, tu mieszkać będę\n\u001b[0m6662a6663\u001b[32m\n> Pałacu nocy; tu, tu mieszkać będę\n\u001b[0m6675d6675\u001b[31m\n< życia skołataną łódkę!\n\u001b[0m6674a6675\u001b[32m\n> Falami życia skołataną łódkę!\n\u001b[0m6681d6681\u001b[31m\n< Płyn twój całując — umieram.\n\u001b[0m6680a6681\u001b[32m\n> Płyn twój skutkuje: całując — umieram.\n\u001b[0m6685d6685\u001b[31m\n< / Wchodzi Ojciec Laurenty z przeciwnej strony cmentarza, z latarnią, żelaznym i rydlem. /\n\u001b[0m6684a6685\u001b[32m\n> / Wchodzi Ojciec z przeciwnej strony cmentarza, z latarnią, drągiem żelaznym i rydlem. /\n\u001b[0m6690,6691d6690\u001b[31m\n< Święty wspieraj mię! Jak często\n< O porze stare moje stopy\n\u001b[0m6689a6690,6691\u001b[32m\n> Święty Franciszku, wspieraj mię! Jak często\n> O takiej porze stare moje stopy\n\u001b[0m6702,6703d6702\u001b[31m\n< Bóg z tobą! Powiedz mi, mój\n< znaczy owa pochodnia świecąca\n\u001b[0m6701a6702,6703\u001b[32m\n> Bóg z tobą! Powiedz mi, mój przyjacielu,\n> Co znaczy owa pochodnia świecąca\n\u001b[0m6705d6705\u001b[31m\n< Nie tlejeż ona w grobach Kapuletów?\n\u001b[0m6704a6705\u001b[32m\n> Nie tlejeż w grobach Kapuletów?\n\u001b[0m6726d6726\u001b[31m\n< Jak dawno on tam\n\u001b[0m6725a6726\u001b[32m\n> Jak dawno on tam jest?!\n\u001b[0m6734d6734\u001b[31m\n< OJCIEC LAURENTY\n\u001b[0m6733a6734\u001b[32m\n> LAURENTY\n\u001b[0m6749d6749\u001b[31m\n< Zostań więc, ja sam pójdę. Drżę z obawy,\n\u001b[0m6748a6749\u001b[32m\n> Zostań więc, ja Drżę z obawy,\n\u001b[0m6760d6760\u001b[31m\n< OJCIEC LAURENTY\n\u001b[0m6759a6760\u001b[32m\n> OJCIEC\n\u001b[0m6772d6772\u001b[31m\n< Romeo! blady! — Parys! i także!\n\u001b[0m6771a6772\u001b[32m\n> blady! — Parys! i on\n\u001b[0m6775d6775\u001b[31m\n< Julia się budzi.\n\u001b[0m6774a6775\u001b[32m\n> Julia\n\u001b[0m6784d6784\u001b[31m\n< I też jestem; gdzie mój Romeo?\n\u001b[0m6783a6784\u001b[32m\n> I tam też jestem; lecz mój Romeo?\n\u001b[0m6792d6792\u001b[31m\n< Mieszkania śmierci, zgrozy i zniszczenia.\n\u001b[0m6791a6792\u001b[32m\n> Mieszkania śmierci, zgrozy zniszczenia.\n\u001b[0m6803d6803\u001b[31m\n<                          Nie mogę już\n\u001b[0m6802a6803\u001b[32m\n>                          Nie mogę już czekać.\n\u001b[0m6805d6805\u001b[31m\n< / wychodzi\n\u001b[0m6804a6805\u001b[32m\n> / wychodzi /\n\u001b[0m6810,6811d6810\u001b[31m\n< Idź z Bogiem, starcze; idź, ja tu zostanę.\n< Cóż to Czara w zaciśniętej dłoni\n\u001b[0m6809a6810,6811\u001b[32m\n> Idź z Bogiem, idź, ja tu zostanę.\n> Cóż to jest? w zaciśniętej dłoni\n\u001b[0m6817d6817\u001b[31m\n< Co mię zabije w upojeniu błogim.\n\u001b[0m6816a6817\u001b[32m\n> Co mię zabije w upojeniu\n\u001b[0m6846a6847\u001b[32m\n> PAŹ\n\u001b[0m6847a6849\u001b[32m\n> Tu, tu w miejscu, gdzie płonie pochodnia.\n\u001b[0m6849d6851\u001b[31m\n< Tu, tu w tym miejscu, gdzie płonie pochodnia.\n\u001b[0m6851d6852\u001b[31m\n< \n\u001b[0m6854d6854\u001b[31m\n< Ziemia zbroczona; obejdźcie krąg cmentarz\n\u001b[0m6853a6854\u001b[32m\n> Ziemia zbroczona; obejdźcie w krąg cmentarz\n\u001b[0m6857d6857\u001b[31m\n< / Wychodzi kilku ludzi z warty. /\n\u001b[0m6856a6857\u001b[32m\n> Wychodzi kilku ludzi z warty. /\n\u001b[0m6861d6861\u001b[31m\n< Tylko co zmarła; ona, co przed dwoma\n\u001b[0m6860a6861\u001b[32m\n> co zmarła; ona, co przed dwoma\n\u001b[0m6870d6870\u001b[31m\n< Lecz w jaki sposób ona miała miejsce,\n\u001b[0m6869a6870\u001b[32m\n> Lecz w jaki sposób miała miejsce,\n\u001b[0m6873d6873\u001b[31m\n< / Wchodzi kilku innych wartowników z Baltazarem. /\n\u001b[0m6872a6873\u001b[32m\n> / Wchodzi kilku wartowników z Baltazarem. /\n\u001b[0m6890d6890\u001b[31m\n< DRUGI WARTOWNIK\n\u001b[0m6889a6890\u001b[32m\n> DRUGI\n\u001b[0m6903,6904d6903\u001b[31m\n< Co za nieszczęście o tak rannej porze\n< Sen nasz przerwało i aż tu nas wzywa?\n\u001b[0m6902a6903,6904\u001b[32m\n> Co za nieszczęście o rannej porze\n> Sen nasz przerwało i aż tu wzywa?\n\u001b[0m6906d6906\u001b[31m\n< / Wchodzi Kapulet, Pani Kapulet i inne osoby. /\n\u001b[0m6905a6906\u001b[32m\n> / Wchodzi Kapulet, Pani Kapulet i inne\n\u001b[0m6929d6929\u001b[31m\n<                          Miłościwy Panie!\n\u001b[0m6928a6929\u001b[32m\n>                          Panie!\n\u001b[0m6932d6932\u001b[31m\n< A teraz ciepła z puginałem w piersi.\n\u001b[0m6931a6932\u001b[32m\n> teraz ciepła puginałem w piersi.\n\u001b[0m6937d6937\u001b[31m\n< śledźcie sprawców tego mordu.\n\u001b[0m6936a6937\u001b[32m\n> Szukajcie, śledźcie sprawców tego\n\u001b[0m6950,6951d6950\u001b[31m\n< O nieba! żono, patrz, jak ją krew broczy!\n< Puginał z drogi; oto bowiem\n\u001b[0m6949a6950,6951\u001b[32m\n> O żono, patrz, jak ją krew broczy!\n> Puginał zbłądził drogi; oto bowiem\n\u001b[0m6959d6959\u001b[31m\n< Ostrzega starość mą o chwili zgonu.\n\u001b[0m6958a6959\u001b[32m\n> Ostrzega starość o chwili zgonu.\n\u001b[0m6961d6961\u001b[31m\n< / Wchodzi Monteki i inne osoby.\n\u001b[0m6960a6961\u001b[32m\n> / Wchodzi Monteki i inne osoby. /\n\u001b[0m6966d6966\u001b[31m\n< Monteki, wcześnie wstałeś, ujrzeć\n\u001b[0m6965a6966\u001b[32m\n> Monteki, wcześnie wstałeś, aby ujrzeć\n\u001b[0m6972d6972\u001b[31m\n< Ach! miłościwy książę,\n\u001b[0m6971a6972\u001b[32m\n> Ach! miłościwy książę, żona moja\n\u001b[0m6994,6996d6994\u001b[31m\n< I będę boleści heroldem.\n< Do samej śmierci. Proszę was o spokój\n< I niech ulegnie zły los cierpliwości.\n\u001b[0m6993a6994,6996\u001b[32m\n> I będę waszej boleści heroldem.\n> Do samej Proszę was o spokój\n> niech ulegnie zły los cierpliwości.\n\u001b[0m7004,7005d7004\u001b[31m\n< Jestem, ze względu na okoliczności,\n< Poszlakowany najprawdopodobniej\n\u001b[0m7003a7004,7005\u001b[32m\n> Jestem, ze względu na\n> \n\u001b[0m7014d7014\u001b[31m\n< Mów, czegoś świadom.\n\u001b[0m7013a7014\u001b[32m\n> czegoś świadom.\n\u001b[0m7019d7019\u001b[31m\n<                          Zwięźle rzecz opowiem.\n\u001b[0m7018a7019\u001b[32m\n> Zwięźle rzecz opowiem.\n\u001b[0m7022d7022\u001b[31m\n< tu leżą, był małżonkiem Julii,\n\u001b[0m7021a7022\u001b[32m\n> Zwłoki tu leżą, był małżonkiem Julii,\n\u001b[0m7024,7026d7024\u001b[31m\n< Jam ich zaślubił, a dniem tajemnego\n< Ich połączenia był dzień nieszczęsnej\n< Tybalta śmierci, która\n\u001b[0m7023a7024,7026\u001b[32m\n> Jam zaślubił, a dniem tajemnego\n> Ich połączenia był ów dzień nieszczęsnej\n> Tybalta śmierci, która nowożeńca\n\u001b[0m7034,7035d7034\u001b[31m\n< hrabią Parysem chcieliście ją zmusić.\n< W tej alternacie przyszła ona mnie\n\u001b[0m7033a7034,7035\u001b[32m\n> Z hrabią Parysem chcieliście ją zmusić.\n> W tej alternacie przyszła ona do mnie\n\u001b[0m7039d7039\u001b[31m\n< Mógł ją uwolnić; w przeciwnym zaś razie\n\u001b[0m7038a7039\u001b[32m\n> ją uwolnić; w przeciwnym zaś razie\n\u001b[0m7042,7043d7042\u001b[31m\n< Usypiające krople, których skutek\n< Bynajmniej mię nie zawiódł, bo nadał\n\u001b[0m7041a7042,7043\u001b[32m\n> Usypiające krople, których\n> Bynajmniej mię nie zawiódł, bo jej nadał\n\u001b[0m7045d7045\u001b[31m\n< List do wzywając go, aby\n\u001b[0m7044a7045\u001b[32m\n> List do Romea, wzywając go,\n\u001b[0m7048d7048\u001b[31m\n< Zszedł się tu mną dla wyswobodzenia\n\u001b[0m7047a7048\u001b[32m\n> Zszedł się tu ze mną dla wyswobodzenia\n\u001b[0m7053d7053\u001b[31m\n< List mi zwrócił. O godzinie zatem\n\u001b[0m7052a7053\u001b[32m\n> List ten mi zwrócił. O godzinie zatem\n\u001b[0m7060,7061d7060\u001b[31m\n< Leżał bez duszy i Romeo także.\n< Ona się budzi, jam jął przekładać,\n\u001b[0m7059a7060,7061\u001b[32m\n> Leżał bez duszy i także.\n> Ona się budzi, jam się jął przekładać,\n\u001b[0m7070,7071d7070\u001b[31m\n< Choć najmniej z mojej nastąpiło winy,\n< Niech mój sędziwy wiek odpowie za to,\n\u001b[0m7069a7070,7071\u001b[32m\n> Choć z mojej nastąpiło winy,\n> Niech mój sędziwy wiek odpowie to,\n\u001b[0m7078,7079d7078\u001b[31m\n< Jako mąż święty zawsześ nam był znany.\n< Gdzie jest Romea sługa? Cóż on powie?\n\u001b[0m7077a7078,7079\u001b[32m\n> Jako mąż święty nam był znany.\n> Gdzie jest Romea sługa? Cóż on\n\u001b[0m7084,7085d7084\u001b[31m\n< panu wieść o śmierci Julii;\n< Wraz on wziął pocztę i z Mantui\n\u001b[0m7083a7084,7085\u001b[32m\n> Zaniosłem panu wieść o śmierci Julii;\n> Wraz on wziął pocztę i z Mantui przybył\n\u001b[0m7094d7094\u001b[31m\n< Daj mi to pismo, przejrzę je — a teraz,\n\u001b[0m7093a7094\u001b[32m\n> Daj mi to pismo, przejrzę je a teraz,\n\u001b[0m7110d7110\u001b[31m\n< ten potwierdza słowa zakonnika,\n\u001b[0m7109a7110\u001b[32m\n> List ten potwierdza słowa zakonnika,\n\u001b[0m7112,7113d7112\u001b[31m\n< Biedny młodzieniec pisze oprócz\n< Że sobie kupił gdzieś u aptekarza\n\u001b[0m7111a7112,7113\u001b[32m\n> Biedny młodzieniec pisze oprócz tego,\n> sobie kupił gdzieś u aptekarza\n\u001b[0m7115,7116d7115\u001b[31m\n< W tu grobowcu, by umrzeć przy Julii.\n< Rzecz jasna! Gdzie są ci nieprzyjaciele?\n\u001b[0m7114a7115,7116\u001b[32m\n> W tym tu grobowcu, by umrzeć przy Julii.\n> Rzecz jasna! Gdzie są ci\n\u001b[0m7118,7119d7118\u001b[31m\n< Chłosta spotyka wasze nienawiści,\n< Niebo obrało miłość za narzędzie\n\u001b[0m7117a7118,7119\u001b[32m\n> Chłosta wasze nienawiści,\n> Niebo obrało miłość za\n\u001b[0m7122d7122\u001b[31m\n< Waszym niesnaskom straciłem dwóch krewnych.\n\u001b[0m7121a7122\u001b[32m\n> niesnaskom straciłem dwóch krewnych.\n\u001b[0m7128d7128\u001b[31m\n< Monteki, bracie mój, podaj mi rękę;\n\u001b[0m7127a7128\u001b[32m\n> Monteki, bracie mój, podaj rękę;\n\u001b[0m7140d7140\u001b[31m\n< Jak ten, pamięci Julii poświęcony.\n\u001b[0m7139a7140\u001b[32m\n> ten, pamięci Julii poświęcony.\n\u001b[0m7153d7153\u001b[31m\n< bowiem los jeszcze nie zdarzył,\n\u001b[0m7152a7153\u001b[32m\n> Smutniejszej bowiem los jeszcze nie zdarzył,\n\u001b[0m7163d7163\u001b[31m\n< Wersja lektury w opracowaniu merytorycznym i krytycznym (przypisy i motywy) dostępna jest na stronie http://wolnelektury.pl/katalog/lektura/romeo-i-julia.\n\u001b[0m7162a7163\u001b[32m\n> Wersja lektury w opracowaniu i krytycznym (przypisy i motywy) dostępna jest na http://wolnelektury.pl/katalog/lektura/romeo-i-julia.\n\u001b[0m7165d7165\u001b[31m\n< Utwór opracowany został w ramach projektu Wolne Lektury przez fundację Nowoczesna Polska.\n\u001b[0m7164a7165\u001b[32m\n> opracowany został w ramach projektu Wolne Lektury fundację Nowoczesna Polska.\n\u001b[0m7167d7167\u001b[31m\n< Ten utwór nie objęty majątkowym prawem autorskim i znajduje się w domenie publicznej, co oznacza że możesz go swobodnie wykorzystywać, publikować rozpowszechniać. jest dodatkowymi materiałami (przypisy, motywy literackie etc.), które podlegają prawu autorskiemu, to te dodatkowe materiały udostępnione są na licencji Creative Commons Uznanie Autorstwa – Na Tych Samych Warunkach 3.0 PL (http://creativecommons.org/licenses/by-sa/3.0/).\n\u001b[0m7166a7167\u001b[32m\n> Ten utwór nie jest objęty majątkowym prawem autorskim i znajduje się w domenie publicznej, co oznacza że możesz go swobodnie wykorzystywać, publikować i rozpowszechniać. Jeśli utwór opatrzony jest dodatkowymi materiałami (przypisy, motywy literackie etc.), które podlegają prawu autorskiemu, to te dodatkowe materiały udostępnione są na licencji Creative Commons Uznanie Autorstwa – Na Samych Warunkach 3.0 PL (http://creativecommons.org/licenses/by-sa/3.0/).\n\u001b[0m7169d7169\u001b[31m\n< Tekst opracowany na podstawie: William Shakespeare, Romeo i tłum. Józef Paszkowski, Państwowy Instytut Wydawniczy, wyd. Warszawa, 1975\n\u001b[0m7168a7169\u001b[32m\n> Tekst opracowany na podstawie: William Shakespeare, Romeo i Julia, tłum. Józef Paszkowski, Państwowy Instytut Wydawniczy, wyd. 5, Warszawa, 1975\n\u001b[0m7173d7173\u001b[31m\n< Publikacja zrealizowana w ramach projektu Wolne Lektury (http://wolnelektury.pl). Reprodukcja cyfrowa wykonana przez Bibliotekę Narodową z egzemplarza pochodzącego ze zbiorów BN.\n\u001b[0m7172a7173\u001b[32m\n> Publikacja zrealizowana ramach projektu Wolne Lektury (http://wolnelektury.pl). Reprodukcja cyfrowa wykonana przez Bibliotekę Narodową z egzemplarza pochodzącego ze zbiorów BN.\n\u001b[0m7177d7177\u001b[31m\n< ISBN 978-83-288-2903-9\n\u001b[0m7176a7177\u001b[32m\n> ISBN\n\u001b[0m\n"
    }
   ],
   "source": [
    "diff_files(file1, file2)"
   ]
  },
  {
   "cell_type": "code",
   "execution_count": null,
   "metadata": {},
   "outputs": [],
   "source": []
  }
 ],
 "metadata": {
  "kernelspec": {
   "display_name": "Python 3",
   "language": "python",
   "name": "python3"
  },
  "language_info": {
   "codemirror_mode": {
    "name": "ipython",
    "version": 3
   },
   "file_extension": ".py",
   "mimetype": "text/x-python",
   "name": "python",
   "nbconvert_exporter": "python",
   "pygments_lexer": "ipython3",
   "version": "3.7.7-final"
  }
 },
 "nbformat": 4,
 "nbformat_minor": 2
}