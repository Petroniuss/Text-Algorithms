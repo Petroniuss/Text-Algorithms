{
 "cells": [
  {
   "cell_type": "markdown",
   "metadata": {},
   "source": [
    "# Edit distance  \n",
    "\n",
    "Please note that the visualization is an animation, so it's necessary \n",
    "to run cells with `import` and `visualize`."
   ]
  },
  {
   "cell_type": "code",
   "execution_count": 1,
   "metadata": {},
   "outputs": [
    {
     "data": {
      "text/plain": [
       "array([[0., 1., 2., 3., 4., 5., 6.],\n",
       "       [1., 0., 1., 2., 3., 4., 5.],\n",
       "       [2., 1., 0., 1., 2., 3., 4.],\n",
       "       [3., 2., 1., 1., 2., 3., 3.]])"
      ]
     },
     "execution_count": 1,
     "metadata": {},
     "output_type": "execute_result"
    }
   ],
   "source": [
    "from edit import edit_table, edit_distance, visualize\n",
    "\n",
    "x, y = 'ala', 'alicja'\n",
    "edit_table(x, y)"
   ]
  },
  {
   "cell_type": "code",
   "execution_count": 2,
   "metadata": {},
   "outputs": [
    {
     "data": {
      "text/plain": [
       "3.0"
      ]
     },
     "execution_count": 2,
     "metadata": {},
     "output_type": "execute_result"
    }
   ],
   "source": [
    "edit_distance(x,y)"
   ]
  },
  {
   "cell_type": "code",
   "execution_count": 3,
   "metadata": {},
   "outputs": [
    {
     "name": "stdout",
     "output_type": "stream",
     "text": [
      "------------------------\n",
      "alicja\n",
      "      ↑\n",
      "alicja\n",
      "      ↑\n",
      "------------------------\n",
      "DONE.. edit distance: 3\n"
     ]
    }
   ],
   "source": [
    "visualize(x, y, sleep_for=1.2)"
   ]
  },
  {
   "cell_type": "markdown",
   "metadata": {},
   "source": [
    "## Examples"
   ]
  },
  {
   "cell_type": "code",
   "execution_count": 4,
   "metadata": {},
   "outputs": [
    {
     "name": "stdout",
     "output_type": "stream",
     "text": [
      "------------------------\n",
      "kloc\n",
      "    ↑\n",
      "kloc\n",
      "    ↑\n",
      "------------------------\n",
      "DONE.. edit distance: 2\n"
     ]
    }
   ],
   "source": [
    "x, y = 'los', 'kloc'\n",
    "visualize(x, y)"
   ]
  },
  {
   "cell_type": "code",
   "execution_count": 5,
   "metadata": {},
   "outputs": [
    {
     "name": "stdout",
     "output_type": "stream",
     "text": [
      "------------------------\n",
      "Lodz\n",
      "    ↑\n",
      "Lodz\n",
      "    ↑\n",
      "------------------------\n",
      "DONE.. edit distance: 3\n"
     ]
    }
   ],
   "source": [
    "x, y = 'Łódź', 'Lodz'\n",
    "visualize(x, y)"
   ]
  },
  {
   "cell_type": "code",
   "execution_count": 6,
   "metadata": {},
   "outputs": [
    {
     "name": "stdout",
     "output_type": "stream",
     "text": [
      "------------------------\n",
      "quintessence\n",
      "            ↑\n",
      "quintessence\n",
      "            ↑\n",
      "------------------------\n",
      "DONE.. edit distance: 5\n"
     ]
    }
   ],
   "source": [
    "x, y = 'kwintesencja', 'quintessence'\n",
    "visualize(x, y)"
   ]
  },
  {
   "cell_type": "code",
   "execution_count": 8,
   "metadata": {},
   "outputs": [
    {
     "name": "stdout",
     "output_type": "stream",
     "text": [
      "------------------------\n",
      "ATGAGGCTCTGGCCCCTG\n",
      "                  ↑\n",
      "ATGAGGCTCTGGCCCCTG\n",
      "                  ↑\n",
      "------------------------\n",
      "DONE.. edit distance: 7\n"
     ]
    }
   ],
   "source": [
    "x, y = 'ATGAATCTTACCGCCTCG', 'ATGAGGCTCTGGCCCCTG'\n",
    "visualize(x, y)"
   ]
  },
  {
   "cell_type": "code",
   "execution_count": null,
   "metadata": {},
   "outputs": [],
   "source": []
  }
 ],
 "metadata": {
  "kernelspec": {
   "display_name": "Python 3",
   "language": "python",
   "name": "python3"
  },
  "language_info": {
   "codemirror_mode": {
    "name": "ipython",
    "version": 3
   },
   "file_extension": ".py",
   "mimetype": "text/x-python",
   "name": "python",
   "nbconvert_exporter": "python",
   "pygments_lexer": "ipython3",
   "version": "3.7.6"
  }
 },
 "nbformat": 4,
 "nbformat_minor": 2
}
